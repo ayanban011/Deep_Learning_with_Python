{
 "cells": [
  {
   "attachments": {},
   "cell_type": "markdown",
   "metadata": {},
   "source": [
    "# Convolutional Neural Networks for MNIST Digit Detection"
   ]
  },
  {
   "attachments": {},
   "cell_type": "markdown",
   "metadata": {},
   "source": [
    "In this notebook we will learn how to implement a convolutional neural network (CNN) detect digits of the MNIST dataset. We will use the Pytorch library for the implementation, compilation and training of the model.\n",
    "\n",
    "The input to our model is a $64 \\times 64$ image with a MNIST digit at any location, and the output of the model are four real numbers that define a bounding box (x, y, width, and height) around the digit and its class."
   ]
  },
  {
   "attachments": {},
   "cell_type": "markdown",
   "metadata": {},
   "source": [
    "### Import necessary modules"
   ]
  },
  {
   "cell_type": "code",
   "execution_count": 1,
   "metadata": {},
   "outputs": [
    {
     "name": "stdout",
     "output_type": "stream",
     "text": [
      "tensor([1.], device='mps:0')\n",
      "mps\n"
     ]
    }
   ],
   "source": [
    "import torch\n",
    "import torch.nn as nn\n",
    "import torch.nn.functional as F\n",
    "import torch.optim as optim\n",
    "from torch.utils.data import Dataset, DataLoader\n",
    "from torchvision import datasets, transforms\n",
    "from torch.optim.lr_scheduler import StepLR\n",
    "\n",
    "import numpy as np\n",
    "import matplotlib.pyplot as plt\n",
    "\n",
    "# setup cuda\n",
    "use_cuda = torch.cuda.is_available()\n",
    "device = torch.device(\"mps\")\n",
    "x = torch.ones(1, device=device)\n",
    "print (x)\n",
    "print(device)"
   ]
  },
  {
   "attachments": {},
   "cell_type": "markdown",
   "metadata": {},
   "source": [
    "## Create a custom dataset"
   ]
  },
  {
   "attachments": {},
   "cell_type": "markdown",
   "metadata": {},
   "source": [
    "First of all we need a custom dataset class to create our training/test samples. This class creates synthetic images by placing MNIST numbers (wich have a size $28 \\times 28$) at random locations of a black $64 \\times 64$ canvas image."
   ]
  },
  {
   "cell_type": "code",
   "execution_count": 19,
   "metadata": {},
   "outputs": [],
   "source": [
    "class MNISTdetectionDataset(Dataset):\n",
    "    \"\"\"MNIST localization toy dataset.\"\"\"\n",
    "\n",
    "    def __init__(self, imgsize=(64,64), train=True, transform=None):\n",
    "        \"\"\"\n",
    "        Args:\n",
    "            imgsize (tuple (int,int), optional) - the size of generated images,\n",
    "                both width and height must be > 48\n",
    "            train (bool, optional) – If True, creates dataset from MNIST training\n",
    "                samples, otherwise from test\n",
    "            transform (callable, optional): Optional transform to be applied\n",
    "                on a sample.\n",
    "        \"\"\"\n",
    "        assert len(imgsize)==2 and imgsize[0] > 48 and imgsize[1] > 48\n",
    "        self.imgsize = imgsize\n",
    "        self.transform = transform\n",
    "        self.mnist = datasets.MNIST('../data', train=train, download=True)\n",
    "        self.classes = [t[1] for t in self.mnist]\n",
    "\n",
    "    def __len__(self):\n",
    "        return self.mnist.data.shape[0]\n",
    "\n",
    "    def __getitem__(self, idx):\n",
    "        if torch.is_tensor(idx):\n",
    "            idx = idx.tolist()\n",
    "        #print(idx)\n",
    "        image = torch.zeros(self.imgsize)\n",
    "        digit_img = self.mnist.data[idx,:,:]\n",
    "\n",
    "        # copy the MNIST digit into a random location\n",
    "        x_offset = np.random.randint(0,self.imgsize[0]-28)\n",
    "        y_offset = np.random.randint(0,self.imgsize[1]-28)\n",
    "        if(idx % 17 == 0):\n",
    "            image = torch.zeros(self.imgsize)\n",
    "            image = image.reshape((1,)+self.imgsize)\n",
    "        else:\n",
    "            image[y_offset:y_offset+28,x_offset:x_offset+28] = digit_img\n",
    "            image = image.reshape((1,)+self.imgsize) # must be a tensor image of size (C, H, W)\n",
    "        \n",
    "        if self.transform:\n",
    "            image = self.transform(image)\n",
    "\n",
    "        # normalize the target values so they are real numbers from 0. to 1.\n",
    "        bbox = np.array([x_offset / self.imgsize[0], y_offset / self.imgsize[1], \n",
    "                         28. / self.imgsize[0], 28. / self.imgsize[1]], dtype=np.float32)\n",
    "        #y = np.asarray(digit_img[idx]['label'])\n",
    "        if(idx % 17 == 0):\n",
    "            sample = {'image': image, 'bbox': np.array([0, 0, 0, 0], dtype = np.float32), 'label': 17}\n",
    "        else:\n",
    "            sample = {'image': image, 'bbox': bbox, 'label': self.classes[idx]}\n",
    "\n",
    "        return sample"
   ]
  },
  {
   "attachments": {},
   "cell_type": "markdown",
   "metadata": {},
   "source": [
    "Now we can create the necessary Dataset and DataLoader objects as follows."
   ]
  },
  {
   "cell_type": "code",
   "execution_count": 20,
   "metadata": {},
   "outputs": [],
   "source": [
    "transform=transforms.Compose([\n",
    "        transforms.Normalize((0.1307,), (0.3081,))\n",
    "        ])\n",
    "\n",
    "dataset1 = MNISTdetectionDataset(train=True, transform=transform)\n",
    "dataset2 = MNISTdetectionDataset(train=False, transform=transform)\n",
    "\n",
    "train_kwargs = {'batch_size': 64}\n",
    "test_kwargs  = {'batch_size': 1000}\n",
    "\n",
    "if use_cuda:\n",
    "    cuda_kwargs = {'num_workers': 1,\n",
    "                   'pin_memory': True,\n",
    "                   'shuffle': True}\n",
    "    train_kwargs.update(cuda_kwargs)\n",
    "    test_kwargs.update(cuda_kwargs)\n",
    "\n",
    "train_loader = DataLoader(dataset1, **train_kwargs)\n",
    "test_loader = DataLoader(dataset2, **test_kwargs)"
   ]
  },
  {
   "attachments": {},
   "cell_type": "markdown",
   "metadata": {},
   "source": [
    "### Visualize some generated samples"
   ]
  },
  {
   "cell_type": "code",
   "execution_count": 21,
   "metadata": {},
   "outputs": [
    {
     "name": "stdout",
     "output_type": "stream",
     "text": [
      "0 torch.Size([1, 64, 64]) (4,)\n",
      "1 torch.Size([1, 64, 64]) (4,)\n",
      "2 torch.Size([1, 64, 64]) (4,)\n",
      "3 torch.Size([1, 64, 64]) (4,)\n"
     ]
    },
    {
     "data": {
      "image/png": "[encoded data removed]",
      "text/plain": [
       "<Figure size 640x480 with 4 Axes>"
      ]
     },
     "metadata": {},
     "output_type": "display_data"
    }
   ],
   "source": [
    "def show_bbox(image, bbox, label, pred=None):\n",
    "    \"\"\"Show image with bbox\"\"\"\n",
    "    image = image.squeeze()\n",
    "    plt.imshow(image)\n",
    "    plt.title(label)\n",
    "    # plot the ground truth bounding box\n",
    "    imgsize = image.shape\n",
    "    bbox *= [imgsize[0],imgsize[1],imgsize[0],imgsize[1]]\n",
    "    plt.plot([bbox[0],bbox[0]+bbox[2],bbox[0]+bbox[2],bbox[0],bbox[0]],\n",
    "             [bbox[1],bbox[1],bbox[1]+bbox[3],bbox[1]+bbox[3],bbox[1]], c='r')\n",
    "\n",
    "    if pred is not None: \n",
    "        # plot the predicted bounding box (if provided)\n",
    "        pred *= [imgsize[0],imgsize[1],imgsize[0],imgsize[1]]\n",
    "        plt.plot([pred[0][0],pred[0][0]+pred[0][2],pred[0][0]+pred[0][2],pred[0][0],pred[0][0]],\n",
    "                 [pred[0][1],pred[0][1],pred[0][1]+pred[0][3],pred[0][1]+pred[0][3],pred[0][1]], c='b')\n",
    "    \n",
    "    \n",
    " \n",
    "fig = plt.figure()\n",
    "for i in range(len(dataset1)):\n",
    "    sample = dataset1[i]\n",
    "    print(i, sample['image'].shape, sample['bbox'].shape)\n",
    "    ax = plt.subplot(1, 4, i + 1)\n",
    "    plt.tight_layout()\n",
    "    ax.set_title('Sample #{}'.format(i))\n",
    "    ax.axis('off')\n",
    "    show_bbox(**sample)\n",
    "\n",
    "    if i == 3:\n",
    "        plt.show()\n",
    "        break"
   ]
  },
  {
   "cell_type": "code",
   "execution_count": 22,
   "metadata": {},
   "outputs": [
    {
     "name": "stdout",
     "output_type": "stream",
     "text": [
      "Size of training data: 60000\n",
      "Size of test data: 10000\n"
     ]
    }
   ],
   "source": [
    "# check the size of the dataset\n",
    "print(\"Size of training data: {}\".format(len(dataset1)))\n",
    "print(\"Size of test data: {}\".format(len(dataset2)))"
   ]
  },
  {
   "attachments": {},
   "cell_type": "markdown",
   "metadata": {},
   "source": [
    "We have 60,000 images for training and 10,000 for testing. The image size is $64 \\times 64$ pixels and they have only one channel (greyscale images)."
   ]
  },
  {
   "attachments": {},
   "cell_type": "markdown",
   "metadata": {},
   "source": [
    "## Create the CNN regression + classification model\n",
    "\n",
    "We will use a simple CNN model with two convolutional layers, one pooling layer, and two fully connected layers. We will use also Dropout to help regularizing the model. \n",
    "\n",
    "Notice that the output layer has four neurons with a `sigmoid` and a `softmax` activation, so our model produces at its outputs four real numbers (x,y,width, and height)."
   ]
  },
  {
   "cell_type": "code",
   "execution_count": 23,
   "metadata": {},
   "outputs": [],
   "source": [
    "class Net(nn.Module):\n",
    "    def __init__(self):\n",
    "        super(Net, self).__init__()\n",
    "        self.conv1 = nn.Conv2d(1, 32, 3, 1)\n",
    "        self.conv2 = nn.Conv2d(32, 64, 3, 1)\n",
    "        self.dropout1 = nn.Dropout(0.25)\n",
    "        self.dropout2 = nn.Dropout(0.5)\n",
    "        #Regression\n",
    "        self.fc1 = nn.Linear(57600, 256)\n",
    "        self.fc2 = nn.Linear(256, 4)\n",
    "        #Classification\n",
    "        self.fc3 = nn.Linear(57600, 256)\n",
    "        self.fc4 = nn.Linear(256, 10)\n",
    "        #Confidence\n",
    "        self.fc5 = nn.Linear(57600, 256)\n",
    "        self.fc6 = nn.Linear(256, 1)\n",
    "\n",
    "    def forward(self, x):\n",
    "        x = self.conv1(x)\n",
    "        x = F.relu(x)\n",
    "        x = self.conv2(x)\n",
    "        x = F.relu(x)\n",
    "        x = F.max_pool2d(x, 2)\n",
    "        x = self.dropout1(x)\n",
    "        x = torch.flatten(x, 1)\n",
    "        #classification\n",
    "        x_clf = F.relu(self.fc3(x))\n",
    "        x_clf = self.fc4(x_clf)\n",
    "        #regression\n",
    "        x_reg = self.fc1(x)\n",
    "        x_reg = F.sigmoid(x_reg)\n",
    "        x_reg = self.dropout2(x_reg)\n",
    "        x_reg = self.fc2(x_reg)\n",
    "        x_reg = F.sigmoid(x_reg)\n",
    "        #confidence\n",
    "        x_conf = self.fc5(x)\n",
    "        x_conf = F.sigmoid(x_conf)\n",
    "        x_conf = self.fc6(x_conf)\n",
    "        x_conf = F.sigmoid(x_conf)\n",
    "        return x_clf,x_reg,x_conf"
   ]
  },
  {
   "attachments": {},
   "cell_type": "markdown",
   "metadata": {},
   "source": [
    "### Define the training method\n",
    "\n",
    "For training our CNN regression model we will use the L1 loss, which takes the mean element-wise absolute value difference.\n",
    "\n",
    "See <a href=\"https://pytorch.org/docs/stable/generated/torch.nn.L1Loss.html#torch.nn.L1Loss\">`torch.nn.L1Loss`</a> for details."
   ]
  },
  {
   "cell_type": "code",
   "execution_count": 24,
   "metadata": {},
   "outputs": [],
   "source": [
    "def train(model, device, train_loader, optimizer, epoch):\n",
    "    model.train()\n",
    "    loss_values = []\n",
    "    criterion_clf = nn.CrossEntropyLoss()\n",
    "    for batch_idx, sample_batched in enumerate(train_loader):\n",
    "        data = sample_batched['image']\n",
    "        target = sample_batched['bbox']\n",
    "        label = sample_batched['label']\n",
    "        data, target, label = data.to(device), target.to(device), label.to(device)\n",
    "        optimizer.zero_grad()\n",
    "        outputs_clf, outputs_reg, outputs_conf = model(data)\n",
    "        loss = (F.l1_loss(outputs_reg, target) + criterion_clf(outputs_clf, label))*F.l1_loss(outputs_conf, target)\n",
    "        loss_values.append(loss.cpu().detach().numpy())\n",
    "        loss.backward()\n",
    "        optimizer.step()\n",
    "        if batch_idx % log_interval == 0:\n",
    "            print('Train Epoch: {} [{}/{} ({:.0f}%)]\\tLoss: {:.6f}'.format(\n",
    "                epoch, batch_idx * len(data), len(train_loader.dataset),\n",
    "                100. * batch_idx / len(train_loader), loss.item()))\n",
    "    return loss_values"
   ]
  },
  {
   "attachments": {},
   "cell_type": "markdown",
   "metadata": {},
   "source": [
    "### Train the model"
   ]
  },
  {
   "cell_type": "code",
   "execution_count": 25,
   "metadata": {},
   "outputs": [
    {
     "name": "stderr",
     "output_type": "stream",
     "text": [
      "/var/folders/d_/0g_w8mls3jb45q24svvm3g_h0000gn/T/ipykernel_1316/4289343161.py:12: UserWarning: Using a target size (torch.Size([64, 4])) that is different to the input size (torch.Size([64, 1])). This will likely lead to incorrect results due to broadcasting. Please ensure they have the same size.\n",
      "  loss = (F.l1_loss(outputs_reg, target) + criterion_clf(outputs_clf, label))*F.l1_loss(outputs_conf, target)\n",
      "/opt/anaconda3/envs/m5/lib/python3.9/site-packages/torch/autograd/__init__.py:200: UserWarning: The operator 'aten::sgn.out' is not currently supported on the MPS backend and will fall back to run on the CPU. This may have performance implications. (Triggered internally at /Users/runner/work/_temp/anaconda/conda-bld/pytorch_1678402353079/work/aten/src/ATen/mps/MPSFallback.mm:11.)\n",
      "  Variable._execution_engine.run_backward(  # Calls into the C++ engine to run the backward pass\n"
     ]
    },
    {
     "name": "stdout",
     "output_type": "stream",
     "text": [
      "Train Epoch: 1 [0/60000 (0%)]\tLoss: 1.429697\n",
      "Train Epoch: 1 [6400/60000 (11%)]\tLoss: 0.165272\n",
      "Train Epoch: 1 [12800/60000 (21%)]\tLoss: 0.169969\n",
      "Train Epoch: 1 [19200/60000 (32%)]\tLoss: 0.129926\n",
      "Train Epoch: 1 [25600/60000 (43%)]\tLoss: 0.121724\n",
      "Train Epoch: 1 [32000/60000 (53%)]\tLoss: 0.072544\n",
      "Train Epoch: 1 [38400/60000 (64%)]\tLoss: 0.075695\n",
      "Train Epoch: 1 [44800/60000 (75%)]\tLoss: 0.069369\n",
      "Train Epoch: 1 [51200/60000 (85%)]\tLoss: 0.063851\n",
      "Train Epoch: 1 [57600/60000 (96%)]\tLoss: 0.047604\n"
     ]
    },
    {
     "name": "stderr",
     "output_type": "stream",
     "text": [
      "/var/folders/d_/0g_w8mls3jb45q24svvm3g_h0000gn/T/ipykernel_1316/4289343161.py:12: UserWarning: Using a target size (torch.Size([32, 4])) that is different to the input size (torch.Size([32, 1])). This will likely lead to incorrect results due to broadcasting. Please ensure they have the same size.\n",
      "  loss = (F.l1_loss(outputs_reg, target) + criterion_clf(outputs_clf, label))*F.l1_loss(outputs_conf, target)\n"
     ]
    },
    {
     "name": "stdout",
     "output_type": "stream",
     "text": [
      "Train Epoch: 2 [0/60000 (0%)]\tLoss: 0.053353\n",
      "Train Epoch: 2 [6400/60000 (11%)]\tLoss: 0.042106\n",
      "Train Epoch: 2 [12800/60000 (21%)]\tLoss: 0.025460\n",
      "Train Epoch: 2 [19200/60000 (32%)]\tLoss: 0.039601\n",
      "Train Epoch: 2 [25600/60000 (43%)]\tLoss: 0.026533\n",
      "Train Epoch: 2 [32000/60000 (53%)]\tLoss: 0.028716\n",
      "Train Epoch: 2 [38400/60000 (64%)]\tLoss: 0.028595\n",
      "Train Epoch: 2 [44800/60000 (75%)]\tLoss: 0.023860\n",
      "Train Epoch: 2 [51200/60000 (85%)]\tLoss: 0.035492\n",
      "Train Epoch: 2 [57600/60000 (96%)]\tLoss: 0.009841\n",
      "Train Epoch: 3 [0/60000 (0%)]\tLoss: 0.030009\n",
      "Train Epoch: 3 [6400/60000 (11%)]\tLoss: 0.027362\n",
      "Train Epoch: 3 [12800/60000 (21%)]\tLoss: 0.015571\n",
      "Train Epoch: 3 [19200/60000 (32%)]\tLoss: 0.028386\n",
      "Train Epoch: 3 [25600/60000 (43%)]\tLoss: 0.019741\n",
      "Train Epoch: 3 [32000/60000 (53%)]\tLoss: 0.019130\n",
      "Train Epoch: 3 [38400/60000 (64%)]\tLoss: 0.027591\n",
      "Train Epoch: 3 [44800/60000 (75%)]\tLoss: 0.020709\n",
      "Train Epoch: 3 [51200/60000 (85%)]\tLoss: 0.025828\n",
      "Train Epoch: 3 [57600/60000 (96%)]\tLoss: 0.010968\n",
      "Train Epoch: 4 [0/60000 (0%)]\tLoss: 0.013180\n",
      "Train Epoch: 4 [6400/60000 (11%)]\tLoss: 0.020995\n",
      "Train Epoch: 4 [12800/60000 (21%)]\tLoss: 0.019306\n",
      "Train Epoch: 4 [19200/60000 (32%)]\tLoss: 0.022349\n",
      "Train Epoch: 4 [25600/60000 (43%)]\tLoss: 0.035599\n",
      "Train Epoch: 4 [32000/60000 (53%)]\tLoss: 0.017433\n",
      "Train Epoch: 4 [38400/60000 (64%)]\tLoss: 0.017404\n",
      "Train Epoch: 4 [44800/60000 (75%)]\tLoss: 0.010081\n",
      "Train Epoch: 4 [51200/60000 (85%)]\tLoss: 0.031099\n",
      "Train Epoch: 4 [57600/60000 (96%)]\tLoss: 0.009220\n",
      "Train Epoch: 5 [0/60000 (0%)]\tLoss: 0.019805\n",
      "Train Epoch: 5 [6400/60000 (11%)]\tLoss: 0.033701\n",
      "Train Epoch: 5 [12800/60000 (21%)]\tLoss: 0.012832\n",
      "Train Epoch: 5 [19200/60000 (32%)]\tLoss: 0.010215\n",
      "Train Epoch: 5 [25600/60000 (43%)]\tLoss: 0.012877\n",
      "Train Epoch: 5 [32000/60000 (53%)]\tLoss: 0.012099\n",
      "Train Epoch: 5 [38400/60000 (64%)]\tLoss: 0.019861\n",
      "Train Epoch: 5 [44800/60000 (75%)]\tLoss: 0.015356\n",
      "Train Epoch: 5 [51200/60000 (85%)]\tLoss: 0.028490\n",
      "Train Epoch: 5 [57600/60000 (96%)]\tLoss: 0.008687\n"
     ]
    }
   ],
   "source": [
    "model = Net().to(device)\n",
    "\n",
    "lr = 0.1\n",
    "optimizer = optim.Adadelta(model.parameters(), lr=lr)\n",
    "\n",
    "epochs = 5\n",
    "lr_gamma = 0.7 # Learning rate step gamma\n",
    "scheduler = StepLR(optimizer, step_size=1, gamma=lr_gamma)\n",
    "\n",
    "log_interval = 100 # how many batches to wait before logging training status\n",
    "\n",
    "loss_history = []\n",
    "for epoch in range(1, epochs + 1):\n",
    "    loss_values = train(model, device, train_loader, optimizer, epoch)\n",
    "    loss_history += loss_values\n",
    "    scheduler.step()"
   ]
  },
  {
   "attachments": {},
   "cell_type": "markdown",
   "metadata": {},
   "source": [
    "### Plot the loss over time"
   ]
  },
  {
   "cell_type": "code",
   "execution_count": 26,
   "metadata": {},
   "outputs": [
    {
     "data": {
      "text/plain": [
       "[<matplotlib.lines.Line2D at 0x7fe19a1b9430>]"
      ]
     },
     "execution_count": 26,
     "metadata": {},
     "output_type": "execute_result"
    },
    {
     "data": {
      "image/png": "[encoded data removed]",
      "text/plain": [
       "<Figure size 640x480 with 1 Axes>"
      ]
     },
     "metadata": {},
     "output_type": "display_data"
    }
   ],
   "source": [
    "plt.plot(np.arange(len(loss_history)), loss_history)"
   ]
  },
  {
   "attachments": {},
   "cell_type": "markdown",
   "metadata": {},
   "source": [
    "## Evaluate the model\n",
    "\n",
    "Finally, we can use the trained model to predict a bounding box for any given image. Let's see how to make predictions for the first four images of the test set."
   ]
  },
  {
   "cell_type": "code",
   "execution_count": 27,
   "metadata": {},
   "outputs": [
    {
     "data": {
      "image/png": "[encoded data removed]",
      "text/plain": [
       "<Figure size 640x480 with 4 Axes>"
      ]
     },
     "metadata": {},
     "output_type": "display_data"
    }
   ],
   "source": [
    "model.eval()\n",
    "\n",
    "fig = plt.figure()\n",
    "for i in range(len(dataset1)):\n",
    "    sample = dataset1[i]\n",
    "    ax = plt.subplot(1, 4, i + 1)\n",
    "    plt.tight_layout()\n",
    "    ax.set_title('Sample #{}'.format(i))\n",
    "    ax.axis('off')\n",
    "    \n",
    "    # predict the bounding box for a given image\n",
    "    data = sample['image']\n",
    "    data = data.reshape((1,)+data.shape) # shape must be (b,c,h,w)\n",
    "    data = data.to(device)\n",
    "    with torch.no_grad():\n",
    "        output = model(data)\n",
    "    aux = output[1].cpu().numpy()    \n",
    "    sample['pred'] = output[1].cpu().numpy()\n",
    "    show_bbox(**sample)\n",
    "\n",
    "    if i == 3:\n",
    "        plt.show()\n",
    "        break"
   ]
  },
  {
   "attachments": {},
   "cell_type": "markdown",
   "metadata": {},
   "source": [
    "We appreciate that the predicted bounding boxes (blue) are good aproximations of the ground truth (red).\n",
    "\n",
    "In order to measure whether the results are correct or not in the entire test set we need to implement a performance measure based on the Intersection over Union (IoU) of the ground truth and predicted bounding boxes."
   ]
  },
  {
   "cell_type": "code",
   "execution_count": 28,
   "metadata": {},
   "outputs": [],
   "source": [
    "def IoU(pred, target, iou_threshold = 0.7):\n",
    "    # determine the coordinates of the intersection rectangle\n",
    "    x_left = np.maximum(pred[:,0], target[:,0])\n",
    "    y_top = np.maximum(pred[:,1], target[:,1])\n",
    "    x_right = np.minimum(pred[:,0]+pred[:,2], target[:,0]+target[:,2])\n",
    "    y_bottom = np.minimum(pred[:,1]+pred[:,3], target[:,1]+target[:,3])\n",
    "    \n",
    "    intersection_area = (x_right - x_left) * (y_bottom - y_top)\n",
    "    \n",
    "    # compute the areas of the union\n",
    "    pred_area = pred[:,2] * pred[:,3]\n",
    "    target_area =  target[:,2] *  target[:,3]\n",
    "    \n",
    "    union_area = pred_area + target_area - intersection_area\n",
    "    \n",
    "    iou = intersection_area / union_area\n",
    "    \n",
    "    return iou>iou_threshold"
   ]
  },
  {
   "attachments": {},
   "cell_type": "markdown",
   "metadata": {},
   "source": [
    "### Define the test method"
   ]
  },
  {
   "cell_type": "code",
   "execution_count": 30,
   "metadata": {},
   "outputs": [
    {
     "name": "stderr",
     "output_type": "stream",
     "text": [
      "/var/folders/d_/0g_w8mls3jb45q24svvm3g_h0000gn/T/ipykernel_1316/2059082246.py:13: UserWarning: Using a target size (torch.Size([1000, 4])) that is different to the input size (torch.Size([1000, 1])). This will likely lead to incorrect results due to broadcasting. Please ensure they have the same size.\n",
      "  test_loss += (F.l1_loss(outputs_reg, target).item()+ criterion_clf(outputs_clf, label))*F.l1_loss(outputs_conf, target)\n"
     ]
    },
    {
     "name": "stdout",
     "output_type": "stream",
     "text": [
      "\n",
      "Test set: Average loss: 0.0112, Accuracy: 9377/10000 (94%)\n",
      "\n"
     ]
    }
   ],
   "source": [
    "def test(model, device, test_loader):\n",
    "    criterion_clf = nn.CrossEntropyLoss()\n",
    "    model.eval()\n",
    "    test_loss = 0\n",
    "    correct = 0\n",
    "    with torch.no_grad():\n",
    "        for batch_idx, sample_batched in enumerate(test_loader):\n",
    "            data = sample_batched['image']\n",
    "            target = sample_batched['bbox']\n",
    "            label = sample_batched['label'] \n",
    "            data, target, label = data.to(device), target.to(device), label.to(device)\n",
    "            outputs_clf, outputs_reg, outputs_conf = model(data)\n",
    "            test_loss += (F.l1_loss(outputs_reg, target).item()+ criterion_clf(outputs_clf, label))*F.l1_loss(outputs_conf, target)\n",
    "            \n",
    "            # count the number of prediction with an IoU above a certain threshold\n",
    "            correct += np.sum(IoU(outputs_reg.cpu().numpy(), target.cpu().numpy(), iou_threshold = 0.7))\n",
    "\n",
    "    test_loss /= (len(test_loader.dataset)/test_loader.batch_size)\n",
    "\n",
    "    print('\\nTest set: Average loss: {:.4f}, Accuracy: {}/{} ({:.0f}%)\\n'.format(\n",
    "        test_loss, correct, len(test_loader.dataset),\n",
    "        100. * correct / len(test_loader.dataset)))\n",
    "    \n",
    "\n",
    "# call the test method\n",
    "test(model, device, test_loader)"
   ]
  },
  {
   "cell_type": "code",
   "execution_count": 32,
   "metadata": {},
   "outputs": [
    {
     "name": "stdout",
     "output_type": "stream",
     "text": [
      "[[0.03530993 0.03363033 0.07691173 0.0799997 ]] [[0. 0. 0. 0.]] [False]\n"
     ]
    },
    {
     "data": {
      "image/png": "[encoded data removed]",
      "text/plain": [
       "<Figure size 640x480 with 1 Axes>"
      ]
     },
     "metadata": {},
     "output_type": "display_data"
    }
   ],
   "source": [
    "# Find wrong prediction and display it\n",
    "\n",
    "model.eval()\n",
    "\n",
    "fig = plt.figure()\n",
    "plt.tight_layout()\n",
    "ax.axis('off')\n",
    "\n",
    "for i in range(len(dataset2)):\n",
    "    sample = dataset2[i]\n",
    "    \n",
    "    # predict the bounding box for a given image\n",
    "    data = sample['image']\n",
    "    data = data.reshape((1,)+data.shape) # shape must be (b,c,h,w)\n",
    "    data = data.to(device)\n",
    "    with torch.no_grad():\n",
    "        outputs_reg = model(data)\n",
    "    #print(outputs_reg)\n",
    "    \n",
    "    target = sample['bbox'].reshape((1,4))\n",
    "    iou= IoU(outputs_reg[1].cpu().numpy(), target, iou_threshold = 0.7)\n",
    "    \n",
    "    if not iou:\n",
    "        print(outputs_reg[1].cpu().numpy(), target,iou)\n",
    "        sample['pred'] = output[1].cpu().numpy()\n",
    "        show_bbox(**sample)\n",
    "        break\n",
    "\n",
    "plt.show()"
   ]
  }
 ],
 "metadata": {
  "kernelspec": {
   "display_name": "env_name",
   "language": "python",
   "name": "python3"
  },
  "language_info": {
   "codemirror_mode": {
    "name": "ipython",
    "version": 3
   },
   "file_extension": ".py",
   "mimetype": "text/x-python",
   "name": "python",
   "nbconvert_exporter": "python",
   "pygments_lexer": "ipython3",
   "version": "3.9.16"
  },
  "orig_nbformat": 4
 },
 "nbformat": 4,
 "nbformat_minor": 2
}
