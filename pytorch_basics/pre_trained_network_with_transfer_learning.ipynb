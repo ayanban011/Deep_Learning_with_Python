{
  "nbformat": 4,
  "nbformat_minor": 0,
  "metadata": {
    "colab": {
      "name": "pre-trained_network_with_transfer_learning.ipynb",
      "provenance": [],
      "authorship_tag": "ABX9TyNWSGLeOjg1M1sKiG1hnSGR",
      "include_colab_link": true
    },
    "kernelspec": {
      "name": "python3",
      "display_name": "Python 3"
    },
    "language_info": {
      "name": "python"
    },
    "accelerator": "GPU",
    "gpuClass": "standard",
    "widgets": {
      "application/vnd.jupyter.widget-state+json": {
        "50fdb5494ac3405e8387345469f26679": {
          "model_module": "@jupyter-widgets/controls",
          "model_name": "HBoxModel",
          "model_module_version": "1.5.0",
          "state": {
            "_dom_classes": [],
            "_model_module": "@jupyter-widgets/controls",
            "_model_module_version": "1.5.0",
            "_model_name": "HBoxModel",
            "_view_count": null,
            "_view_module": "@jupyter-widgets/controls",
            "_view_module_version": "1.5.0",
            "_view_name": "HBoxView",
            "box_style": "",
            "children": [
              "IPY_MODEL_82a87ff6fba54c1abbf64196af4670a3",
              "IPY_MODEL_9410cb26d8e8447da448735aa2e76f56",
              "IPY_MODEL_798e73130c7c4980824d5f418c4c9cba"
            ],
            "layout": "IPY_MODEL_5b06048f127f41e7b0556acffa25d46f"
          }
        },
        "82a87ff6fba54c1abbf64196af4670a3": {
          "model_module": "@jupyter-widgets/controls",
          "model_name": "HTMLModel",
          "model_module_version": "1.5.0",
          "state": {
            "_dom_classes": [],
            "_model_module": "@jupyter-widgets/controls",
            "_model_module_version": "1.5.0",
            "_model_name": "HTMLModel",
            "_view_count": null,
            "_view_module": "@jupyter-widgets/controls",
            "_view_module_version": "1.5.0",
            "_view_name": "HTMLView",
            "description": "",
            "description_tooltip": null,
            "layout": "IPY_MODEL_a41055f8ed0045a7b9cfffa232438530",
            "placeholder": "​",
            "style": "IPY_MODEL_bfb937b3f99645c89885c0d36c0aa8e8",
            "value": "100%"
          }
        },
        "9410cb26d8e8447da448735aa2e76f56": {
          "model_module": "@jupyter-widgets/controls",
          "model_name": "FloatProgressModel",
          "model_module_version": "1.5.0",
          "state": {
            "_dom_classes": [],
            "_model_module": "@jupyter-widgets/controls",
            "_model_module_version": "1.5.0",
            "_model_name": "FloatProgressModel",
            "_view_count": null,
            "_view_module": "@jupyter-widgets/controls",
            "_view_module_version": "1.5.0",
            "_view_name": "ProgressView",
            "bar_style": "success",
            "description": "",
            "description_tooltip": null,
            "layout": "IPY_MODEL_61ee549ff14c4d6b918a06fb9345301a",
            "max": 553433881,
            "min": 0,
            "orientation": "horizontal",
            "style": "IPY_MODEL_301fcd1ff023408db6e983a893fdb439",
            "value": 553433881
          }
        },
        "798e73130c7c4980824d5f418c4c9cba": {
          "model_module": "@jupyter-widgets/controls",
          "model_name": "HTMLModel",
          "model_module_version": "1.5.0",
          "state": {
            "_dom_classes": [],
            "_model_module": "@jupyter-widgets/controls",
            "_model_module_version": "1.5.0",
            "_model_name": "HTMLModel",
            "_view_count": null,
            "_view_module": "@jupyter-widgets/controls",
            "_view_module_version": "1.5.0",
            "_view_name": "HTMLView",
            "description": "",
            "description_tooltip": null,
            "layout": "IPY_MODEL_878b19a528e743e2babf7b38f1cf4595",
            "placeholder": "​",
            "style": "IPY_MODEL_52a5d3a6b16a4697b67967600c00cf1a",
            "value": " 528M/528M [00:07&lt;00:00, 80.1MB/s]"
          }
        },
        "5b06048f127f41e7b0556acffa25d46f": {
          "model_module": "@jupyter-widgets/base",
          "model_name": "LayoutModel",
          "model_module_version": "1.2.0",
          "state": {
            "_model_module": "@jupyter-widgets/base",
            "_model_module_version": "1.2.0",
            "_model_name": "LayoutModel",
            "_view_count": null,
            "_view_module": "@jupyter-widgets/base",
            "_view_module_version": "1.2.0",
            "_view_name": "LayoutView",
            "align_content": null,
            "align_items": null,
            "align_self": null,
            "border": null,
            "bottom": null,
            "display": null,
            "flex": null,
            "flex_flow": null,
            "grid_area": null,
            "grid_auto_columns": null,
            "grid_auto_flow": null,
            "grid_auto_rows": null,
            "grid_column": null,
            "grid_gap": null,
            "grid_row": null,
            "grid_template_areas": null,
            "grid_template_columns": null,
            "grid_template_rows": null,
            "height": null,
            "justify_content": null,
            "justify_items": null,
            "left": null,
            "margin": null,
            "max_height": null,
            "max_width": null,
            "min_height": null,
            "min_width": null,
            "object_fit": null,
            "object_position": null,
            "order": null,
            "overflow": null,
            "overflow_x": null,
            "overflow_y": null,
            "padding": null,
            "right": null,
            "top": null,
            "visibility": null,
            "width": null
          }
        },
        "a41055f8ed0045a7b9cfffa232438530": {
          "model_module": "@jupyter-widgets/base",
          "model_name": "LayoutModel",
          "model_module_version": "1.2.0",
          "state": {
            "_model_module": "@jupyter-widgets/base",
            "_model_module_version": "1.2.0",
            "_model_name": "LayoutModel",
            "_view_count": null,
            "_view_module": "@jupyter-widgets/base",
            "_view_module_version": "1.2.0",
            "_view_name": "LayoutView",
            "align_content": null,
            "align_items": null,
            "align_self": null,
            "border": null,
            "bottom": null,
            "display": null,
            "flex": null,
            "flex_flow": null,
            "grid_area": null,
            "grid_auto_columns": null,
            "grid_auto_flow": null,
            "grid_auto_rows": null,
            "grid_column": null,
            "grid_gap": null,
            "grid_row": null,
            "grid_template_areas": null,
            "grid_template_columns": null,
            "grid_template_rows": null,
            "height": null,
            "justify_content": null,
            "justify_items": null,
            "left": null,
            "margin": null,
            "max_height": null,
            "max_width": null,
            "min_height": null,
            "min_width": null,
            "object_fit": null,
            "object_position": null,
            "order": null,
            "overflow": null,
            "overflow_x": null,
            "overflow_y": null,
            "padding": null,
            "right": null,
            "top": null,
            "visibility": null,
            "width": null
          }
        },
        "bfb937b3f99645c89885c0d36c0aa8e8": {
          "model_module": "@jupyter-widgets/controls",
          "model_name": "DescriptionStyleModel",
          "model_module_version": "1.5.0",
          "state": {
            "_model_module": "@jupyter-widgets/controls",
            "_model_module_version": "1.5.0",
            "_model_name": "DescriptionStyleModel",
            "_view_count": null,
            "_view_module": "@jupyter-widgets/base",
            "_view_module_version": "1.2.0",
            "_view_name": "StyleView",
            "description_width": ""
          }
        },
        "61ee549ff14c4d6b918a06fb9345301a": {
          "model_module": "@jupyter-widgets/base",
          "model_name": "LayoutModel",
          "model_module_version": "1.2.0",
          "state": {
            "_model_module": "@jupyter-widgets/base",
            "_model_module_version": "1.2.0",
            "_model_name": "LayoutModel",
            "_view_count": null,
            "_view_module": "@jupyter-widgets/base",
            "_view_module_version": "1.2.0",
            "_view_name": "LayoutView",
            "align_content": null,
            "align_items": null,
            "align_self": null,
            "border": null,
            "bottom": null,
            "display": null,
            "flex": null,
            "flex_flow": null,
            "grid_area": null,
            "grid_auto_columns": null,
            "grid_auto_flow": null,
            "grid_auto_rows": null,
            "grid_column": null,
            "grid_gap": null,
            "grid_row": null,
            "grid_template_areas": null,
            "grid_template_columns": null,
            "grid_template_rows": null,
            "height": null,
            "justify_content": null,
            "justify_items": null,
            "left": null,
            "margin": null,
            "max_height": null,
            "max_width": null,
            "min_height": null,
            "min_width": null,
            "object_fit": null,
            "object_position": null,
            "order": null,
            "overflow": null,
            "overflow_x": null,
            "overflow_y": null,
            "padding": null,
            "right": null,
            "top": null,
            "visibility": null,
            "width": null
          }
        },
        "301fcd1ff023408db6e983a893fdb439": {
          "model_module": "@jupyter-widgets/controls",
          "model_name": "ProgressStyleModel",
          "model_module_version": "1.5.0",
          "state": {
            "_model_module": "@jupyter-widgets/controls",
            "_model_module_version": "1.5.0",
            "_model_name": "ProgressStyleModel",
            "_view_count": null,
            "_view_module": "@jupyter-widgets/base",
            "_view_module_version": "1.2.0",
            "_view_name": "StyleView",
            "bar_color": null,
            "description_width": ""
          }
        },
        "878b19a528e743e2babf7b38f1cf4595": {
          "model_module": "@jupyter-widgets/base",
          "model_name": "LayoutModel",
          "model_module_version": "1.2.0",
          "state": {
            "_model_module": "@jupyter-widgets/base",
            "_model_module_version": "1.2.0",
            "_model_name": "LayoutModel",
            "_view_count": null,
            "_view_module": "@jupyter-widgets/base",
            "_view_module_version": "1.2.0",
            "_view_name": "LayoutView",
            "align_content": null,
            "align_items": null,
            "align_self": null,
            "border": null,
            "bottom": null,
            "display": null,
            "flex": null,
            "flex_flow": null,
            "grid_area": null,
            "grid_auto_columns": null,
            "grid_auto_flow": null,
            "grid_auto_rows": null,
            "grid_column": null,
            "grid_gap": null,
            "grid_row": null,
            "grid_template_areas": null,
            "grid_template_columns": null,
            "grid_template_rows": null,
            "height": null,
            "justify_content": null,
            "justify_items": null,
            "left": null,
            "margin": null,
            "max_height": null,
            "max_width": null,
            "min_height": null,
            "min_width": null,
            "object_fit": null,
            "object_position": null,
            "order": null,
            "overflow": null,
            "overflow_x": null,
            "overflow_y": null,
            "padding": null,
            "right": null,
            "top": null,
            "visibility": null,
            "width": null
          }
        },
        "52a5d3a6b16a4697b67967600c00cf1a": {
          "model_module": "@jupyter-widgets/controls",
          "model_name": "DescriptionStyleModel",
          "model_module_version": "1.5.0",
          "state": {
            "_model_module": "@jupyter-widgets/controls",
            "_model_module_version": "1.5.0",
            "_model_name": "DescriptionStyleModel",
            "_view_count": null,
            "_view_module": "@jupyter-widgets/base",
            "_view_module_version": "1.2.0",
            "_view_name": "StyleView",
            "description_width": ""
          }
        },
        "95fee73d73134dc28c30aca7a77b2ec8": {
          "model_module": "@jupyter-widgets/controls",
          "model_name": "HBoxModel",
          "model_module_version": "1.5.0",
          "state": {
            "_dom_classes": [],
            "_model_module": "@jupyter-widgets/controls",
            "_model_module_version": "1.5.0",
            "_model_name": "HBoxModel",
            "_view_count": null,
            "_view_module": "@jupyter-widgets/controls",
            "_view_module_version": "1.5.0",
            "_view_name": "HBoxView",
            "box_style": "",
            "children": [
              "IPY_MODEL_2c6f66c4b38d49348e510681656ac6ef",
              "IPY_MODEL_47b9792a5c504cd28c3d84e8ca876cfd",
              "IPY_MODEL_9cb2c3ca080848bcbadf67daa85e0ab4"
            ],
            "layout": "IPY_MODEL_e4bc597d5d544aa6a04c38fb38a2fd2d"
          }
        },
        "2c6f66c4b38d49348e510681656ac6ef": {
          "model_module": "@jupyter-widgets/controls",
          "model_name": "HTMLModel",
          "model_module_version": "1.5.0",
          "state": {
            "_dom_classes": [],
            "_model_module": "@jupyter-widgets/controls",
            "_model_module_version": "1.5.0",
            "_model_name": "HTMLModel",
            "_view_count": null,
            "_view_module": "@jupyter-widgets/controls",
            "_view_module_version": "1.5.0",
            "_view_name": "HTMLView",
            "description": "",
            "description_tooltip": null,
            "layout": "IPY_MODEL_c257cbd6b3e64d6fb1c0c58ceb19e2ba",
            "placeholder": "​",
            "style": "IPY_MODEL_11417e96ce5a4e8e91552524cfe12390",
            "value": "100%"
          }
        },
        "47b9792a5c504cd28c3d84e8ca876cfd": {
          "model_module": "@jupyter-widgets/controls",
          "model_name": "FloatProgressModel",
          "model_module_version": "1.5.0",
          "state": {
            "_dom_classes": [],
            "_model_module": "@jupyter-widgets/controls",
            "_model_module_version": "1.5.0",
            "_model_name": "FloatProgressModel",
            "_view_count": null,
            "_view_module": "@jupyter-widgets/controls",
            "_view_module_version": "1.5.0",
            "_view_name": "ProgressView",
            "bar_style": "success",
            "description": "",
            "description_tooltip": null,
            "layout": "IPY_MODEL_629bf8538c0e4da9afae484945eef19d",
            "max": 14212972,
            "min": 0,
            "orientation": "horizontal",
            "style": "IPY_MODEL_b77d82100a4a4fe4b0d2559e6d8304bd",
            "value": 14212972
          }
        },
        "9cb2c3ca080848bcbadf67daa85e0ab4": {
          "model_module": "@jupyter-widgets/controls",
          "model_name": "HTMLModel",
          "model_module_version": "1.5.0",
          "state": {
            "_dom_classes": [],
            "_model_module": "@jupyter-widgets/controls",
            "_model_module_version": "1.5.0",
            "_model_name": "HTMLModel",
            "_view_count": null,
            "_view_module": "@jupyter-widgets/controls",
            "_view_module_version": "1.5.0",
            "_view_name": "HTMLView",
            "description": "",
            "description_tooltip": null,
            "layout": "IPY_MODEL_31e888b4133546dd98177ae16651bb44",
            "placeholder": "​",
            "style": "IPY_MODEL_e1ed9062717543a6b029d47d99209e9c",
            "value": " 13.6M/13.6M [00:00&lt;00:00, 150MB/s]"
          }
        },
        "e4bc597d5d544aa6a04c38fb38a2fd2d": {
          "model_module": "@jupyter-widgets/base",
          "model_name": "LayoutModel",
          "model_module_version": "1.2.0",
          "state": {
            "_model_module": "@jupyter-widgets/base",
            "_model_module_version": "1.2.0",
            "_model_name": "LayoutModel",
            "_view_count": null,
            "_view_module": "@jupyter-widgets/base",
            "_view_module_version": "1.2.0",
            "_view_name": "LayoutView",
            "align_content": null,
            "align_items": null,
            "align_self": null,
            "border": null,
            "bottom": null,
            "display": null,
            "flex": null,
            "flex_flow": null,
            "grid_area": null,
            "grid_auto_columns": null,
            "grid_auto_flow": null,
            "grid_auto_rows": null,
            "grid_column": null,
            "grid_gap": null,
            "grid_row": null,
            "grid_template_areas": null,
            "grid_template_columns": null,
            "grid_template_rows": null,
            "height": null,
            "justify_content": null,
            "justify_items": null,
            "left": null,
            "margin": null,
            "max_height": null,
            "max_width": null,
            "min_height": null,
            "min_width": null,
            "object_fit": null,
            "object_position": null,
            "order": null,
            "overflow": null,
            "overflow_x": null,
            "overflow_y": null,
            "padding": null,
            "right": null,
            "top": null,
            "visibility": null,
            "width": null
          }
        },
        "c257cbd6b3e64d6fb1c0c58ceb19e2ba": {
          "model_module": "@jupyter-widgets/base",
          "model_name": "LayoutModel",
          "model_module_version": "1.2.0",
          "state": {
            "_model_module": "@jupyter-widgets/base",
            "_model_module_version": "1.2.0",
            "_model_name": "LayoutModel",
            "_view_count": null,
            "_view_module": "@jupyter-widgets/base",
            "_view_module_version": "1.2.0",
            "_view_name": "LayoutView",
            "align_content": null,
            "align_items": null,
            "align_self": null,
            "border": null,
            "bottom": null,
            "display": null,
            "flex": null,
            "flex_flow": null,
            "grid_area": null,
            "grid_auto_columns": null,
            "grid_auto_flow": null,
            "grid_auto_rows": null,
            "grid_column": null,
            "grid_gap": null,
            "grid_row": null,
            "grid_template_areas": null,
            "grid_template_columns": null,
            "grid_template_rows": null,
            "height": null,
            "justify_content": null,
            "justify_items": null,
            "left": null,
            "margin": null,
            "max_height": null,
            "max_width": null,
            "min_height": null,
            "min_width": null,
            "object_fit": null,
            "object_position": null,
            "order": null,
            "overflow": null,
            "overflow_x": null,
            "overflow_y": null,
            "padding": null,
            "right": null,
            "top": null,
            "visibility": null,
            "width": null
          }
        },
        "11417e96ce5a4e8e91552524cfe12390": {
          "model_module": "@jupyter-widgets/controls",
          "model_name": "DescriptionStyleModel",
          "model_module_version": "1.5.0",
          "state": {
            "_model_module": "@jupyter-widgets/controls",
            "_model_module_version": "1.5.0",
            "_model_name": "DescriptionStyleModel",
            "_view_count": null,
            "_view_module": "@jupyter-widgets/base",
            "_view_module_version": "1.2.0",
            "_view_name": "StyleView",
            "description_width": ""
          }
        },
        "629bf8538c0e4da9afae484945eef19d": {
          "model_module": "@jupyter-widgets/base",
          "model_name": "LayoutModel",
          "model_module_version": "1.2.0",
          "state": {
            "_model_module": "@jupyter-widgets/base",
            "_model_module_version": "1.2.0",
            "_model_name": "LayoutModel",
            "_view_count": null,
            "_view_module": "@jupyter-widgets/base",
            "_view_module_version": "1.2.0",
            "_view_name": "LayoutView",
            "align_content": null,
            "align_items": null,
            "align_self": null,
            "border": null,
            "bottom": null,
            "display": null,
            "flex": null,
            "flex_flow": null,
            "grid_area": null,
            "grid_auto_columns": null,
            "grid_auto_flow": null,
            "grid_auto_rows": null,
            "grid_column": null,
            "grid_gap": null,
            "grid_row": null,
            "grid_template_areas": null,
            "grid_template_columns": null,
            "grid_template_rows": null,
            "height": null,
            "justify_content": null,
            "justify_items": null,
            "left": null,
            "margin": null,
            "max_height": null,
            "max_width": null,
            "min_height": null,
            "min_width": null,
            "object_fit": null,
            "object_position": null,
            "order": null,
            "overflow": null,
            "overflow_x": null,
            "overflow_y": null,
            "padding": null,
            "right": null,
            "top": null,
            "visibility": null,
            "width": null
          }
        },
        "b77d82100a4a4fe4b0d2559e6d8304bd": {
          "model_module": "@jupyter-widgets/controls",
          "model_name": "ProgressStyleModel",
          "model_module_version": "1.5.0",
          "state": {
            "_model_module": "@jupyter-widgets/controls",
            "_model_module_version": "1.5.0",
            "_model_name": "ProgressStyleModel",
            "_view_count": null,
            "_view_module": "@jupyter-widgets/base",
            "_view_module_version": "1.2.0",
            "_view_name": "StyleView",
            "bar_color": null,
            "description_width": ""
          }
        },
        "31e888b4133546dd98177ae16651bb44": {
          "model_module": "@jupyter-widgets/base",
          "model_name": "LayoutModel",
          "model_module_version": "1.2.0",
          "state": {
            "_model_module": "@jupyter-widgets/base",
            "_model_module_version": "1.2.0",
            "_model_name": "LayoutModel",
            "_view_count": null,
            "_view_module": "@jupyter-widgets/base",
            "_view_module_version": "1.2.0",
            "_view_name": "LayoutView",
            "align_content": null,
            "align_items": null,
            "align_self": null,
            "border": null,
            "bottom": null,
            "display": null,
            "flex": null,
            "flex_flow": null,
            "grid_area": null,
            "grid_auto_columns": null,
            "grid_auto_flow": null,
            "grid_auto_rows": null,
            "grid_column": null,
            "grid_gap": null,
            "grid_row": null,
            "grid_template_areas": null,
            "grid_template_columns": null,
            "grid_template_rows": null,
            "height": null,
            "justify_content": null,
            "justify_items": null,
            "left": null,
            "margin": null,
            "max_height": null,
            "max_width": null,
            "min_height": null,
            "min_width": null,
            "object_fit": null,
            "object_position": null,
            "order": null,
            "overflow": null,
            "overflow_x": null,
            "overflow_y": null,
            "padding": null,
            "right": null,
            "top": null,
            "visibility": null,
            "width": null
          }
        },
        "e1ed9062717543a6b029d47d99209e9c": {
          "model_module": "@jupyter-widgets/controls",
          "model_name": "DescriptionStyleModel",
          "model_module_version": "1.5.0",
          "state": {
            "_model_module": "@jupyter-widgets/controls",
            "_model_module_version": "1.5.0",
            "_model_name": "DescriptionStyleModel",
            "_view_count": null,
            "_view_module": "@jupyter-widgets/base",
            "_view_module_version": "1.2.0",
            "_view_name": "StyleView",
            "description_width": ""
          }
        }
      }
    }
  },
  "cells": [
    {
      "cell_type": "markdown",
      "metadata": {
        "id": "view-in-github",
        "colab_type": "text"
      },
      "source": [
        "<a href=\"https://colab.research.google.com/github/ayanban011/Getting-Started_with_Pytorch/blob/main/pre_trained_network_with_transfer_learning.ipynb\" target=\"_parent\"><img src=\"https://colab.research.google.com/assets/colab-badge.svg\" alt=\"Open In Colab\"/></a>"
      ]
    },
    {
      "cell_type": "markdown",
      "source": [
        "### **Pre-trained models and transfer learning**\n",
        "\n",
        "Training CNNs can take a lot of time, and a lot of data is required for that task. However, much of the time is spent to learn the best low-level filters that a network is using to extract patterns from images. A natural question arises - can we use a neural network trained on one dataset and adapt it to classifying different images without full training process?\n",
        "\n",
        "This approach is called **transfer learning**, because we transfer some knowledge from one neural network model to another. In transfer learning, we typically start with a pre-trained model, which has been trained on some large image dataset, such as **ImageNet**. Those models can already do a good job extracting different features from generic images, and in many cases just building a classifier on top of those extracted features can yield a good result."
      ],
      "metadata": {
        "id": "EuRMa6o2JE2W"
      }
    },
    {
      "cell_type": "code",
      "execution_count": null,
      "metadata": {
        "colab": {
          "base_uri": "https://localhost:8080/"
        },
        "id": "cwz3FtbMIXUu",
        "outputId": "d7a7a8f5-e385-4bc8-a21a-d52606bf5595"
      },
      "outputs": [
        {
          "output_type": "stream",
          "name": "stdout",
          "text": [
            "--2022-07-03 08:21:48--  https://raw.githubusercontent.com/MicrosoftDocs/pytorchfundamentals/main/computer-vision-pytorch/pytorchcv.py\n",
            "Resolving raw.githubusercontent.com (raw.githubusercontent.com)... 185.199.109.133, 185.199.111.133, 185.199.108.133, ...\n",
            "Connecting to raw.githubusercontent.com (raw.githubusercontent.com)|185.199.109.133|:443... connected.\n",
            "HTTP request sent, awaiting response... 200 OK\n",
            "Length: 6371 (6.2K) [text/plain]\n",
            "Saving to: ‘pytorchcv.py’\n",
            "\n",
            "\rpytorchcv.py          0%[                    ]       0  --.-KB/s               \rpytorchcv.py        100%[===================>]   6.22K  --.-KB/s    in 0s      \n",
            "\n",
            "2022-07-03 08:21:48 (91.0 MB/s) - ‘pytorchcv.py’ saved [6371/6371]\n",
            "\n"
          ]
        }
      ],
      "source": [
        "#installing pytorchcv\n",
        "#It is a very useful python snippet which implements a lots of function and dataloader, helps to reduce the effort of code writing\n",
        "!wget https://raw.githubusercontent.com/MicrosoftDocs/pytorchfundamentals/main/computer-vision-pytorch/pytorchcv.py"
      ]
    },
    {
      "cell_type": "code",
      "source": [
        "!pip install torchinfo\n",
        "import torch\n",
        "import torch.nn as nn\n",
        "import torchvision\n",
        "import torchvision.transforms as transforms\n",
        "import matplotlib.pyplot as plt\n",
        "from torchinfo import summary\n",
        "import numpy as np\n",
        "import os\n",
        "\n",
        "from pytorchcv import train, plot_results, display_dataset, train_long, check_image_dir"
      ],
      "metadata": {
        "colab": {
          "base_uri": "https://localhost:8080/"
        },
        "id": "pm0Eg_8sJobe",
        "outputId": "97911466-bf09-482b-9cfb-c130a3fb0b0c"
      },
      "execution_count": null,
      "outputs": [
        {
          "output_type": "stream",
          "name": "stdout",
          "text": [
            "Looking in indexes: https://pypi.org/simple, https://us-python.pkg.dev/colab-wheels/public/simple/\n",
            "Collecting torchinfo\n",
            "  Downloading torchinfo-1.7.0-py3-none-any.whl (22 kB)\n",
            "Installing collected packages: torchinfo\n",
            "Successfully installed torchinfo-1.7.0\n"
          ]
        }
      ]
    },
    {
      "cell_type": "markdown",
      "source": [
        "### **Cats vs. Dogs Dataset**\n",
        "\n",
        "In this unit, we will solve a real-life problem of classifying images of cats and dogs. For this reason, we will use [Kaggle Cats vs. Dogs Dataset](https://www.kaggle.com/c/dogs-vs-cats).\n",
        "Let's download this dataset and extract it into `data` directory (this process may take some time!):"
      ],
      "metadata": {
        "id": "pvn9beT-KSbe"
      }
    },
    {
      "cell_type": "code",
      "source": [
        "#downloading the zip file of the dataset\n",
        "!wget https://storage.googleapis.com/mledu-datasets/cats_and_dogs_filtered.zip \\\n",
        "    -O /tmp/cats_and_dogs_filtered.zip"
      ],
      "metadata": {
        "colab": {
          "base_uri": "https://localhost:8080/"
        },
        "id": "wGE6I8xVJ3UH",
        "outputId": "e0cc9e8e-a086-47b7-cdf0-7c594594dad2"
      },
      "execution_count": null,
      "outputs": [
        {
          "output_type": "stream",
          "name": "stdout",
          "text": [
            "--2022-07-03 08:31:11--  https://storage.googleapis.com/mledu-datasets/cats_and_dogs_filtered.zip\n",
            "Resolving storage.googleapis.com (storage.googleapis.com)... 172.217.15.80, 172.217.164.176, 142.251.45.16, ...\n",
            "Connecting to storage.googleapis.com (storage.googleapis.com)|172.217.15.80|:443... connected.\n",
            "HTTP request sent, awaiting response... 200 OK\n",
            "Length: 68606236 (65M) [application/zip]\n",
            "Saving to: ‘/tmp/cats_and_dogs_filtered.zip’\n",
            "\n",
            "/tmp/cats_and_dogs_ 100%[===================>]  65.43M   323MB/s    in 0.2s    \n",
            "\n",
            "2022-07-03 08:31:11 (323 MB/s) - ‘/tmp/cats_and_dogs_filtered.zip’ saved [68606236/68606236]\n",
            "\n"
          ]
        }
      ]
    },
    {
      "cell_type": "code",
      "source": [
        "#Extracting the dataset\n",
        "import os\n",
        "import zipfile\n",
        "\n",
        "local_zip = '/tmp/cats_and_dogs_filtered.zip'\n",
        "zip_ref = zipfile.ZipFile(local_zip, 'r')\n",
        "zip_ref.extractall('/tmp')\n",
        "zip_ref.close()"
      ],
      "metadata": {
        "id": "1hBLMbHfKhAL"
      },
      "execution_count": null,
      "outputs": []
    },
    {
      "cell_type": "markdown",
      "source": [
        "Unfortunately, there are some corrupt image files in the dataset. We need to do quick cleaning to check for corrupted files. In order not to clobber this tutorial, we moved the code to verify dataset into a module, and we will just call it here. check_image_dir goes over the whole dataset image by image, tries to load the image and check if it can be loaded correctly. All corrupt images are deleted."
      ],
      "metadata": {
        "id": "tgfgv9RMMUhv"
      }
    },
    {
      "cell_type": "code",
      "source": [
        "%cd /tmp"
      ],
      "metadata": {
        "colab": {
          "base_uri": "https://localhost:8080/"
        },
        "id": "wB5LLyrgKy6i",
        "outputId": "127179a4-7941-4ed7-e2a8-b4f5603cdc7b"
      },
      "execution_count": null,
      "outputs": [
        {
          "output_type": "stream",
          "name": "stdout",
          "text": [
            "/tmp\n"
          ]
        }
      ]
    },
    {
      "cell_type": "code",
      "source": [
        "!ls"
      ],
      "metadata": {
        "colab": {
          "base_uri": "https://localhost:8080/"
        },
        "id": "D0T6DoStMfTz",
        "outputId": "046b9bcf-178e-4e00-c313-9daef611553b"
      },
      "execution_count": null,
      "outputs": [
        {
          "output_type": "stream",
          "name": "stdout",
          "text": [
            "cats_and_dogs_filtered\n",
            "cats_and_dogs_filtered.zip\n",
            "dap_multiplexer.4d5b7a5e7b7f.root.log.INFO.20220703-081201.56\n",
            "dap_multiplexer.INFO\n",
            "debugger_18t9xutsv6\n",
            "initgoogle_syslog_dir.0\n",
            "pyright-109-lc1LBHd52ulu\n",
            "pyright-109-O0csZ9B1Ur7Z\n",
            "pyright-153-7hN0pPgYpeEq\n",
            "pyright-153-UYH7x0TFgWNH\n",
            "python-languageserver-cancellation\n"
          ]
        }
      ]
    },
    {
      "cell_type": "code",
      "source": [
        "%cd cats_and_dogs_filtered"
      ],
      "metadata": {
        "colab": {
          "base_uri": "https://localhost:8080/"
        },
        "id": "TzZN9-uoMlUV",
        "outputId": "3b3a10b2-4b28-4c8c-fb47-7ba9fea09cac"
      },
      "execution_count": null,
      "outputs": [
        {
          "output_type": "stream",
          "name": "stdout",
          "text": [
            "/tmp/cats_and_dogs_filtered\n"
          ]
        }
      ]
    },
    {
      "cell_type": "code",
      "source": [
        "!ls"
      ],
      "metadata": {
        "colab": {
          "base_uri": "https://localhost:8080/"
        },
        "id": "51AysouZMseR",
        "outputId": "9d65abf1-a326-4a1f-a52e-a7637f39b9a9"
      },
      "execution_count": null,
      "outputs": [
        {
          "output_type": "stream",
          "name": "stdout",
          "text": [
            "train  validation  vectorize.py\n"
          ]
        }
      ]
    },
    {
      "cell_type": "code",
      "source": [
        "%cd train"
      ],
      "metadata": {
        "colab": {
          "base_uri": "https://localhost:8080/"
        },
        "id": "iW8XENcQMxBV",
        "outputId": "4072498c-fd5a-40e1-8251-5280253b3cdc"
      },
      "execution_count": null,
      "outputs": [
        {
          "output_type": "stream",
          "name": "stdout",
          "text": [
            "/tmp/cats_and_dogs_filtered/train\n"
          ]
        }
      ]
    },
    {
      "cell_type": "code",
      "source": [
        "!ls"
      ],
      "metadata": {
        "colab": {
          "base_uri": "https://localhost:8080/"
        },
        "id": "DyEqvsbrM69Q",
        "outputId": "7b3e97e1-f903-4cb3-d847-5ebccc20c9f2"
      },
      "execution_count": null,
      "outputs": [
        {
          "output_type": "stream",
          "name": "stdout",
          "text": [
            "cats  dogs\n"
          ]
        }
      ]
    },
    {
      "cell_type": "code",
      "source": [
        "check_image_dir('/tmp/cats_and_dogs_filtered/train/cats/*.jpg')\n",
        "check_image_dir('/tmp/cats_and_dogs_filtered/train/dogs*.jpg')"
      ],
      "metadata": {
        "id": "-M6sO2n6M8JY"
      },
      "execution_count": null,
      "outputs": []
    },
    {
      "cell_type": "markdown",
      "source": [
        "Next, let's load the images into PyTorch dataset, converting them to tensors and doing some normalization. We define image transformation pipeline by composing several primitive transformations using `Compose`:\n",
        "* `Resize` resizes our image to 256x256 dimensions\n",
        "* `CenterCrop` gets the central part of the image with size 224x224. Pre-trained VGG network has been trained on 224x224 images, thus we need to bring our dataset to this size.\n",
        "* `ToTensor` normalizes pixel intensities to be in 0..1 range, and convert images to PyTorch tensors\n",
        "* `std_normalize` transform is additional normalization step specific for VGG network. When training a VGG network, original images from ImageNet were transformed by subtracting dataset mean intensity by color and dividing by standard deviation (also by color). Thus, we need to apply the same transformation to our dataset, so that all images are processed correctly. \n",
        "\n",
        "There are a few reason why we resized images to size 256, and then cropped to 224 pixels:\n",
        "* We wanted to demonstrate more possible transformations.\n",
        "* Pets are usually somewhere in the central part of the image, so we can improve classification by focusing more on the central part\n",
        "* Since some of the images are not square, we end up having padded parts of the image that do not contain any useful picture data, and cropping the image a bit reduces the padded part."
      ],
      "metadata": {
        "id": "yxVPEg3ONgjY"
      }
    },
    {
      "cell_type": "code",
      "source": [
        "std_normalize = transforms.Normalize(mean=[0.485, 0.456, 0.406],\n",
        "                          std=[0.229, 0.224, 0.225])\n",
        "trans = transforms.Compose([\n",
        "        transforms.Resize(256),\n",
        "        transforms.CenterCrop(224),\n",
        "        transforms.ToTensor(), \n",
        "        std_normalize])\n",
        "dataset = torchvision.datasets.ImageFolder('/tmp/cats_and_dogs_filtered/train',transform=trans)\n",
        "trainset, testset = torch.utils.data.random_split(dataset,[20000,len(dataset)-20000])\n",
        "\n",
        "display_dataset(dataset)"
      ],
      "metadata": {
        "colab": {
          "base_uri": "https://localhost:8080/",
          "height": 102
        },
        "id": "ugd-kT31NLDk",
        "outputId": "0ca68cd3-2424-498a-958e-63afbd8aa6a7"
      },
      "execution_count": null,
      "outputs": [
        {
          "output_type": "display_data",
          "data": {
            "text/plain": [
              "<Figure size 1080x216 with 10 Axes>"
            ],
            "image/png": "[encoded data removed]"
          },
          "metadata": {
            "needs_background": "light"
          }
        }
      ]
    },
    {
      "cell_type": "markdown",
      "source": [
        "### **Pre-trained models**\n",
        "\n",
        "There are many different pre-trained models available inside `torchvision` module, and even more models can be found on the Internet. Let's see how simplest VGG-16 model can be loaded and used:"
      ],
      "metadata": {
        "id": "v_9bXuRxN9-m"
      }
    },
    {
      "cell_type": "code",
      "source": [
        "vgg = torchvision.models.vgg16(pretrained=True)\n",
        "sample_image = dataset[0][0].unsqueeze(0)\n",
        "res = vgg(sample_image)\n",
        "print(res[0].argmax())"
      ],
      "metadata": {
        "colab": {
          "base_uri": "https://localhost:8080/",
          "height": 84,
          "referenced_widgets": [
            "50fdb5494ac3405e8387345469f26679",
            "82a87ff6fba54c1abbf64196af4670a3",
            "9410cb26d8e8447da448735aa2e76f56",
            "798e73130c7c4980824d5f418c4c9cba",
            "5b06048f127f41e7b0556acffa25d46f",
            "a41055f8ed0045a7b9cfffa232438530",
            "bfb937b3f99645c89885c0d36c0aa8e8",
            "61ee549ff14c4d6b918a06fb9345301a",
            "301fcd1ff023408db6e983a893fdb439",
            "878b19a528e743e2babf7b38f1cf4595",
            "52a5d3a6b16a4697b67967600c00cf1a"
          ]
        },
        "id": "sBUokyByNx2h",
        "outputId": "714714e5-346d-4df4-c353-a5cfe82d1bb6"
      },
      "execution_count": null,
      "outputs": [
        {
          "output_type": "stream",
          "name": "stderr",
          "text": [
            "Downloading: \"https://download.pytorch.org/models/vgg16-397923af.pth\" to /root/.cache/torch/hub/checkpoints/vgg16-397923af.pth\n"
          ]
        },
        {
          "output_type": "display_data",
          "data": {
            "text/plain": [
              "  0%|          | 0.00/528M [00:00<?, ?B/s]"
            ],
            "application/vnd.jupyter.widget-view+json": {
              "version_major": 2,
              "version_minor": 0,
              "model_id": "50fdb5494ac3405e8387345469f26679"
            }
          },
          "metadata": {}
        },
        {
          "output_type": "stream",
          "name": "stdout",
          "text": [
            "tensor(282)\n"
          ]
        }
      ]
    },
    {
      "cell_type": "markdown",
      "source": [
        "The result that we have received is a number of an ImageNet class, which can be looked up here. We can use the following code to automatically load this class table and return the result:"
      ],
      "metadata": {
        "id": "dWtd1cuGOQdw"
      }
    },
    {
      "cell_type": "code",
      "source": [
        "import json, requests\n",
        "class_map = json.loads(requests.get(\"https://mslearntensorflowlp.blob.core.windows.net/metadata/imagenet_class_index.json\").text)\n",
        "class_map = { int(k) : v for k,v in class_map.items() }\n",
        "\n",
        "class_map[res[0].argmax().item()]"
      ],
      "metadata": {
        "colab": {
          "base_uri": "https://localhost:8080/"
        },
        "id": "qil_LeB1OHX5",
        "outputId": "b8956459-4b1c-43d1-d5a7-c01e4137cb74"
      },
      "execution_count": null,
      "outputs": [
        {
          "output_type": "execute_result",
          "data": {
            "text/plain": [
              "['n02123159', 'tiger_cat']"
            ]
          },
          "metadata": {},
          "execution_count": 25
        }
      ]
    },
    {
      "cell_type": "code",
      "source": [
        "#VGG16 architectures\n",
        "summary(vgg,input_size=(1,3,224,224))"
      ],
      "metadata": {
        "colab": {
          "base_uri": "https://localhost:8080/"
        },
        "id": "QiiO2yZlOWja",
        "outputId": "9a5bc7b2-02cf-4d9b-f89a-29e91b5ca4e4"
      },
      "execution_count": null,
      "outputs": [
        {
          "output_type": "execute_result",
          "data": {
            "text/plain": [
              "==========================================================================================\n",
              "Layer (type:depth-idx)                   Output Shape              Param #\n",
              "==========================================================================================\n",
              "VGG                                      [1, 1000]                 --\n",
              "├─Sequential: 1-1                        [1, 512, 7, 7]            --\n",
              "│    └─Conv2d: 2-1                       [1, 64, 224, 224]         1,792\n",
              "│    └─ReLU: 2-2                         [1, 64, 224, 224]         --\n",
              "│    └─Conv2d: 2-3                       [1, 64, 224, 224]         36,928\n",
              "│    └─ReLU: 2-4                         [1, 64, 224, 224]         --\n",
              "│    └─MaxPool2d: 2-5                    [1, 64, 112, 112]         --\n",
              "│    └─Conv2d: 2-6                       [1, 128, 112, 112]        73,856\n",
              "│    └─ReLU: 2-7                         [1, 128, 112, 112]        --\n",
              "│    └─Conv2d: 2-8                       [1, 128, 112, 112]        147,584\n",
              "│    └─ReLU: 2-9                         [1, 128, 112, 112]        --\n",
              "│    └─MaxPool2d: 2-10                   [1, 128, 56, 56]          --\n",
              "│    └─Conv2d: 2-11                      [1, 256, 56, 56]          295,168\n",
              "│    └─ReLU: 2-12                        [1, 256, 56, 56]          --\n",
              "│    └─Conv2d: 2-13                      [1, 256, 56, 56]          590,080\n",
              "│    └─ReLU: 2-14                        [1, 256, 56, 56]          --\n",
              "│    └─Conv2d: 2-15                      [1, 256, 56, 56]          590,080\n",
              "│    └─ReLU: 2-16                        [1, 256, 56, 56]          --\n",
              "│    └─MaxPool2d: 2-17                   [1, 256, 28, 28]          --\n",
              "│    └─Conv2d: 2-18                      [1, 512, 28, 28]          1,180,160\n",
              "│    └─ReLU: 2-19                        [1, 512, 28, 28]          --\n",
              "│    └─Conv2d: 2-20                      [1, 512, 28, 28]          2,359,808\n",
              "│    └─ReLU: 2-21                        [1, 512, 28, 28]          --\n",
              "│    └─Conv2d: 2-22                      [1, 512, 28, 28]          2,359,808\n",
              "│    └─ReLU: 2-23                        [1, 512, 28, 28]          --\n",
              "│    └─MaxPool2d: 2-24                   [1, 512, 14, 14]          --\n",
              "│    └─Conv2d: 2-25                      [1, 512, 14, 14]          2,359,808\n",
              "│    └─ReLU: 2-26                        [1, 512, 14, 14]          --\n",
              "│    └─Conv2d: 2-27                      [1, 512, 14, 14]          2,359,808\n",
              "│    └─ReLU: 2-28                        [1, 512, 14, 14]          --\n",
              "│    └─Conv2d: 2-29                      [1, 512, 14, 14]          2,359,808\n",
              "│    └─ReLU: 2-30                        [1, 512, 14, 14]          --\n",
              "│    └─MaxPool2d: 2-31                   [1, 512, 7, 7]            --\n",
              "├─AdaptiveAvgPool2d: 1-2                 [1, 512, 7, 7]            --\n",
              "├─Sequential: 1-3                        [1, 1000]                 --\n",
              "│    └─Linear: 2-32                      [1, 4096]                 102,764,544\n",
              "│    └─ReLU: 2-33                        [1, 4096]                 --\n",
              "│    └─Dropout: 2-34                     [1, 4096]                 --\n",
              "│    └─Linear: 2-35                      [1, 4096]                 16,781,312\n",
              "│    └─ReLU: 2-36                        [1, 4096]                 --\n",
              "│    └─Dropout: 2-37                     [1, 4096]                 --\n",
              "│    └─Linear: 2-38                      [1, 1000]                 4,097,000\n",
              "==========================================================================================\n",
              "Total params: 138,357,544\n",
              "Trainable params: 138,357,544\n",
              "Non-trainable params: 0\n",
              "Total mult-adds (G): 15.48\n",
              "==========================================================================================\n",
              "Input size (MB): 0.60\n",
              "Forward/backward pass size (MB): 108.45\n",
              "Params size (MB): 553.43\n",
              "Estimated Total Size (MB): 662.49\n",
              "=========================================================================================="
            ]
          },
          "metadata": {},
          "execution_count": 26
        }
      ]
    },
    {
      "cell_type": "code",
      "source": [
        "#GPU computations\n",
        "device = 'cuda' if torch.cuda.is_available() else 'cpu'\n",
        "\n",
        "print('Doing computations on device = {}'.format(device))\n",
        "\n",
        "vgg.to(device)\n",
        "sample_image = sample_image.to(device)\n",
        "\n",
        "vgg(sample_image).argmax()"
      ],
      "metadata": {
        "colab": {
          "base_uri": "https://localhost:8080/"
        },
        "id": "XXSkx4PNOlrc",
        "outputId": "6678f859-a518-44dc-a8c2-bab1871acfed"
      },
      "execution_count": null,
      "outputs": [
        {
          "output_type": "stream",
          "name": "stdout",
          "text": [
            "Doing computations on device = cuda\n"
          ]
        },
        {
          "output_type": "execute_result",
          "data": {
            "text/plain": [
              "tensor(282, device='cuda:0')"
            ]
          },
          "metadata": {},
          "execution_count": 27
        }
      ]
    },
    {
      "cell_type": "markdown",
      "source": [
        "\n",
        "### **Extracting VGG features**\n",
        "\n",
        "If we want to use VGG-16 to extract features from our images, we need the model without final classification layers. In fact, this \"feature extractor\" can be obtained using `vgg.features` method:"
      ],
      "metadata": {
        "id": "i2c3_aBlPb4J"
      }
    },
    {
      "cell_type": "code",
      "source": [
        "res = vgg.features(sample_image).cpu()\n",
        "plt.figure(figsize=(15,3))\n",
        "plt.imshow(res.detach().view(-1,512))\n",
        "print(res.size())"
      ],
      "metadata": {
        "colab": {
          "base_uri": "https://localhost:8080/",
          "height": 148
        },
        "id": "35Znkkb7PIGZ",
        "outputId": "c20b6c24-fcf5-4421-88ea-280cf863e043"
      },
      "execution_count": null,
      "outputs": [
        {
          "output_type": "stream",
          "name": "stdout",
          "text": [
            "torch.Size([1, 512, 7, 7])\n"
          ]
        },
        {
          "output_type": "display_data",
          "data": {
            "text/plain": [
              "<Figure size 1080x216 with 1 Axes>"
            ],
            "image/png": "[encoded data removed]"
          },
          "metadata": {
            "needs_background": "light"
          }
        }
      ]
    },
    {
      "cell_type": "markdown",
      "source": [
        "Now let's try to see if those features can be used to classify images. Let's manually take some portion of images (800 in our case), and pre-compute their feature vectors. We will store the result in one big tensor called `feature_tensor`, and also labels into `label_tensor`"
      ],
      "metadata": {
        "id": "zfcPnERSP17p"
      }
    },
    {
      "cell_type": "code",
      "source": [
        "bs = 8\n",
        "dl = torch.utils.data.DataLoader(dataset,batch_size=bs,shuffle=True)\n",
        "num = bs*100\n",
        "feature_tensor = torch.zeros(num,512*7*7).to(device)\n",
        "label_tensor = torch.zeros(num).to(device)\n",
        "i = 0\n",
        "for x,l in dl:\n",
        "    with torch.no_grad():\n",
        "        f = vgg.features(x.to(device))\n",
        "        feature_tensor[i:i+bs] = f.view(bs,-1)\n",
        "        label_tensor[i:i+bs] = l\n",
        "        i+=bs\n",
        "        print('.',end='')\n",
        "        if i>=num:\n",
        "            break"
      ],
      "metadata": {
        "colab": {
          "base_uri": "https://localhost:8080/"
        },
        "id": "3_DXn3FePlgJ",
        "outputId": "d00edf9a-4ec0-4912-c85f-b4ca0c23645d"
      },
      "execution_count": null,
      "outputs": [
        {
          "output_type": "stream",
          "name": "stdout",
          "text": [
            "...................................................................................................."
          ]
        }
      ]
    },
    {
      "cell_type": "markdown",
      "source": [
        "Now we can define `vgg_dataset` that takes data from this tensor, split it into training and test sets using `random_split` function, and train a small one-layer dense classifier network on top of extracted features:"
      ],
      "metadata": {
        "id": "5iEuzGUcQONI"
      }
    },
    {
      "cell_type": "code",
      "source": [
        "vgg_dataset = torch.utils.data.TensorDataset(feature_tensor,label_tensor.to(torch.long))\n",
        "train_ds, test_ds = torch.utils.data.random_split(vgg_dataset,[700,100])\n",
        "\n",
        "train_loader = torch.utils.data.DataLoader(train_ds,batch_size=32)\n",
        "test_loader = torch.utils.data.DataLoader(test_ds,batch_size=32)\n",
        "\n",
        "net = torch.nn.Sequential(torch.nn.Linear(512*7*7,2),torch.nn.LogSoftmax()).to(device)\n",
        "\n",
        "history = train(net,train_loader,test_loader)"
      ],
      "metadata": {
        "colab": {
          "base_uri": "https://localhost:8080/"
        },
        "id": "1CqC50EaP7CX",
        "outputId": "d02b3174-6afe-42e5-c376-12e18198ed61"
      },
      "execution_count": null,
      "outputs": [
        {
          "output_type": "stream",
          "name": "stderr",
          "text": [
            "/usr/local/lib/python3.7/dist-packages/torch/nn/modules/container.py:141: UserWarning: Implicit dimension choice for log_softmax has been deprecated. Change the call to include dim=X as an argument.\n",
            "  input = module(input)\n"
          ]
        },
        {
          "output_type": "stream",
          "name": "stdout",
          "text": [
            "Epoch  0, Train acc=0.910, Val acc=0.980, Train loss=0.046, Val loss=0.016\n",
            "Epoch  1, Train acc=0.996, Val acc=0.990, Train loss=0.002, Val loss=0.019\n",
            "Epoch  2, Train acc=0.997, Val acc=0.990, Train loss=0.001, Val loss=0.018\n",
            "Epoch  3, Train acc=1.000, Val acc=0.990, Train loss=0.000, Val loss=0.015\n",
            "Epoch  4, Train acc=1.000, Val acc=0.990, Train loss=0.000, Val loss=0.015\n",
            "Epoch  5, Train acc=1.000, Val acc=0.990, Train loss=0.000, Val loss=0.015\n",
            "Epoch  6, Train acc=1.000, Val acc=0.990, Train loss=0.000, Val loss=0.015\n",
            "Epoch  7, Train acc=1.000, Val acc=0.990, Train loss=0.000, Val loss=0.015\n",
            "Epoch  8, Train acc=1.000, Val acc=0.990, Train loss=0.000, Val loss=0.015\n",
            "Epoch  9, Train acc=1.000, Val acc=0.990, Train loss=0.000, Val loss=0.015\n"
          ]
        }
      ]
    },
    {
      "cell_type": "markdown",
      "source": [
        "### **Transfer learning using one VGG network**\n",
        "We can also avoid manually pre-computing the features by using the original VGG-16 network as a whole during training. Let's look at the VGG-16 object structure:"
      ],
      "metadata": {
        "id": "70k_o1vFQfZK"
      }
    },
    {
      "cell_type": "code",
      "source": [
        "print(vgg)"
      ],
      "metadata": {
        "colab": {
          "base_uri": "https://localhost:8080/"
        },
        "id": "GR517kPNQSK-",
        "outputId": "33ea4e48-a210-4a29-fa20-e19ba87aba53"
      },
      "execution_count": null,
      "outputs": [
        {
          "output_type": "stream",
          "name": "stdout",
          "text": [
            "VGG(\n",
            "  (features): Sequential(\n",
            "    (0): Conv2d(3, 64, kernel_size=(3, 3), stride=(1, 1), padding=(1, 1))\n",
            "    (1): ReLU(inplace=True)\n",
            "    (2): Conv2d(64, 64, kernel_size=(3, 3), stride=(1, 1), padding=(1, 1))\n",
            "    (3): ReLU(inplace=True)\n",
            "    (4): MaxPool2d(kernel_size=2, stride=2, padding=0, dilation=1, ceil_mode=False)\n",
            "    (5): Conv2d(64, 128, kernel_size=(3, 3), stride=(1, 1), padding=(1, 1))\n",
            "    (6): ReLU(inplace=True)\n",
            "    (7): Conv2d(128, 128, kernel_size=(3, 3), stride=(1, 1), padding=(1, 1))\n",
            "    (8): ReLU(inplace=True)\n",
            "    (9): MaxPool2d(kernel_size=2, stride=2, padding=0, dilation=1, ceil_mode=False)\n",
            "    (10): Conv2d(128, 256, kernel_size=(3, 3), stride=(1, 1), padding=(1, 1))\n",
            "    (11): ReLU(inplace=True)\n",
            "    (12): Conv2d(256, 256, kernel_size=(3, 3), stride=(1, 1), padding=(1, 1))\n",
            "    (13): ReLU(inplace=True)\n",
            "    (14): Conv2d(256, 256, kernel_size=(3, 3), stride=(1, 1), padding=(1, 1))\n",
            "    (15): ReLU(inplace=True)\n",
            "    (16): MaxPool2d(kernel_size=2, stride=2, padding=0, dilation=1, ceil_mode=False)\n",
            "    (17): Conv2d(256, 512, kernel_size=(3, 3), stride=(1, 1), padding=(1, 1))\n",
            "    (18): ReLU(inplace=True)\n",
            "    (19): Conv2d(512, 512, kernel_size=(3, 3), stride=(1, 1), padding=(1, 1))\n",
            "    (20): ReLU(inplace=True)\n",
            "    (21): Conv2d(512, 512, kernel_size=(3, 3), stride=(1, 1), padding=(1, 1))\n",
            "    (22): ReLU(inplace=True)\n",
            "    (23): MaxPool2d(kernel_size=2, stride=2, padding=0, dilation=1, ceil_mode=False)\n",
            "    (24): Conv2d(512, 512, kernel_size=(3, 3), stride=(1, 1), padding=(1, 1))\n",
            "    (25): ReLU(inplace=True)\n",
            "    (26): Conv2d(512, 512, kernel_size=(3, 3), stride=(1, 1), padding=(1, 1))\n",
            "    (27): ReLU(inplace=True)\n",
            "    (28): Conv2d(512, 512, kernel_size=(3, 3), stride=(1, 1), padding=(1, 1))\n",
            "    (29): ReLU(inplace=True)\n",
            "    (30): MaxPool2d(kernel_size=2, stride=2, padding=0, dilation=1, ceil_mode=False)\n",
            "  )\n",
            "  (avgpool): AdaptiveAvgPool2d(output_size=(7, 7))\n",
            "  (classifier): Sequential(\n",
            "    (0): Linear(in_features=25088, out_features=4096, bias=True)\n",
            "    (1): ReLU(inplace=True)\n",
            "    (2): Dropout(p=0.5, inplace=False)\n",
            "    (3): Linear(in_features=4096, out_features=4096, bias=True)\n",
            "    (4): ReLU(inplace=True)\n",
            "    (5): Dropout(p=0.5, inplace=False)\n",
            "    (6): Linear(in_features=4096, out_features=1000, bias=True)\n",
            "  )\n",
            ")\n"
          ]
        }
      ]
    },
    {
      "cell_type": "code",
      "source": [
        "len(dataset)"
      ],
      "metadata": {
        "colab": {
          "base_uri": "https://localhost:8080/"
        },
        "id": "rn0liddMZ33b",
        "outputId": "82bcb082-6604-4e01-bd38-67da87da38b5"
      },
      "execution_count": null,
      "outputs": [
        {
          "output_type": "execute_result",
          "data": {
            "text/plain": [
              "2000"
            ]
          },
          "metadata": {},
          "execution_count": 55
        }
      ]
    },
    {
      "cell_type": "code",
      "source": [
        "trainset, testset = torch.utils.data.random_split(dataset,[1500,len(dataset)-1500])\n",
        "train_loader = torch.utils.data.DataLoader(trainset,batch_size=16)\n",
        "test_loader = torch.utils.data.DataLoader(testset,batch_size=16)\n",
        "train_long(vgg,train_loader,test_loader,loss_fn=torch.nn.CrossEntropyLoss(),epochs=1,print_freq=90)"
      ],
      "metadata": {
        "colab": {
          "base_uri": "https://localhost:8080/"
        },
        "id": "MwZ-aRFZROc5",
        "outputId": "7b962caf-472c-48c6-ffc8-251ff57b0433"
      },
      "execution_count": null,
      "outputs": [
        {
          "output_type": "stream",
          "name": "stdout",
          "text": [
            "Epoch 0, minibatch 0: train acc = 0.125, train loss = 0.07245943695306778\n",
            "Epoch 0, minibatch 90: train acc = 0.9457417582417582, train loss = 0.11926436162256933\n",
            "Epoch 0 done, validation acc = 0.962, validation loss = 0.1414356689453125\n"
          ]
        }
      ]
    },
    {
      "cell_type": "code",
      "source": [
        "#saving the weights\n",
        "torch.save(vgg,'cats_dogs.pth')"
      ],
      "metadata": {
        "id": "1xd8o-9CRk5D"
      },
      "execution_count": null,
      "outputs": []
    },
    {
      "cell_type": "code",
      "source": [
        "vgg = torch.load('cats_dogs.pth')"
      ],
      "metadata": {
        "id": "IegJ-Bb1aGqD"
      },
      "execution_count": null,
      "outputs": []
    },
    {
      "cell_type": "markdown",
      "source": [
        "### **Fine-tuning transfer learning**\n",
        "\n",
        "In the previous section, we have trained the final classifier layer to classify images in our own dataset. However, we did not re-train the feature extractor, and our model relied on the features that the model has learned on ImageNet data. If your objects visually differ from ordinary ImageNet images, this combination of features might not work best. Thus it makes sense to start training convolutional layers as well.\n",
        "\n",
        "To do that, we can unfreeze the convolutional filter parameters that we have previously frozen. \n",
        "\n",
        "> **Note:** It is important that you freeze parameters first and perform several epochs of training in order to stabilize weights in the classification layer. If you immediately start training end-to-end network with unfrozen parameters, large errors are likely to destroy the pre-trained weights in the convolutional layers."
      ],
      "metadata": {
        "id": "CyMa-eVDalq_"
      }
    },
    {
      "cell_type": "code",
      "source": [
        "for x in vgg.features.parameters():\n",
        "    x.requires_grad = True"
      ],
      "metadata": {
        "id": "aoj86eN2aRUS"
      },
      "execution_count": null,
      "outputs": []
    },
    {
      "cell_type": "markdown",
      "source": [
        "After unfreezing, we can do a few more epochs of training. You can also select lower learning rate, in order to minimize the impact on the pre-trained weights. However, even with low learning rate, you can expect the accuracy to drop in the beginning of the training, until finally reaching slightly higher level than in the case of fixed weights.\n",
        "\n",
        "> **Note:** This training happens much slower, because we need to propagate gradients back through many layers of the network! You may want to watch the first few minibatches to see the tendency, and then stop the computation."
      ],
      "metadata": {
        "id": "iFvqDb2ba0Sq"
      }
    },
    {
      "cell_type": "code",
      "source": [
        "train_long(vgg,train_loader,test_loader,loss_fn=torch.nn.CrossEntropyLoss(),epochs=1,print_freq=90,lr=0.0001)"
      ],
      "metadata": {
        "colab": {
          "base_uri": "https://localhost:8080/"
        },
        "id": "hcgvZsP2asWh",
        "outputId": "6f97bd22-bfa5-4913-a001-2e76a7aac5a0"
      },
      "execution_count": null,
      "outputs": [
        {
          "output_type": "stream",
          "name": "stdout",
          "text": [
            "Epoch 0, minibatch 0: train acc = 1.0, train loss = 0.0\n",
            "Epoch 0, minibatch 90: train acc = 0.9423076923076923, train loss = 0.048715874388977724\n",
            "Epoch 0 done, validation acc = 0.964, validation loss = 0.013272058486938477\n"
          ]
        }
      ]
    },
    {
      "cell_type": "code",
      "source": [
        "resnet = torchvision.models.resnet18()\n",
        "print(resnet)"
      ],
      "metadata": {
        "colab": {
          "base_uri": "https://localhost:8080/"
        },
        "id": "Wp9Rgj3Ka4xN",
        "outputId": "e5018c20-5ee8-41f8-aff7-028f82f45299"
      },
      "execution_count": null,
      "outputs": [
        {
          "output_type": "stream",
          "name": "stdout",
          "text": [
            "ResNet(\n",
            "  (conv1): Conv2d(3, 64, kernel_size=(7, 7), stride=(2, 2), padding=(3, 3), bias=False)\n",
            "  (bn1): BatchNorm2d(64, eps=1e-05, momentum=0.1, affine=True, track_running_stats=True)\n",
            "  (relu): ReLU(inplace=True)\n",
            "  (maxpool): MaxPool2d(kernel_size=3, stride=2, padding=1, dilation=1, ceil_mode=False)\n",
            "  (layer1): Sequential(\n",
            "    (0): BasicBlock(\n",
            "      (conv1): Conv2d(64, 64, kernel_size=(3, 3), stride=(1, 1), padding=(1, 1), bias=False)\n",
            "      (bn1): BatchNorm2d(64, eps=1e-05, momentum=0.1, affine=True, track_running_stats=True)\n",
            "      (relu): ReLU(inplace=True)\n",
            "      (conv2): Conv2d(64, 64, kernel_size=(3, 3), stride=(1, 1), padding=(1, 1), bias=False)\n",
            "      (bn2): BatchNorm2d(64, eps=1e-05, momentum=0.1, affine=True, track_running_stats=True)\n",
            "    )\n",
            "    (1): BasicBlock(\n",
            "      (conv1): Conv2d(64, 64, kernel_size=(3, 3), stride=(1, 1), padding=(1, 1), bias=False)\n",
            "      (bn1): BatchNorm2d(64, eps=1e-05, momentum=0.1, affine=True, track_running_stats=True)\n",
            "      (relu): ReLU(inplace=True)\n",
            "      (conv2): Conv2d(64, 64, kernel_size=(3, 3), stride=(1, 1), padding=(1, 1), bias=False)\n",
            "      (bn2): BatchNorm2d(64, eps=1e-05, momentum=0.1, affine=True, track_running_stats=True)\n",
            "    )\n",
            "  )\n",
            "  (layer2): Sequential(\n",
            "    (0): BasicBlock(\n",
            "      (conv1): Conv2d(64, 128, kernel_size=(3, 3), stride=(2, 2), padding=(1, 1), bias=False)\n",
            "      (bn1): BatchNorm2d(128, eps=1e-05, momentum=0.1, affine=True, track_running_stats=True)\n",
            "      (relu): ReLU(inplace=True)\n",
            "      (conv2): Conv2d(128, 128, kernel_size=(3, 3), stride=(1, 1), padding=(1, 1), bias=False)\n",
            "      (bn2): BatchNorm2d(128, eps=1e-05, momentum=0.1, affine=True, track_running_stats=True)\n",
            "      (downsample): Sequential(\n",
            "        (0): Conv2d(64, 128, kernel_size=(1, 1), stride=(2, 2), bias=False)\n",
            "        (1): BatchNorm2d(128, eps=1e-05, momentum=0.1, affine=True, track_running_stats=True)\n",
            "      )\n",
            "    )\n",
            "    (1): BasicBlock(\n",
            "      (conv1): Conv2d(128, 128, kernel_size=(3, 3), stride=(1, 1), padding=(1, 1), bias=False)\n",
            "      (bn1): BatchNorm2d(128, eps=1e-05, momentum=0.1, affine=True, track_running_stats=True)\n",
            "      (relu): ReLU(inplace=True)\n",
            "      (conv2): Conv2d(128, 128, kernel_size=(3, 3), stride=(1, 1), padding=(1, 1), bias=False)\n",
            "      (bn2): BatchNorm2d(128, eps=1e-05, momentum=0.1, affine=True, track_running_stats=True)\n",
            "    )\n",
            "  )\n",
            "  (layer3): Sequential(\n",
            "    (0): BasicBlock(\n",
            "      (conv1): Conv2d(128, 256, kernel_size=(3, 3), stride=(2, 2), padding=(1, 1), bias=False)\n",
            "      (bn1): BatchNorm2d(256, eps=1e-05, momentum=0.1, affine=True, track_running_stats=True)\n",
            "      (relu): ReLU(inplace=True)\n",
            "      (conv2): Conv2d(256, 256, kernel_size=(3, 3), stride=(1, 1), padding=(1, 1), bias=False)\n",
            "      (bn2): BatchNorm2d(256, eps=1e-05, momentum=0.1, affine=True, track_running_stats=True)\n",
            "      (downsample): Sequential(\n",
            "        (0): Conv2d(128, 256, kernel_size=(1, 1), stride=(2, 2), bias=False)\n",
            "        (1): BatchNorm2d(256, eps=1e-05, momentum=0.1, affine=True, track_running_stats=True)\n",
            "      )\n",
            "    )\n",
            "    (1): BasicBlock(\n",
            "      (conv1): Conv2d(256, 256, kernel_size=(3, 3), stride=(1, 1), padding=(1, 1), bias=False)\n",
            "      (bn1): BatchNorm2d(256, eps=1e-05, momentum=0.1, affine=True, track_running_stats=True)\n",
            "      (relu): ReLU(inplace=True)\n",
            "      (conv2): Conv2d(256, 256, kernel_size=(3, 3), stride=(1, 1), padding=(1, 1), bias=False)\n",
            "      (bn2): BatchNorm2d(256, eps=1e-05, momentum=0.1, affine=True, track_running_stats=True)\n",
            "    )\n",
            "  )\n",
            "  (layer4): Sequential(\n",
            "    (0): BasicBlock(\n",
            "      (conv1): Conv2d(256, 512, kernel_size=(3, 3), stride=(2, 2), padding=(1, 1), bias=False)\n",
            "      (bn1): BatchNorm2d(512, eps=1e-05, momentum=0.1, affine=True, track_running_stats=True)\n",
            "      (relu): ReLU(inplace=True)\n",
            "      (conv2): Conv2d(512, 512, kernel_size=(3, 3), stride=(1, 1), padding=(1, 1), bias=False)\n",
            "      (bn2): BatchNorm2d(512, eps=1e-05, momentum=0.1, affine=True, track_running_stats=True)\n",
            "      (downsample): Sequential(\n",
            "        (0): Conv2d(256, 512, kernel_size=(1, 1), stride=(2, 2), bias=False)\n",
            "        (1): BatchNorm2d(512, eps=1e-05, momentum=0.1, affine=True, track_running_stats=True)\n",
            "      )\n",
            "    )\n",
            "    (1): BasicBlock(\n",
            "      (conv1): Conv2d(512, 512, kernel_size=(3, 3), stride=(1, 1), padding=(1, 1), bias=False)\n",
            "      (bn1): BatchNorm2d(512, eps=1e-05, momentum=0.1, affine=True, track_running_stats=True)\n",
            "      (relu): ReLU(inplace=True)\n",
            "      (conv2): Conv2d(512, 512, kernel_size=(3, 3), stride=(1, 1), padding=(1, 1), bias=False)\n",
            "      (bn2): BatchNorm2d(512, eps=1e-05, momentum=0.1, affine=True, track_running_stats=True)\n",
            "    )\n",
            "  )\n",
            "  (avgpool): AdaptiveAvgPool2d(output_size=(1, 1))\n",
            "  (fc): Linear(in_features=512, out_features=1000, bias=True)\n",
            ")\n"
          ]
        }
      ]
    },
    {
      "cell_type": "code",
      "source": [
        "resnet.classifier = torch.nn.Linear(512,2).to(device)\n",
        "\n",
        "for x in resnet.parameters():\n",
        "    x.requires_grad = True\n",
        "\n",
        "summary(resnet,(1, 3,64,64))"
      ],
      "metadata": {
        "colab": {
          "base_uri": "https://localhost:8080/"
        },
        "id": "ezeTgzKQbl15",
        "outputId": "f097c785-0392-4716-b263-cde388605790"
      },
      "execution_count": null,
      "outputs": [
        {
          "output_type": "execute_result",
          "data": {
            "text/plain": [
              "==========================================================================================\n",
              "Layer (type:depth-idx)                   Output Shape              Param #\n",
              "==========================================================================================\n",
              "ResNet                                   [1, 1000]                 1,026\n",
              "├─Conv2d: 1-1                            [1, 64, 32, 32]           9,408\n",
              "├─BatchNorm2d: 1-2                       [1, 64, 32, 32]           128\n",
              "├─ReLU: 1-3                              [1, 64, 32, 32]           --\n",
              "├─MaxPool2d: 1-4                         [1, 64, 16, 16]           --\n",
              "├─Sequential: 1-5                        [1, 64, 16, 16]           --\n",
              "│    └─BasicBlock: 2-1                   [1, 64, 16, 16]           --\n",
              "│    │    └─Conv2d: 3-1                  [1, 64, 16, 16]           36,864\n",
              "│    │    └─BatchNorm2d: 3-2             [1, 64, 16, 16]           128\n",
              "│    │    └─ReLU: 3-3                    [1, 64, 16, 16]           --\n",
              "│    │    └─Conv2d: 3-4                  [1, 64, 16, 16]           36,864\n",
              "│    │    └─BatchNorm2d: 3-5             [1, 64, 16, 16]           128\n",
              "│    │    └─ReLU: 3-6                    [1, 64, 16, 16]           --\n",
              "│    └─BasicBlock: 2-2                   [1, 64, 16, 16]           --\n",
              "│    │    └─Conv2d: 3-7                  [1, 64, 16, 16]           36,864\n",
              "│    │    └─BatchNorm2d: 3-8             [1, 64, 16, 16]           128\n",
              "│    │    └─ReLU: 3-9                    [1, 64, 16, 16]           --\n",
              "│    │    └─Conv2d: 3-10                 [1, 64, 16, 16]           36,864\n",
              "│    │    └─BatchNorm2d: 3-11            [1, 64, 16, 16]           128\n",
              "│    │    └─ReLU: 3-12                   [1, 64, 16, 16]           --\n",
              "├─Sequential: 1-6                        [1, 128, 8, 8]            --\n",
              "│    └─BasicBlock: 2-3                   [1, 128, 8, 8]            --\n",
              "│    │    └─Conv2d: 3-13                 [1, 128, 8, 8]            73,728\n",
              "│    │    └─BatchNorm2d: 3-14            [1, 128, 8, 8]            256\n",
              "│    │    └─ReLU: 3-15                   [1, 128, 8, 8]            --\n",
              "│    │    └─Conv2d: 3-16                 [1, 128, 8, 8]            147,456\n",
              "│    │    └─BatchNorm2d: 3-17            [1, 128, 8, 8]            256\n",
              "│    │    └─Sequential: 3-18             [1, 128, 8, 8]            8,448\n",
              "│    │    └─ReLU: 3-19                   [1, 128, 8, 8]            --\n",
              "│    └─BasicBlock: 2-4                   [1, 128, 8, 8]            --\n",
              "│    │    └─Conv2d: 3-20                 [1, 128, 8, 8]            147,456\n",
              "│    │    └─BatchNorm2d: 3-21            [1, 128, 8, 8]            256\n",
              "│    │    └─ReLU: 3-22                   [1, 128, 8, 8]            --\n",
              "│    │    └─Conv2d: 3-23                 [1, 128, 8, 8]            147,456\n",
              "│    │    └─BatchNorm2d: 3-24            [1, 128, 8, 8]            256\n",
              "│    │    └─ReLU: 3-25                   [1, 128, 8, 8]            --\n",
              "├─Sequential: 1-7                        [1, 256, 4, 4]            --\n",
              "│    └─BasicBlock: 2-5                   [1, 256, 4, 4]            --\n",
              "│    │    └─Conv2d: 3-26                 [1, 256, 4, 4]            294,912\n",
              "│    │    └─BatchNorm2d: 3-27            [1, 256, 4, 4]            512\n",
              "│    │    └─ReLU: 3-28                   [1, 256, 4, 4]            --\n",
              "│    │    └─Conv2d: 3-29                 [1, 256, 4, 4]            589,824\n",
              "│    │    └─BatchNorm2d: 3-30            [1, 256, 4, 4]            512\n",
              "│    │    └─Sequential: 3-31             [1, 256, 4, 4]            33,280\n",
              "│    │    └─ReLU: 3-32                   [1, 256, 4, 4]            --\n",
              "│    └─BasicBlock: 2-6                   [1, 256, 4, 4]            --\n",
              "│    │    └─Conv2d: 3-33                 [1, 256, 4, 4]            589,824\n",
              "│    │    └─BatchNorm2d: 3-34            [1, 256, 4, 4]            512\n",
              "│    │    └─ReLU: 3-35                   [1, 256, 4, 4]            --\n",
              "│    │    └─Conv2d: 3-36                 [1, 256, 4, 4]            589,824\n",
              "│    │    └─BatchNorm2d: 3-37            [1, 256, 4, 4]            512\n",
              "│    │    └─ReLU: 3-38                   [1, 256, 4, 4]            --\n",
              "├─Sequential: 1-8                        [1, 512, 2, 2]            --\n",
              "│    └─BasicBlock: 2-7                   [1, 512, 2, 2]            --\n",
              "│    │    └─Conv2d: 3-39                 [1, 512, 2, 2]            1,179,648\n",
              "│    │    └─BatchNorm2d: 3-40            [1, 512, 2, 2]            1,024\n",
              "│    │    └─ReLU: 3-41                   [1, 512, 2, 2]            --\n",
              "│    │    └─Conv2d: 3-42                 [1, 512, 2, 2]            2,359,296\n",
              "│    │    └─BatchNorm2d: 3-43            [1, 512, 2, 2]            1,024\n",
              "│    │    └─Sequential: 3-44             [1, 512, 2, 2]            132,096\n",
              "│    │    └─ReLU: 3-45                   [1, 512, 2, 2]            --\n",
              "│    └─BasicBlock: 2-8                   [1, 512, 2, 2]            --\n",
              "│    │    └─Conv2d: 3-46                 [1, 512, 2, 2]            2,359,296\n",
              "│    │    └─BatchNorm2d: 3-47            [1, 512, 2, 2]            1,024\n",
              "│    │    └─ReLU: 3-48                   [1, 512, 2, 2]            --\n",
              "│    │    └─Conv2d: 3-49                 [1, 512, 2, 2]            2,359,296\n",
              "│    │    └─BatchNorm2d: 3-50            [1, 512, 2, 2]            1,024\n",
              "│    │    └─ReLU: 3-51                   [1, 512, 2, 2]            --\n",
              "├─AdaptiveAvgPool2d: 1-9                 [1, 512, 1, 1]            --\n",
              "├─Linear: 1-10                           [1, 1000]                 513,000\n",
              "==========================================================================================\n",
              "Total params: 11,690,538\n",
              "Trainable params: 11,690,538\n",
              "Non-trainable params: 0\n",
              "Total mult-adds (M): 148.57\n",
              "==========================================================================================\n",
              "Input size (MB): 0.05\n",
              "Forward/backward pass size (MB): 3.25\n",
              "Params size (MB): 46.76\n",
              "Estimated Total Size (MB): 50.06\n",
              "=========================================================================================="
            ]
          },
          "metadata": {},
          "execution_count": 69
        }
      ]
    },
    {
      "cell_type": "code",
      "source": [
        "#GPU computations\n",
        "device = 'cuda' if torch.cuda.is_available() else 'cpu'\n",
        "\n",
        "print('Doing computations on device = {}'.format(device))\n",
        "\n",
        "resnet.to(device)\n",
        "sample_image = sample_image.to(device)\n",
        "\n",
        "resnet(sample_image).argmax()"
      ],
      "metadata": {
        "colab": {
          "base_uri": "https://localhost:8080/"
        },
        "id": "69NfauSTewdL",
        "outputId": "cbb3cfaf-982a-4973-fdec-5fed395f453a"
      },
      "execution_count": null,
      "outputs": [
        {
          "output_type": "stream",
          "name": "stdout",
          "text": [
            "Doing computations on device = cuda\n"
          ]
        },
        {
          "output_type": "execute_result",
          "data": {
            "text/plain": [
              "tensor(638, device='cuda:0')"
            ]
          },
          "metadata": {},
          "execution_count": 70
        }
      ]
    },
    {
      "cell_type": "code",
      "source": [
        "train_long(resnet,train_loader,test_loader,loss_fn=torch.nn.CrossEntropyLoss(),epochs=1,print_freq=90,lr=0.0001)"
      ],
      "metadata": {
        "colab": {
          "base_uri": "https://localhost:8080/"
        },
        "id": "xUb9WpFcdefS",
        "outputId": "1329e463-4466-497b-c512-d8404cef6aa1"
      },
      "execution_count": null,
      "outputs": [
        {
          "output_type": "stream",
          "name": "stdout",
          "text": [
            "Epoch 0, minibatch 0: train acc = 0.0, train loss = 0.44024571776390076\n",
            "Epoch 0, minibatch 90: train acc = 0.5824175824175825, train loss = 0.15905932541731949\n",
            "Epoch 0 done, validation acc = 0.672, validation loss = 0.048371009826660157\n"
          ]
        }
      ]
    },
    {
      "cell_type": "markdown",
      "source": [
        "### **Lightweight networks and MobileNet**\n"
      ],
      "metadata": {
        "id": "k3gDxNALfYvg"
      }
    },
    {
      "cell_type": "markdown",
      "source": [
        "### **MobileNet**\n",
        "\n",
        "Previously, we have seen **ResNet** architecture for image classification. More lightweight analog of ResNet is **MobileNet**, which uses so-called *Inverted Residual Blocks*. Let's load pre-trained mobilenet and see how it works:"
      ],
      "metadata": {
        "id": "E_WCc9R2fsAy"
      }
    },
    {
      "cell_type": "code",
      "source": [
        "model = torch.hub.load('pytorch/vision:v0.6.0', 'mobilenet_v2', pretrained=True)\n",
        "model.eval()\n",
        "print(model)"
      ],
      "metadata": {
        "colab": {
          "base_uri": "https://localhost:8080/",
          "height": 1000,
          "referenced_widgets": [
            "95fee73d73134dc28c30aca7a77b2ec8",
            "2c6f66c4b38d49348e510681656ac6ef",
            "47b9792a5c504cd28c3d84e8ca876cfd",
            "9cb2c3ca080848bcbadf67daa85e0ab4",
            "e4bc597d5d544aa6a04c38fb38a2fd2d",
            "c257cbd6b3e64d6fb1c0c58ceb19e2ba",
            "11417e96ce5a4e8e91552524cfe12390",
            "629bf8538c0e4da9afae484945eef19d",
            "b77d82100a4a4fe4b0d2559e6d8304bd",
            "31e888b4133546dd98177ae16651bb44",
            "e1ed9062717543a6b029d47d99209e9c"
          ]
        },
        "id": "3GknA6WvdsIP",
        "outputId": "7449af45-8a33-4fd5-9df2-7a1e632f6d15"
      },
      "execution_count": null,
      "outputs": [
        {
          "output_type": "stream",
          "name": "stderr",
          "text": [
            "Downloading: \"https://github.com/pytorch/vision/archive/v0.6.0.zip\" to /root/.cache/torch/hub/v0.6.0.zip\n",
            "Downloading: \"https://download.pytorch.org/models/mobilenet_v2-b0353104.pth\" to /root/.cache/torch/hub/checkpoints/mobilenet_v2-b0353104.pth\n"
          ]
        },
        {
          "output_type": "display_data",
          "data": {
            "text/plain": [
              "  0%|          | 0.00/13.6M [00:00<?, ?B/s]"
            ],
            "application/vnd.jupyter.widget-view+json": {
              "version_major": 2,
              "version_minor": 0,
              "model_id": "95fee73d73134dc28c30aca7a77b2ec8"
            }
          },
          "metadata": {}
        },
        {
          "output_type": "stream",
          "name": "stdout",
          "text": [
            "MobileNetV2(\n",
            "  (features): Sequential(\n",
            "    (0): ConvNormActivation(\n",
            "      (0): Conv2d(3, 32, kernel_size=(3, 3), stride=(2, 2), padding=(1, 1), bias=False)\n",
            "      (1): BatchNorm2d(32, eps=1e-05, momentum=0.1, affine=True, track_running_stats=True)\n",
            "      (2): ReLU6(inplace=True)\n",
            "    )\n",
            "    (1): InvertedResidual(\n",
            "      (conv): Sequential(\n",
            "        (0): ConvNormActivation(\n",
            "          (0): Conv2d(32, 32, kernel_size=(3, 3), stride=(1, 1), padding=(1, 1), groups=32, bias=False)\n",
            "          (1): BatchNorm2d(32, eps=1e-05, momentum=0.1, affine=True, track_running_stats=True)\n",
            "          (2): ReLU6(inplace=True)\n",
            "        )\n",
            "        (1): Conv2d(32, 16, kernel_size=(1, 1), stride=(1, 1), bias=False)\n",
            "        (2): BatchNorm2d(16, eps=1e-05, momentum=0.1, affine=True, track_running_stats=True)\n",
            "      )\n",
            "    )\n",
            "    (2): InvertedResidual(\n",
            "      (conv): Sequential(\n",
            "        (0): ConvNormActivation(\n",
            "          (0): Conv2d(16, 96, kernel_size=(1, 1), stride=(1, 1), bias=False)\n",
            "          (1): BatchNorm2d(96, eps=1e-05, momentum=0.1, affine=True, track_running_stats=True)\n",
            "          (2): ReLU6(inplace=True)\n",
            "        )\n",
            "        (1): ConvNormActivation(\n",
            "          (0): Conv2d(96, 96, kernel_size=(3, 3), stride=(2, 2), padding=(1, 1), groups=96, bias=False)\n",
            "          (1): BatchNorm2d(96, eps=1e-05, momentum=0.1, affine=True, track_running_stats=True)\n",
            "          (2): ReLU6(inplace=True)\n",
            "        )\n",
            "        (2): Conv2d(96, 24, kernel_size=(1, 1), stride=(1, 1), bias=False)\n",
            "        (3): BatchNorm2d(24, eps=1e-05, momentum=0.1, affine=True, track_running_stats=True)\n",
            "      )\n",
            "    )\n",
            "    (3): InvertedResidual(\n",
            "      (conv): Sequential(\n",
            "        (0): ConvNormActivation(\n",
            "          (0): Conv2d(24, 144, kernel_size=(1, 1), stride=(1, 1), bias=False)\n",
            "          (1): BatchNorm2d(144, eps=1e-05, momentum=0.1, affine=True, track_running_stats=True)\n",
            "          (2): ReLU6(inplace=True)\n",
            "        )\n",
            "        (1): ConvNormActivation(\n",
            "          (0): Conv2d(144, 144, kernel_size=(3, 3), stride=(1, 1), padding=(1, 1), groups=144, bias=False)\n",
            "          (1): BatchNorm2d(144, eps=1e-05, momentum=0.1, affine=True, track_running_stats=True)\n",
            "          (2): ReLU6(inplace=True)\n",
            "        )\n",
            "        (2): Conv2d(144, 24, kernel_size=(1, 1), stride=(1, 1), bias=False)\n",
            "        (3): BatchNorm2d(24, eps=1e-05, momentum=0.1, affine=True, track_running_stats=True)\n",
            "      )\n",
            "    )\n",
            "    (4): InvertedResidual(\n",
            "      (conv): Sequential(\n",
            "        (0): ConvNormActivation(\n",
            "          (0): Conv2d(24, 144, kernel_size=(1, 1), stride=(1, 1), bias=False)\n",
            "          (1): BatchNorm2d(144, eps=1e-05, momentum=0.1, affine=True, track_running_stats=True)\n",
            "          (2): ReLU6(inplace=True)\n",
            "        )\n",
            "        (1): ConvNormActivation(\n",
            "          (0): Conv2d(144, 144, kernel_size=(3, 3), stride=(2, 2), padding=(1, 1), groups=144, bias=False)\n",
            "          (1): BatchNorm2d(144, eps=1e-05, momentum=0.1, affine=True, track_running_stats=True)\n",
            "          (2): ReLU6(inplace=True)\n",
            "        )\n",
            "        (2): Conv2d(144, 32, kernel_size=(1, 1), stride=(1, 1), bias=False)\n",
            "        (3): BatchNorm2d(32, eps=1e-05, momentum=0.1, affine=True, track_running_stats=True)\n",
            "      )\n",
            "    )\n",
            "    (5): InvertedResidual(\n",
            "      (conv): Sequential(\n",
            "        (0): ConvNormActivation(\n",
            "          (0): Conv2d(32, 192, kernel_size=(1, 1), stride=(1, 1), bias=False)\n",
            "          (1): BatchNorm2d(192, eps=1e-05, momentum=0.1, affine=True, track_running_stats=True)\n",
            "          (2): ReLU6(inplace=True)\n",
            "        )\n",
            "        (1): ConvNormActivation(\n",
            "          (0): Conv2d(192, 192, kernel_size=(3, 3), stride=(1, 1), padding=(1, 1), groups=192, bias=False)\n",
            "          (1): BatchNorm2d(192, eps=1e-05, momentum=0.1, affine=True, track_running_stats=True)\n",
            "          (2): ReLU6(inplace=True)\n",
            "        )\n",
            "        (2): Conv2d(192, 32, kernel_size=(1, 1), stride=(1, 1), bias=False)\n",
            "        (3): BatchNorm2d(32, eps=1e-05, momentum=0.1, affine=True, track_running_stats=True)\n",
            "      )\n",
            "    )\n",
            "    (6): InvertedResidual(\n",
            "      (conv): Sequential(\n",
            "        (0): ConvNormActivation(\n",
            "          (0): Conv2d(32, 192, kernel_size=(1, 1), stride=(1, 1), bias=False)\n",
            "          (1): BatchNorm2d(192, eps=1e-05, momentum=0.1, affine=True, track_running_stats=True)\n",
            "          (2): ReLU6(inplace=True)\n",
            "        )\n",
            "        (1): ConvNormActivation(\n",
            "          (0): Conv2d(192, 192, kernel_size=(3, 3), stride=(1, 1), padding=(1, 1), groups=192, bias=False)\n",
            "          (1): BatchNorm2d(192, eps=1e-05, momentum=0.1, affine=True, track_running_stats=True)\n",
            "          (2): ReLU6(inplace=True)\n",
            "        )\n",
            "        (2): Conv2d(192, 32, kernel_size=(1, 1), stride=(1, 1), bias=False)\n",
            "        (3): BatchNorm2d(32, eps=1e-05, momentum=0.1, affine=True, track_running_stats=True)\n",
            "      )\n",
            "    )\n",
            "    (7): InvertedResidual(\n",
            "      (conv): Sequential(\n",
            "        (0): ConvNormActivation(\n",
            "          (0): Conv2d(32, 192, kernel_size=(1, 1), stride=(1, 1), bias=False)\n",
            "          (1): BatchNorm2d(192, eps=1e-05, momentum=0.1, affine=True, track_running_stats=True)\n",
            "          (2): ReLU6(inplace=True)\n",
            "        )\n",
            "        (1): ConvNormActivation(\n",
            "          (0): Conv2d(192, 192, kernel_size=(3, 3), stride=(2, 2), padding=(1, 1), groups=192, bias=False)\n",
            "          (1): BatchNorm2d(192, eps=1e-05, momentum=0.1, affine=True, track_running_stats=True)\n",
            "          (2): ReLU6(inplace=True)\n",
            "        )\n",
            "        (2): Conv2d(192, 64, kernel_size=(1, 1), stride=(1, 1), bias=False)\n",
            "        (3): BatchNorm2d(64, eps=1e-05, momentum=0.1, affine=True, track_running_stats=True)\n",
            "      )\n",
            "    )\n",
            "    (8): InvertedResidual(\n",
            "      (conv): Sequential(\n",
            "        (0): ConvNormActivation(\n",
            "          (0): Conv2d(64, 384, kernel_size=(1, 1), stride=(1, 1), bias=False)\n",
            "          (1): BatchNorm2d(384, eps=1e-05, momentum=0.1, affine=True, track_running_stats=True)\n",
            "          (2): ReLU6(inplace=True)\n",
            "        )\n",
            "        (1): ConvNormActivation(\n",
            "          (0): Conv2d(384, 384, kernel_size=(3, 3), stride=(1, 1), padding=(1, 1), groups=384, bias=False)\n",
            "          (1): BatchNorm2d(384, eps=1e-05, momentum=0.1, affine=True, track_running_stats=True)\n",
            "          (2): ReLU6(inplace=True)\n",
            "        )\n",
            "        (2): Conv2d(384, 64, kernel_size=(1, 1), stride=(1, 1), bias=False)\n",
            "        (3): BatchNorm2d(64, eps=1e-05, momentum=0.1, affine=True, track_running_stats=True)\n",
            "      )\n",
            "    )\n",
            "    (9): InvertedResidual(\n",
            "      (conv): Sequential(\n",
            "        (0): ConvNormActivation(\n",
            "          (0): Conv2d(64, 384, kernel_size=(1, 1), stride=(1, 1), bias=False)\n",
            "          (1): BatchNorm2d(384, eps=1e-05, momentum=0.1, affine=True, track_running_stats=True)\n",
            "          (2): ReLU6(inplace=True)\n",
            "        )\n",
            "        (1): ConvNormActivation(\n",
            "          (0): Conv2d(384, 384, kernel_size=(3, 3), stride=(1, 1), padding=(1, 1), groups=384, bias=False)\n",
            "          (1): BatchNorm2d(384, eps=1e-05, momentum=0.1, affine=True, track_running_stats=True)\n",
            "          (2): ReLU6(inplace=True)\n",
            "        )\n",
            "        (2): Conv2d(384, 64, kernel_size=(1, 1), stride=(1, 1), bias=False)\n",
            "        (3): BatchNorm2d(64, eps=1e-05, momentum=0.1, affine=True, track_running_stats=True)\n",
            "      )\n",
            "    )\n",
            "    (10): InvertedResidual(\n",
            "      (conv): Sequential(\n",
            "        (0): ConvNormActivation(\n",
            "          (0): Conv2d(64, 384, kernel_size=(1, 1), stride=(1, 1), bias=False)\n",
            "          (1): BatchNorm2d(384, eps=1e-05, momentum=0.1, affine=True, track_running_stats=True)\n",
            "          (2): ReLU6(inplace=True)\n",
            "        )\n",
            "        (1): ConvNormActivation(\n",
            "          (0): Conv2d(384, 384, kernel_size=(3, 3), stride=(1, 1), padding=(1, 1), groups=384, bias=False)\n",
            "          (1): BatchNorm2d(384, eps=1e-05, momentum=0.1, affine=True, track_running_stats=True)\n",
            "          (2): ReLU6(inplace=True)\n",
            "        )\n",
            "        (2): Conv2d(384, 64, kernel_size=(1, 1), stride=(1, 1), bias=False)\n",
            "        (3): BatchNorm2d(64, eps=1e-05, momentum=0.1, affine=True, track_running_stats=True)\n",
            "      )\n",
            "    )\n",
            "    (11): InvertedResidual(\n",
            "      (conv): Sequential(\n",
            "        (0): ConvNormActivation(\n",
            "          (0): Conv2d(64, 384, kernel_size=(1, 1), stride=(1, 1), bias=False)\n",
            "          (1): BatchNorm2d(384, eps=1e-05, momentum=0.1, affine=True, track_running_stats=True)\n",
            "          (2): ReLU6(inplace=True)\n",
            "        )\n",
            "        (1): ConvNormActivation(\n",
            "          (0): Conv2d(384, 384, kernel_size=(3, 3), stride=(1, 1), padding=(1, 1), groups=384, bias=False)\n",
            "          (1): BatchNorm2d(384, eps=1e-05, momentum=0.1, affine=True, track_running_stats=True)\n",
            "          (2): ReLU6(inplace=True)\n",
            "        )\n",
            "        (2): Conv2d(384, 96, kernel_size=(1, 1), stride=(1, 1), bias=False)\n",
            "        (3): BatchNorm2d(96, eps=1e-05, momentum=0.1, affine=True, track_running_stats=True)\n",
            "      )\n",
            "    )\n",
            "    (12): InvertedResidual(\n",
            "      (conv): Sequential(\n",
            "        (0): ConvNormActivation(\n",
            "          (0): Conv2d(96, 576, kernel_size=(1, 1), stride=(1, 1), bias=False)\n",
            "          (1): BatchNorm2d(576, eps=1e-05, momentum=0.1, affine=True, track_running_stats=True)\n",
            "          (2): ReLU6(inplace=True)\n",
            "        )\n",
            "        (1): ConvNormActivation(\n",
            "          (0): Conv2d(576, 576, kernel_size=(3, 3), stride=(1, 1), padding=(1, 1), groups=576, bias=False)\n",
            "          (1): BatchNorm2d(576, eps=1e-05, momentum=0.1, affine=True, track_running_stats=True)\n",
            "          (2): ReLU6(inplace=True)\n",
            "        )\n",
            "        (2): Conv2d(576, 96, kernel_size=(1, 1), stride=(1, 1), bias=False)\n",
            "        (3): BatchNorm2d(96, eps=1e-05, momentum=0.1, affine=True, track_running_stats=True)\n",
            "      )\n",
            "    )\n",
            "    (13): InvertedResidual(\n",
            "      (conv): Sequential(\n",
            "        (0): ConvNormActivation(\n",
            "          (0): Conv2d(96, 576, kernel_size=(1, 1), stride=(1, 1), bias=False)\n",
            "          (1): BatchNorm2d(576, eps=1e-05, momentum=0.1, affine=True, track_running_stats=True)\n",
            "          (2): ReLU6(inplace=True)\n",
            "        )\n",
            "        (1): ConvNormActivation(\n",
            "          (0): Conv2d(576, 576, kernel_size=(3, 3), stride=(1, 1), padding=(1, 1), groups=576, bias=False)\n",
            "          (1): BatchNorm2d(576, eps=1e-05, momentum=0.1, affine=True, track_running_stats=True)\n",
            "          (2): ReLU6(inplace=True)\n",
            "        )\n",
            "        (2): Conv2d(576, 96, kernel_size=(1, 1), stride=(1, 1), bias=False)\n",
            "        (3): BatchNorm2d(96, eps=1e-05, momentum=0.1, affine=True, track_running_stats=True)\n",
            "      )\n",
            "    )\n",
            "    (14): InvertedResidual(\n",
            "      (conv): Sequential(\n",
            "        (0): ConvNormActivation(\n",
            "          (0): Conv2d(96, 576, kernel_size=(1, 1), stride=(1, 1), bias=False)\n",
            "          (1): BatchNorm2d(576, eps=1e-05, momentum=0.1, affine=True, track_running_stats=True)\n",
            "          (2): ReLU6(inplace=True)\n",
            "        )\n",
            "        (1): ConvNormActivation(\n",
            "          (0): Conv2d(576, 576, kernel_size=(3, 3), stride=(2, 2), padding=(1, 1), groups=576, bias=False)\n",
            "          (1): BatchNorm2d(576, eps=1e-05, momentum=0.1, affine=True, track_running_stats=True)\n",
            "          (2): ReLU6(inplace=True)\n",
            "        )\n",
            "        (2): Conv2d(576, 160, kernel_size=(1, 1), stride=(1, 1), bias=False)\n",
            "        (3): BatchNorm2d(160, eps=1e-05, momentum=0.1, affine=True, track_running_stats=True)\n",
            "      )\n",
            "    )\n",
            "    (15): InvertedResidual(\n",
            "      (conv): Sequential(\n",
            "        (0): ConvNormActivation(\n",
            "          (0): Conv2d(160, 960, kernel_size=(1, 1), stride=(1, 1), bias=False)\n",
            "          (1): BatchNorm2d(960, eps=1e-05, momentum=0.1, affine=True, track_running_stats=True)\n",
            "          (2): ReLU6(inplace=True)\n",
            "        )\n",
            "        (1): ConvNormActivation(\n",
            "          (0): Conv2d(960, 960, kernel_size=(3, 3), stride=(1, 1), padding=(1, 1), groups=960, bias=False)\n",
            "          (1): BatchNorm2d(960, eps=1e-05, momentum=0.1, affine=True, track_running_stats=True)\n",
            "          (2): ReLU6(inplace=True)\n",
            "        )\n",
            "        (2): Conv2d(960, 160, kernel_size=(1, 1), stride=(1, 1), bias=False)\n",
            "        (3): BatchNorm2d(160, eps=1e-05, momentum=0.1, affine=True, track_running_stats=True)\n",
            "      )\n",
            "    )\n",
            "    (16): InvertedResidual(\n",
            "      (conv): Sequential(\n",
            "        (0): ConvNormActivation(\n",
            "          (0): Conv2d(160, 960, kernel_size=(1, 1), stride=(1, 1), bias=False)\n",
            "          (1): BatchNorm2d(960, eps=1e-05, momentum=0.1, affine=True, track_running_stats=True)\n",
            "          (2): ReLU6(inplace=True)\n",
            "        )\n",
            "        (1): ConvNormActivation(\n",
            "          (0): Conv2d(960, 960, kernel_size=(3, 3), stride=(1, 1), padding=(1, 1), groups=960, bias=False)\n",
            "          (1): BatchNorm2d(960, eps=1e-05, momentum=0.1, affine=True, track_running_stats=True)\n",
            "          (2): ReLU6(inplace=True)\n",
            "        )\n",
            "        (2): Conv2d(960, 160, kernel_size=(1, 1), stride=(1, 1), bias=False)\n",
            "        (3): BatchNorm2d(160, eps=1e-05, momentum=0.1, affine=True, track_running_stats=True)\n",
            "      )\n",
            "    )\n",
            "    (17): InvertedResidual(\n",
            "      (conv): Sequential(\n",
            "        (0): ConvNormActivation(\n",
            "          (0): Conv2d(160, 960, kernel_size=(1, 1), stride=(1, 1), bias=False)\n",
            "          (1): BatchNorm2d(960, eps=1e-05, momentum=0.1, affine=True, track_running_stats=True)\n",
            "          (2): ReLU6(inplace=True)\n",
            "        )\n",
            "        (1): ConvNormActivation(\n",
            "          (0): Conv2d(960, 960, kernel_size=(3, 3), stride=(1, 1), padding=(1, 1), groups=960, bias=False)\n",
            "          (1): BatchNorm2d(960, eps=1e-05, momentum=0.1, affine=True, track_running_stats=True)\n",
            "          (2): ReLU6(inplace=True)\n",
            "        )\n",
            "        (2): Conv2d(960, 320, kernel_size=(1, 1), stride=(1, 1), bias=False)\n",
            "        (3): BatchNorm2d(320, eps=1e-05, momentum=0.1, affine=True, track_running_stats=True)\n",
            "      )\n",
            "    )\n",
            "    (18): ConvNormActivation(\n",
            "      (0): Conv2d(320, 1280, kernel_size=(1, 1), stride=(1, 1), bias=False)\n",
            "      (1): BatchNorm2d(1280, eps=1e-05, momentum=0.1, affine=True, track_running_stats=True)\n",
            "      (2): ReLU6(inplace=True)\n",
            "    )\n",
            "  )\n",
            "  (classifier): Sequential(\n",
            "    (0): Dropout(p=0.2, inplace=False)\n",
            "    (1): Linear(in_features=1280, out_features=1000, bias=True)\n",
            "  )\n",
            ")\n"
          ]
        }
      ]
    },
    {
      "cell_type": "code",
      "source": [
        "sample_image = dataset[0][0].unsqueeze(0)\n",
        "res = model(sample_image)\n",
        "print(res[0].argmax())"
      ],
      "metadata": {
        "colab": {
          "base_uri": "https://localhost:8080/"
        },
        "id": "KcDmUDIgf4Dx",
        "outputId": "a0791cc5-e510-41af-8968-942b87b1c65f"
      },
      "execution_count": null,
      "outputs": [
        {
          "output_type": "stream",
          "name": "stdout",
          "text": [
            "tensor(903)\n"
          ]
        }
      ]
    },
    {
      "cell_type": "code",
      "source": [
        "for x in model.parameters():\n",
        "    x.requires_grad = False"
      ],
      "metadata": {
        "id": "2VCYGhDZgA2v"
      },
      "execution_count": null,
      "outputs": []
    },
    {
      "cell_type": "code",
      "source": [
        "device = 'cuda' if torch.cuda.is_available() else 'cpu'\n",
        "model.classifier = nn.Linear(1280,2) #replacing the final classifier\n",
        "model = model.to(device)\n",
        "summary(model,input_size=(1,3,244,244))"
      ],
      "metadata": {
        "colab": {
          "base_uri": "https://localhost:8080/"
        },
        "id": "sycDeO-LgH7n",
        "outputId": "a553bba1-3d2d-443f-faa7-6e156ea4d740"
      },
      "execution_count": null,
      "outputs": [
        {
          "output_type": "execute_result",
          "data": {
            "text/plain": [
              "===============================================================================================\n",
              "Layer (type:depth-idx)                        Output Shape              Param #\n",
              "===============================================================================================\n",
              "MobileNetV2                                   [1, 2]                    --\n",
              "├─Sequential: 1-1                             [1, 1280, 8, 8]           --\n",
              "│    └─ConvNormActivation: 2-1                [1, 32, 122, 122]         --\n",
              "│    │    └─Conv2d: 3-1                       [1, 32, 122, 122]         (864)\n",
              "│    │    └─BatchNorm2d: 3-2                  [1, 32, 122, 122]         (64)\n",
              "│    │    └─ReLU6: 3-3                        [1, 32, 122, 122]         --\n",
              "│    └─InvertedResidual: 2-2                  [1, 16, 122, 122]         --\n",
              "│    │    └─Sequential: 3-4                   [1, 16, 122, 122]         (896)\n",
              "│    └─InvertedResidual: 2-3                  [1, 24, 61, 61]           --\n",
              "│    │    └─Sequential: 3-5                   [1, 24, 61, 61]           (5,136)\n",
              "│    └─InvertedResidual: 2-4                  [1, 24, 61, 61]           --\n",
              "│    │    └─Sequential: 3-6                   [1, 24, 61, 61]           (8,832)\n",
              "│    └─InvertedResidual: 2-5                  [1, 32, 31, 31]           --\n",
              "│    │    └─Sequential: 3-7                   [1, 32, 31, 31]           (10,000)\n",
              "│    └─InvertedResidual: 2-6                  [1, 32, 31, 31]           --\n",
              "│    │    └─Sequential: 3-8                   [1, 32, 31, 31]           (14,848)\n",
              "│    └─InvertedResidual: 2-7                  [1, 32, 31, 31]           --\n",
              "│    │    └─Sequential: 3-9                   [1, 32, 31, 31]           (14,848)\n",
              "│    └─InvertedResidual: 2-8                  [1, 64, 16, 16]           --\n",
              "│    │    └─Sequential: 3-10                  [1, 64, 16, 16]           (21,056)\n",
              "│    └─InvertedResidual: 2-9                  [1, 64, 16, 16]           --\n",
              "│    │    └─Sequential: 3-11                  [1, 64, 16, 16]           (54,272)\n",
              "│    └─InvertedResidual: 2-10                 [1, 64, 16, 16]           --\n",
              "│    │    └─Sequential: 3-12                  [1, 64, 16, 16]           (54,272)\n",
              "│    └─InvertedResidual: 2-11                 [1, 64, 16, 16]           --\n",
              "│    │    └─Sequential: 3-13                  [1, 64, 16, 16]           (54,272)\n",
              "│    └─InvertedResidual: 2-12                 [1, 96, 16, 16]           --\n",
              "│    │    └─Sequential: 3-14                  [1, 96, 16, 16]           (66,624)\n",
              "│    └─InvertedResidual: 2-13                 [1, 96, 16, 16]           --\n",
              "│    │    └─Sequential: 3-15                  [1, 96, 16, 16]           (118,272)\n",
              "│    └─InvertedResidual: 2-14                 [1, 96, 16, 16]           --\n",
              "│    │    └─Sequential: 3-16                  [1, 96, 16, 16]           (118,272)\n",
              "│    └─InvertedResidual: 2-15                 [1, 160, 8, 8]            --\n",
              "│    │    └─Sequential: 3-17                  [1, 160, 8, 8]            (155,264)\n",
              "│    └─InvertedResidual: 2-16                 [1, 160, 8, 8]            --\n",
              "│    │    └─Sequential: 3-18                  [1, 160, 8, 8]            (320,000)\n",
              "│    └─InvertedResidual: 2-17                 [1, 160, 8, 8]            --\n",
              "│    │    └─Sequential: 3-19                  [1, 160, 8, 8]            (320,000)\n",
              "│    └─InvertedResidual: 2-18                 [1, 320, 8, 8]            --\n",
              "│    │    └─Sequential: 3-20                  [1, 320, 8, 8]            (473,920)\n",
              "│    └─ConvNormActivation: 2-19               [1, 1280, 8, 8]           --\n",
              "│    │    └─Conv2d: 3-21                      [1, 1280, 8, 8]           (409,600)\n",
              "│    │    └─BatchNorm2d: 3-22                 [1, 1280, 8, 8]           (2,560)\n",
              "│    │    └─ReLU6: 3-23                       [1, 1280, 8, 8]           --\n",
              "├─Linear: 1-2                                 [1, 2]                    2,562\n",
              "===============================================================================================\n",
              "Total params: 2,226,434\n",
              "Trainable params: 2,562\n",
              "Non-trainable params: 2,223,872\n",
              "Total mult-adds (M): 378.33\n",
              "===============================================================================================\n",
              "Input size (MB): 0.71\n",
              "Forward/backward pass size (MB): 130.67\n",
              "Params size (MB): 8.91\n",
              "Estimated Total Size (MB): 140.29\n",
              "==============================================================================================="
            ]
          },
          "metadata": {},
          "execution_count": 76
        }
      ]
    },
    {
      "cell_type": "code",
      "source": [
        " train_long(model,train_loader,test_loader,loss_fn=torch.nn.CrossEntropyLoss(),epochs=1,print_freq=90)"
      ],
      "metadata": {
        "colab": {
          "base_uri": "https://localhost:8080/"
        },
        "id": "lMsv1DxFgL8G",
        "outputId": "4159c8b4-255f-4165-877e-53287b8e0910"
      },
      "execution_count": null,
      "outputs": [
        {
          "output_type": "stream",
          "name": "stdout",
          "text": [
            "Epoch 0, minibatch 0: train acc = 0.4375, train loss = 0.045233264565467834\n",
            "Epoch 0, minibatch 90: train acc = 0.8722527472527473, train loss = 0.026240469335199714\n",
            "Epoch 0 done, validation acc = 0.964, validation loss = 0.007637086391448974\n"
          ]
        }
      ]
    },
    {
      "cell_type": "code",
      "source": [
        ""
      ],
      "metadata": {
        "id": "8SnMOupqgSlQ"
      },
      "execution_count": null,
      "outputs": []
    }
  ]
}