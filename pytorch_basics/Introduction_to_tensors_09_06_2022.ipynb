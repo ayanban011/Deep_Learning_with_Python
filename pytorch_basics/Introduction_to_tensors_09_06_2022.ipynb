{
  "nbformat": 4,
  "nbformat_minor": 0,
  "metadata": {
    "colab": {
      "name": "Introduction_to_tensors_09.06.2022.ipynb",
      "provenance": [],
      "collapsed_sections": []
    },
    "kernelspec": {
      "name": "python3",
      "display_name": "Python 3"
    },
    "language_info": {
      "name": "python"
    },
    "accelerator": "GPU"
  },
  "cells": [
    {
      "cell_type": "markdown",
      "source": [
        "# **Tensors**\n",
        "Tensors are a specialized data structure that are very similar to arrays and matrices. In PyTorch, we use tensors to encode the inputs and outputs of a model, as well as the model’s parameters"
      ],
      "metadata": {
        "id": "_UFfgz4OkUO2"
      }
    },
    {
      "cell_type": "code",
      "execution_count": 1,
      "metadata": {
        "id": "fAHHVGGbkJKi"
      },
      "outputs": [],
      "source": [
        "# initializing required libraries\n",
        "%matplotlib inline\n",
        "import torch\n",
        "import numpy as np"
      ]
    },
    {
      "cell_type": "markdown",
      "source": [
        "### **Initializing a Tensor**\n",
        "Tensors can be initialized in various ways. Let us learn one by one with some examples."
      ],
      "metadata": {
        "id": "RKUyulQPkpqz"
      }
    },
    {
      "cell_type": "code",
      "source": [
        "#Directly from data\n",
        "##Tensors can be created directly from data. The data type is automatically inferred.\n",
        "data = [[1, 2],[3, 4]]\n",
        "x_data = torch.tensor(data)"
      ],
      "metadata": {
        "id": "bPB50Iwukmr9"
      },
      "execution_count": 2,
      "outputs": []
    },
    {
      "cell_type": "code",
      "source": [
        "#From a NumPy array\n",
        "##Tensors can be created from NumPy arrays and vice versa.\n",
        "##Since, numpy 'np_array' and tensor 'x_np' share the same memory location here, changing the value for one will change the other.\n",
        "np_array = np.array(data)\n",
        "x_np = torch.from_numpy(np_array)\n",
        "\n",
        "print(f\"Numpy np_array value: \\n {np_array} \\n\")\n",
        "print(f\"Tensor x_np value: \\n {x_np} \\n\")\n",
        "\n",
        "np.multiply(np_array, 2, out=np_array)\n",
        "\n",
        "print(f\"Numpy np_array after * 2 operation: \\n {np_array} \\n\")\n",
        "print(f\"Tensor x_np value after modifying numpy array: \\n {x_np} \\n\")"
      ],
      "metadata": {
        "colab": {
          "base_uri": "https://localhost:8080/"
        },
        "id": "u2jjepkSlZYQ",
        "outputId": "126de208-6658-4441-b0bc-079e8bd50af4"
      },
      "execution_count": 3,
      "outputs": [
        {
          "output_type": "stream",
          "name": "stdout",
          "text": [
            "Numpy np_array value: \n",
            " [[1 2]\n",
            " [3 4]] \n",
            "\n",
            "Tensor x_np value: \n",
            " tensor([[1, 2],\n",
            "        [3, 4]]) \n",
            "\n",
            "Numpy np_array after * 2 operation: \n",
            " [[2 4]\n",
            " [6 8]] \n",
            "\n",
            "Tensor x_np value after modifying numpy array: \n",
            " tensor([[2, 4],\n",
            "        [6, 8]]) \n",
            "\n"
          ]
        }
      ]
    },
    {
      "cell_type": "code",
      "source": [
        "# From another Tensor\n",
        "## The new tensor retains the properties (shape, data type) of the argument tensor, unless explicitly overridden.\n",
        "\n",
        "x_ones = torch.ones_like(x_data) # retains the properties of x_data\n",
        "print(f\"Ones Tensor: \\n {x_ones} \\n\")\n",
        "\n",
        "x_rand = torch.rand_like(x_data, dtype=torch.float) # overrides the datatype of x_data\n",
        "print(f\"Random Tensor: \\n {x_rand} \\n\")\n",
        "\n",
        "x_zeros = torch.zeros_like(x_data, dtype=torch.float)\n",
        "print(f\"zeros Tensor: \\n {x_zeros} \\n\")"
      ],
      "metadata": {
        "colab": {
          "base_uri": "https://localhost:8080/"
        },
        "id": "-PWgRRa1mH15",
        "outputId": "1eead6c8-6ae8-47f6-a564-850a9a90eb4b"
      },
      "execution_count": 5,
      "outputs": [
        {
          "output_type": "stream",
          "name": "stdout",
          "text": [
            "Ones Tensor: \n",
            " tensor([[1, 1],\n",
            "        [1, 1]]) \n",
            "\n",
            "Random Tensor: \n",
            " tensor([[0.9950, 0.4723],\n",
            "        [0.3530, 0.2471]]) \n",
            "\n",
            "zeros Tensor: \n",
            " tensor([[0., 0.],\n",
            "        [0., 0.]]) \n",
            "\n"
          ]
        }
      ]
    },
    {
      "cell_type": "code",
      "source": [
        "# With random or constant values\n",
        "## shape is a tuple of tensor dimensions. In the functions below, it determines the dimensionality of the output tensor. \n",
        "## Shape shows the number of rows and columns in the tensor. E.g. shape = (# of rows, # of columns).\n",
        "\n",
        "shape = (2,3,)\n",
        "rand_tensor = torch.rand(shape)\n",
        "one_tensor = torch.ones(shape)\n",
        "zero_tensor = torch.zeros(shape)\n",
        "\n",
        "print(f\"Random Tensor: \\n {rand_tensor} \\n\")\n",
        "print(f\"Ones Tensor: \\n {one_tensor} \\n\")\n",
        "print(f\"Zeros Tensor: \\n {zero_tensor}\")"
      ],
      "metadata": {
        "colab": {
          "base_uri": "https://localhost:8080/"
        },
        "id": "wKoqSIAbnSL6",
        "outputId": "d79d9eae-5b76-4e4f-9c1f-a661e00b0867"
      },
      "execution_count": 7,
      "outputs": [
        {
          "output_type": "stream",
          "name": "stdout",
          "text": [
            "Random Tensor: \n",
            " tensor([[0.6777, 0.7177, 0.8809],\n",
            "        [0.0125, 0.5541, 0.4655]]) \n",
            "\n",
            "Ones Tensor: \n",
            " tensor([[1., 1., 1.],\n",
            "        [1., 1., 1.]]) \n",
            "\n",
            "Zeros Tensor: \n",
            " tensor([[0., 0., 0.],\n",
            "        [0., 0., 0.]])\n"
          ]
        }
      ]
    },
    {
      "cell_type": "code",
      "source": [
        "# Attributes of a Tensor\n",
        "## Tensor attributes describe their shape, data type, and the device on which they are stored.\n",
        "tensor = torch.rand(6,4)\n",
        "\n",
        "print(f\"Shape of tensor: {tensor.shape}\")\n",
        "print(f\"Datatype of tensor: {tensor.dtype}\")\n",
        "print(f\"Device tensor is stored on: {tensor.device}\")\n",
        "print(f\"Tensor is: \\n {tensor} \\n\")"
      ],
      "metadata": {
        "colab": {
          "base_uri": "https://localhost:8080/"
        },
        "id": "1TJh6QMMonw9",
        "outputId": "92ea5a02-1746-4602-b216-9f16328f1ed2"
      },
      "execution_count": 9,
      "outputs": [
        {
          "output_type": "stream",
          "name": "stdout",
          "text": [
            "Shape of tensor: torch.Size([6, 4])\n",
            "Datatype of tensor: torch.float32\n",
            "Device tensor is stored on: cpu\n",
            "Tensor is: \n",
            " tensor([[0.9091, 0.5291, 0.4100, 0.5252],\n",
            "        [0.2892, 0.0612, 0.3434, 0.7284],\n",
            "        [0.5928, 0.2666, 0.1880, 0.8962],\n",
            "        [0.7004, 0.1597, 0.1125, 0.5763],\n",
            "        [0.0998, 0.3441, 0.3975, 0.5670],\n",
            "        [0.2613, 0.0696, 0.3307, 0.5460]]) \n",
            "\n"
          ]
        }
      ]
    },
    {
      "cell_type": "markdown",
      "source": [
        "### **Operations on Tensor**"
      ],
      "metadata": {
        "id": "Bc2wcGo0qFxx"
      }
    },
    {
      "cell_type": "code",
      "source": [
        "# We move our tensor to the GPU if available\n",
        "if torch.cuda.is_available():\n",
        "  tensor = tensor.to('cuda')"
      ],
      "metadata": {
        "id": "uucQ2QF3paWO"
      },
      "execution_count": 10,
      "outputs": []
    },
    {
      "cell_type": "code",
      "source": [
        "print(f\"Device tensor is stored on: {tensor.device}\")"
      ],
      "metadata": {
        "colab": {
          "base_uri": "https://localhost:8080/"
        },
        "id": "GL8ldzX_qj3N",
        "outputId": "e46a4404-02d6-40e8-d104-19fb1b416703"
      },
      "execution_count": 11,
      "outputs": [
        {
          "output_type": "stream",
          "name": "stdout",
          "text": [
            "Device tensor is stored on: cuda:0\n"
          ]
        }
      ]
    },
    {
      "cell_type": "markdown",
      "source": [
        "Let's try out some of the operations on our created tensors."
      ],
      "metadata": {
        "id": "mbhYzX7GrHNe"
      }
    },
    {
      "cell_type": "code",
      "source": [
        "# Standard numpy-like indexing and slicing:\n",
        "tensor = torch.ones(4, 4)\n",
        "print('First row: ',tensor[0])\n",
        "print('Last roww: ', tensor[-1])\n",
        "print('First column: ', tensor[:, 0])\n",
        "print('Last column:', tensor[..., -1])\n",
        "\n",
        "tensor[:,1] = 0\n",
        "print(tensor)"
      ],
      "metadata": {
        "colab": {
          "base_uri": "https://localhost:8080/"
        },
        "id": "XPQCbobSqtYP",
        "outputId": "cc5f532e-40ca-4b82-9ec5-386804f55f0d"
      },
      "execution_count": 12,
      "outputs": [
        {
          "output_type": "stream",
          "name": "stdout",
          "text": [
            "First row:  tensor([1., 1., 1., 1.])\n",
            "Last roww:  tensor([1., 1., 1., 1.])\n",
            "First column:  tensor([1., 1., 1., 1.])\n",
            "Last column: tensor([1., 1., 1., 1.])\n",
            "tensor([[1., 0., 1., 1.],\n",
            "        [1., 0., 1., 1.],\n",
            "        [1., 0., 1., 1.],\n",
            "        [1., 0., 1., 1.]])\n"
          ]
        }
      ]
    },
    {
      "cell_type": "code",
      "source": [
        "# Joining tensors\n",
        "## We can use torch.cat to concatenate a sequence of tensors along a given dimension.\n",
        "t1 = torch.cat([tensor, tensor, tensor], dim=-1)\n",
        "print(t1)\n",
        "## torch.stack is another tensor joining option that is subtly different from torch.cat.\n",
        "t2 = torch.stack([tensor, tensor, tensor], dim=1)\n",
        "print(t2)"
      ],
      "metadata": {
        "colab": {
          "base_uri": "https://localhost:8080/"
        },
        "id": "nusC0RzYrsHj",
        "outputId": "f1d837ed-252b-4324-b5af-8e986b0a6b12"
      },
      "execution_count": 23,
      "outputs": [
        {
          "output_type": "stream",
          "name": "stdout",
          "text": [
            "tensor([[1., 0., 1., 1., 1., 0., 1., 1., 1., 0., 1., 1.],\n",
            "        [1., 0., 1., 1., 1., 0., 1., 1., 1., 0., 1., 1.],\n",
            "        [1., 0., 1., 1., 1., 0., 1., 1., 1., 0., 1., 1.],\n",
            "        [1., 0., 1., 1., 1., 0., 1., 1., 1., 0., 1., 1.]])\n",
            "tensor([[[1., 0., 1., 1.],\n",
            "         [1., 0., 1., 1.],\n",
            "         [1., 0., 1., 1.]],\n",
            "\n",
            "        [[1., 0., 1., 1.],\n",
            "         [1., 0., 1., 1.],\n",
            "         [1., 0., 1., 1.]],\n",
            "\n",
            "        [[1., 0., 1., 1.],\n",
            "         [1., 0., 1., 1.],\n",
            "         [1., 0., 1., 1.]],\n",
            "\n",
            "        [[1., 0., 1., 1.],\n",
            "         [1., 0., 1., 1.],\n",
            "         [1., 0., 1., 1.]]])\n"
          ]
        }
      ]
    },
    {
      "cell_type": "markdown",
      "source": [
        "### **Arithmatic Operations**\n"
      ],
      "metadata": {
        "id": "xOt992pltL-w"
      }
    },
    {
      "cell_type": "code",
      "source": [
        "# This computes the matrix multiplication between two tensors. y1, y2, y3 will have the same value\n",
        "y1 = tensor @ tensor.T #.T = Transpose\n",
        "y2 = tensor.matmul(tensor.T)\n",
        "\n",
        "y3 = torch.rand_like(tensor)\n",
        "torch.matmul(tensor, tensor.T, out=y3)\n",
        "print(f\"With @ \\n {y1} \\n\")\n",
        "print(f\"With matmul \\n {y2} \\n\")\n",
        "print(f\"With matmul and out \\n {y3} \\n\")\n",
        "\n",
        "# This computes the element-wise product. z1, z2, z3 will have the same value\n",
        "z1 = tensor * tensor\n",
        "z2 = tensor.mul(tensor)\n",
        "\n",
        "z3 = torch.rand_like(tensor)\n",
        "torch.mul(tensor, tensor, out=z3)\n",
        "\n",
        "print(f\"With * \\n {z1} \\n\")\n",
        "print(f\"With mul \\n {z2} \\n\")\n",
        "print(f\"With mul and out \\n {z3} \\n\")"
      ],
      "metadata": {
        "colab": {
          "base_uri": "https://localhost:8080/"
        },
        "id": "D3_zrz6-sf6w",
        "outputId": "b65b694f-8390-43ee-a8d8-040cf6721b96"
      },
      "execution_count": 24,
      "outputs": [
        {
          "output_type": "stream",
          "name": "stdout",
          "text": [
            "With @ \n",
            " tensor([[3., 3., 3., 3.],\n",
            "        [3., 3., 3., 3.],\n",
            "        [3., 3., 3., 3.],\n",
            "        [3., 3., 3., 3.]]) \n",
            "\n",
            "With matmul \n",
            " tensor([[3., 3., 3., 3.],\n",
            "        [3., 3., 3., 3.],\n",
            "        [3., 3., 3., 3.],\n",
            "        [3., 3., 3., 3.]]) \n",
            "\n",
            "With matmul and out \n",
            " tensor([[3., 3., 3., 3.],\n",
            "        [3., 3., 3., 3.],\n",
            "        [3., 3., 3., 3.],\n",
            "        [3., 3., 3., 3.]]) \n",
            "\n",
            "With * \n",
            " tensor([[1., 0., 1., 1.],\n",
            "        [1., 0., 1., 1.],\n",
            "        [1., 0., 1., 1.],\n",
            "        [1., 0., 1., 1.]]) \n",
            "\n",
            "With mul \n",
            " tensor([[1., 0., 1., 1.],\n",
            "        [1., 0., 1., 1.],\n",
            "        [1., 0., 1., 1.],\n",
            "        [1., 0., 1., 1.]]) \n",
            "\n",
            "With mul and out \n",
            " tensor([[1., 0., 1., 1.],\n",
            "        [1., 0., 1., 1.],\n",
            "        [1., 0., 1., 1.],\n",
            "        [1., 0., 1., 1.]]) \n",
            "\n"
          ]
        }
      ]
    },
    {
      "cell_type": "code",
      "source": [
        "# Single element tensors\n",
        "## If we have a one-element tensor, for example by aggregating all values of a tensor into one value, \n",
        "## you can convert it to a Python numerical value using item():\n",
        "\n",
        "agg = tensor.sum()\n",
        "agg_item = agg.item() \n",
        "print(agg_item, type(agg_item))"
      ],
      "metadata": {
        "colab": {
          "base_uri": "https://localhost:8080/"
        },
        "id": "RmDz5YKmupdk",
        "outputId": "9b7c9c4a-df0d-4e65-c2d0-2ccbf1deba37"
      },
      "execution_count": 25,
      "outputs": [
        {
          "output_type": "stream",
          "name": "stdout",
          "text": [
            "12.0 <class 'float'>\n"
          ]
        }
      ]
    },
    {
      "cell_type": "code",
      "source": [
        "# In-place operations\n",
        "## Operations that store the result into the operand are called in-place. \n",
        "## They are denoted by a _ suffix. For example: x.copy_(y), x.t_(), will change x.\n",
        "\n",
        "print(tensor, \"\\n\")\n",
        "tensor.add_(5)\n",
        "print(tensor, \"\\n\")\n",
        "tensor.copy_(y2)\n",
        "print(tensor,\"\\n\")\n",
        "tensor.t_()\n",
        "print(tensor,\"\\n\")"
      ],
      "metadata": {
        "colab": {
          "base_uri": "https://localhost:8080/"
        },
        "id": "Xd24AEnwvSdO",
        "outputId": "199e4bfa-ca11-4c51-c6d1-efea4a7786c5"
      },
      "execution_count": 26,
      "outputs": [
        {
          "output_type": "stream",
          "name": "stdout",
          "text": [
            "tensor([[1., 0., 1., 1.],\n",
            "        [1., 0., 1., 1.],\n",
            "        [1., 0., 1., 1.],\n",
            "        [1., 0., 1., 1.]]) \n",
            "\n",
            "tensor([[6., 5., 6., 6.],\n",
            "        [6., 5., 6., 6.],\n",
            "        [6., 5., 6., 6.],\n",
            "        [6., 5., 6., 6.]]) \n",
            "\n",
            "tensor([[3., 3., 3., 3.],\n",
            "        [3., 3., 3., 3.],\n",
            "        [3., 3., 3., 3.],\n",
            "        [3., 3., 3., 3.]]) \n",
            "\n",
            "tensor([[3., 3., 3., 3.],\n",
            "        [3., 3., 3., 3.],\n",
            "        [3., 3., 3., 3.],\n",
            "        [3., 3., 3., 3.]]) \n",
            "\n"
          ]
        }
      ]
    },
    {
      "cell_type": "code",
      "source": [
        ""
      ],
      "metadata": {
        "id": "pO64oWdowTYl"
      },
      "execution_count": null,
      "outputs": []
    }
  ]
}