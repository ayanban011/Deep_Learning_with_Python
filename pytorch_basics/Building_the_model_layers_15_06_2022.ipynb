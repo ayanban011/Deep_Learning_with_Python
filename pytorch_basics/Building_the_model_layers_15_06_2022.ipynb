{
  "nbformat": 4,
  "nbformat_minor": 0,
  "metadata": {
    "colab": {
      "name": "Building_the_model_layers_15.06.2022.ipynb",
      "provenance": [],
      "collapsed_sections": []
    },
    "kernelspec": {
      "name": "python3",
      "display_name": "Python 3"
    },
    "language_info": {
      "name": "python"
    },
    "accelerator": "GPU",
    "gpuClass": "standard"
  },
  "cells": [
    {
      "cell_type": "markdown",
      "source": [
        "### **What is Neural Network**\n",
        "Neural network is a collection of neurons that are connected by layers. Each neuron is a small computing unit that performs simple calculations to collectively solve a problem. They are organized in layers. There are 3 types of layers: input layer, hidden layer and outter layer. Each layer contains a number of neurons, except for the input layer. Neural networks mimic the way a human brain processes information."
      ],
      "metadata": {
        "id": "v0_Qj41A0tec"
      }
    },
    {
      "cell_type": "markdown",
      "source": [
        "## **Components of a neural network**\n",
        "\n",
        "- **Activation function** determines whether a neuron should be activated or not. The computations that happen in a neural network include applying an activation function. If a neuron activates, then it means the input is important.  The are different kinds of activation functions. The choice of which activation function to use depends on what you want the output to be. Another important role of an activation function is to add non-linearity to the model.\n",
        "    - _Binary_ used to set an output node to 1 if function result is positive and 0 if the function result is negative.  f(x)= \\begin{cases} 0, & \\text{if } x < 0\\\\ 1, & \\text{if } x\\geq 0\\\\ \\end{cases}\n",
        "    - _Sigmod_ is used to predict the probability of an output node being between 0 and 1.  $f(x) = {\\large \\frac{1}{1+e^{-x}}} $\n",
        "    - _Tanh_ is used to predict if an output node is between 1 and -1.  Used in classification use cases.  $f(x) = {\\large \\frac{e^{x} - e^{-x}}{e^{x} + e^{-x}}} $\n",
        "    - _ReLU_ used to set the output node to 0 if fuction result is negative and keeps the result value if the result is a positive value.  f(x)= \\begin{cases} 0, & \\text{if } x < 0\\\\ x, & \\text{if } x\\geq 0\\\\ \\end{cases}\n",
        "- **Weights** influence how well the output of our network will come close to the expected output value. As an input enters the neuron, it gets multiplied by a weight value and the resulting output is either observed, or passed to the next layer in the neural network. Weights for all neurons in a layer are organized into one tensor\n",
        "- **Bias** makes up the difference between the activation function's output and its intended output. A low bias suggest that the network is making more assumptions about the form of the output, whereas a high bias value makes less assumptions about the form of the output. \n",
        "\n",
        "\n",
        "\n",
        "We can say that an output $y$ of a neural network layer with weights $W$ and bias $b$ is computed as summation of the inputs multiply by the weights plus the bias $x = \\sum{(weights * inputs) + bias} $, where $f(x)$ is the activation function."
      ],
      "metadata": {
        "id": "WBk3Gd1119lT"
      }
    },
    {
      "cell_type": "markdown",
      "source": [
        "### **Build a Neural Network**\n",
        "Neural networks are comprised of layers/modules that perform operations on data. The ***torch.nn*** namespace provides all the building blocks you need to build your own neural network. Every module in PyTorch subclasses the ***nn.Module***. A neural network is a module itself that consists of other modules (layers). This nested structure allows for building and managing complex architectures easily.\n",
        "\n",
        "In the following sections, we'll build a neural network to classify images in the ***FashionMNIST*** dataset.\n",
        "\n"
      ],
      "metadata": {
        "id": "H64e1Y-n2wa8"
      }
    },
    {
      "cell_type": "code",
      "execution_count": 1,
      "metadata": {
        "id": "fjXkJqqozZlt"
      },
      "outputs": [],
      "source": [
        "%matplotlib inline\n",
        "import os\n",
        "import torch\n",
        "from torch import nn\n",
        "from torch.utils.data import DataLoader\n",
        "from torchvision import datasets, transforms"
      ]
    },
    {
      "cell_type": "markdown",
      "source": [
        "### **Get a hardware device for training**\n",
        "We want to be able to train our model on a hardware accelerator like the GPU, if it is available. Let's check to see if ***torch.cuda*** is available, else we continue to use the CPU."
      ],
      "metadata": {
        "id": "7D2ofx_d30L_"
      }
    },
    {
      "cell_type": "code",
      "source": [
        "device = 'cuda' if torch.cuda.is_available() else 'cpu'\n",
        "print('Using {} device'.format(device))"
      ],
      "metadata": {
        "colab": {
          "base_uri": "https://localhost:8080/"
        },
        "id": "PScar7Ow3lbj",
        "outputId": "0773b453-1721-4e16-f24a-965ce8876eda"
      },
      "execution_count": 2,
      "outputs": [
        {
          "output_type": "stream",
          "name": "stdout",
          "text": [
            "Using cuda device\n"
          ]
        }
      ]
    },
    {
      "cell_type": "markdown",
      "source": [
        "### **Define the class**\n",
        "We define our neural network by subclassing `nn.Module`, and \n",
        "initialize the neural network layers in `__init__`. Every `nn.Module` subclass implements\n",
        "the operations on input data in the `forward` method.\n",
        "\n",
        "Our neural network are composed of the following:\n",
        "- The input layer with 28x28 or 784 features/pixels.\n",
        "- The first linear module takes the input 784 features and transforms it to a hidden layer with 512 features\n",
        "- The ReLU activation function will be applied in the transformation\n",
        "- The second linear module take 512 features as input from the first hidden layer and transforms it to the next hidden layer with 512 features\n",
        "- The ReLU activation function will be applied in the transformation\n",
        "- The third linear module take 512 features as input from the second hidden layer and transforms it to the output layer with 10, which is the number of classes\n",
        "- The ReLU activation function will be applied in the transformation"
      ],
      "metadata": {
        "id": "A6G5MjBt4nlh"
      }
    },
    {
      "cell_type": "code",
      "source": [
        "class NeuralNetwork(nn.Module):\n",
        "    def __init__(self):\n",
        "        super(NeuralNetwork, self).__init__()\n",
        "        self.flatten = nn.Flatten()\n",
        "        self.linear_relu_stack = nn.Sequential(\n",
        "            nn.Linear(28*28, 512),\n",
        "            nn.ReLU(),\n",
        "            nn.Linear(512, 512),\n",
        "            nn.ReLU(),\n",
        "            nn.Linear(512, 10),\n",
        "            nn.ReLU()\n",
        "        )\n",
        "\n",
        "    def forward(self, x):\n",
        "        x = self.flatten(x)\n",
        "        logits = self.linear_relu_stack(x)\n",
        "        return logits"
      ],
      "metadata": {
        "id": "IMDOhhwf4Glo"
      },
      "execution_count": 3,
      "outputs": []
    },
    {
      "cell_type": "markdown",
      "source": [
        "We create an instance of `NeuralNetwork`, and move it to the `device`, and print \n",
        "it's structure."
      ],
      "metadata": {
        "id": "yK5FRofA6Zsl"
      }
    },
    {
      "cell_type": "code",
      "source": [
        "model = NeuralNetwork().to(device)\n",
        "print(model)"
      ],
      "metadata": {
        "colab": {
          "base_uri": "https://localhost:8080/"
        },
        "id": "iMrer4es53Wn",
        "outputId": "79778c9b-4c55-4d80-a99b-92d382e08f02"
      },
      "execution_count": 4,
      "outputs": [
        {
          "output_type": "stream",
          "name": "stdout",
          "text": [
            "NeuralNetwork(\n",
            "  (flatten): Flatten(start_dim=1, end_dim=-1)\n",
            "  (linear_relu_stack): Sequential(\n",
            "    (0): Linear(in_features=784, out_features=512, bias=True)\n",
            "    (1): ReLU()\n",
            "    (2): Linear(in_features=512, out_features=512, bias=True)\n",
            "    (3): ReLU()\n",
            "    (4): Linear(in_features=512, out_features=10, bias=True)\n",
            "    (5): ReLU()\n",
            "  )\n",
            ")\n"
          ]
        }
      ]
    },
    {
      "cell_type": "markdown",
      "source": [
        "To use the model, we pass it the input data. This executes the model's `forward`, along with some background operations. However, do not call `model.forward()` directly! Calling the model on the input returns a 10-dimensional tensor with raw predicted values for each class.\n",
        "\n",
        "We get the prediction densities by passing it through an instance of the `nn.Softmax`."
      ],
      "metadata": {
        "id": "ElivswOW7odb"
      }
    },
    {
      "cell_type": "code",
      "source": [
        "X = torch.rand(1, 28, 28, device=device)\n",
        "logits = model(X) \n",
        "pred_probab = nn.Softmax(dim=1)(logits)\n",
        "y_pred = pred_probab.argmax(1)\n",
        "print(f\"Predicted class: {y_pred}\")"
      ],
      "metadata": {
        "colab": {
          "base_uri": "https://localhost:8080/"
        },
        "id": "pKDGiinU6mNr",
        "outputId": "c7a3be03-e9ab-4839-970a-1dbe693bd2cd"
      },
      "execution_count": 5,
      "outputs": [
        {
          "output_type": "stream",
          "name": "stdout",
          "text": [
            "Predicted class: tensor([9], device='cuda:0')\n"
          ]
        }
      ]
    },
    {
      "cell_type": "markdown",
      "source": [
        "### **Weight and Bias**\n",
        "\n",
        "\n",
        "The `nn.Linear` module randomly initializes the ${weights}$  and ${ bias}$ for each layer and internally stores the values in Tensors."
      ],
      "metadata": {
        "id": "fmPuXCGa74TH"
      }
    },
    {
      "cell_type": "code",
      "source": [
        "print(f\"First Linear weights: {model.linear_relu_stack[0].weight} \\n\")\n",
        "print(f\"First Linear bias: {model.linear_relu_stack[0].bias} \\n\")\n",
        "\n",
        "print(f\"Second Linear weights: {model.linear_relu_stack[2].weight} \\n\")\n",
        "print(f\"Second Linear bias: {model.linear_relu_stack[2].bias} \\n\")\n",
        "\n",
        "print(f\"Third Linear weights: {model.linear_relu_stack[4].weight} \\n\")\n",
        "print(f\"Third Linear bias: {model.linear_relu_stack[4].bias} \\n\")"
      ],
      "metadata": {
        "colab": {
          "base_uri": "https://localhost:8080/"
        },
        "id": "J1auyTqf7wgg",
        "outputId": "20f4c3f7-b698-4265-ab5f-54dc3576f3c7"
      },
      "execution_count": 7,
      "outputs": [
        {
          "output_type": "stream",
          "name": "stdout",
          "text": [
            "First Linear weights: Parameter containing:\n",
            "tensor([[-0.0177,  0.0154,  0.0266,  ..., -0.0189,  0.0246,  0.0332],\n",
            "        [ 0.0222,  0.0013,  0.0174,  ..., -0.0315, -0.0180, -0.0105],\n",
            "        [ 0.0344, -0.0357,  0.0262,  ..., -0.0310, -0.0094, -0.0159],\n",
            "        ...,\n",
            "        [ 0.0089, -0.0090, -0.0161,  ..., -0.0065,  0.0018, -0.0265],\n",
            "        [ 0.0079,  0.0319, -0.0139,  ..., -0.0118,  0.0138,  0.0230],\n",
            "        [-0.0079,  0.0316, -0.0274,  ..., -0.0235, -0.0238,  0.0110]],\n",
            "       device='cuda:0', requires_grad=True) \n",
            "\n",
            "First Linear bias: Parameter containing:\n",
            "tensor([-9.3269e-03, -5.0084e-03,  2.6997e-02,  6.5094e-03,  2.7231e-02,\n",
            "        -2.0737e-02,  2.8385e-02,  1.8674e-02,  2.7268e-02,  3.0006e-02,\n",
            "         7.4255e-03,  1.4636e-02, -1.2799e-02,  3.4605e-02,  2.6423e-02,\n",
            "        -2.9142e-02,  6.8262e-03, -5.8449e-03, -2.8626e-02,  3.1918e-02,\n",
            "         1.8669e-02,  2.5236e-02, -1.7747e-02,  6.2139e-03, -2.4140e-02,\n",
            "         4.6706e-03, -1.1668e-02, -8.5742e-03, -3.1915e-03,  1.5785e-02,\n",
            "         3.0147e-02,  3.0298e-02, -2.3364e-02,  3.1703e-02,  1.6340e-02,\n",
            "        -1.0958e-02, -5.2297e-03, -2.8384e-02,  3.2016e-03, -1.8780e-02,\n",
            "        -2.7863e-02,  2.4061e-02, -2.4212e-02,  1.5056e-02, -2.2312e-02,\n",
            "        -1.7243e-02, -8.6530e-03,  1.1150e-03,  1.7038e-03,  2.9570e-02,\n",
            "        -3.5766e-04, -1.5061e-02,  1.3312e-02, -8.7960e-03,  1.7776e-02,\n",
            "         3.2731e-02,  3.1869e-02, -1.2664e-02, -1.1749e-02, -1.5026e-02,\n",
            "         1.7293e-02, -1.1767e-02,  1.9033e-02,  2.6648e-02, -5.5656e-03,\n",
            "         1.9582e-02, -1.5874e-02, -3.3051e-02, -2.9149e-02,  3.4240e-02,\n",
            "        -2.4329e-02,  2.6508e-02,  6.7840e-03, -1.1263e-02,  4.6369e-03,\n",
            "         3.4376e-02, -1.9715e-02,  5.3657e-03,  1.6876e-02, -3.0839e-02,\n",
            "        -1.2578e-02,  2.0384e-02, -1.1314e-02, -3.5032e-02,  1.7275e-03,\n",
            "        -2.6105e-02,  3.4781e-02, -3.2212e-03,  1.7003e-02,  3.2205e-02,\n",
            "        -1.6019e-02, -2.3554e-02,  1.6343e-03,  2.7259e-02, -4.8222e-03,\n",
            "         2.3604e-03,  9.6070e-03,  2.8377e-02, -3.5037e-02, -3.7817e-03,\n",
            "         3.5477e-02, -1.2969e-02,  5.8558e-03, -2.4323e-02,  2.2548e-02,\n",
            "         2.0123e-02, -3.7820e-04, -2.0515e-02, -1.8393e-02,  3.5049e-02,\n",
            "         3.5013e-02,  3.3656e-02,  1.7246e-02,  9.3193e-03,  3.2056e-02,\n",
            "         3.9772e-03,  2.8391e-02,  2.7870e-03,  1.8172e-03, -1.0333e-02,\n",
            "        -3.3504e-02, -1.3739e-02,  2.0659e-02,  3.5259e-02, -2.7241e-03,\n",
            "        -8.3342e-03,  8.7627e-03,  5.9253e-03, -2.5345e-02, -1.8580e-03,\n",
            "        -7.3169e-04,  2.7642e-02, -3.4859e-02, -3.4350e-02, -2.4186e-02,\n",
            "         1.1059e-02, -2.4838e-03,  1.4564e-03, -1.9799e-02,  2.0645e-02,\n",
            "        -2.7503e-02, -1.4916e-02,  2.8079e-02,  3.2597e-02, -2.2550e-02,\n",
            "        -2.0521e-02, -3.3627e-02, -3.3830e-02, -3.5276e-03, -1.5476e-02,\n",
            "         3.5085e-02,  2.4530e-02, -2.3159e-02, -9.6877e-03,  2.5293e-02,\n",
            "         4.8470e-03,  1.6309e-03, -4.0411e-03,  2.3826e-02,  3.4268e-02,\n",
            "        -3.2942e-02,  1.1406e-02, -1.6246e-02, -4.1222e-03, -1.5981e-03,\n",
            "        -1.9628e-02, -2.3734e-02,  1.3144e-02,  7.0031e-05,  2.0490e-03,\n",
            "         9.2993e-03,  3.5057e-02, -1.8384e-02,  2.8004e-02,  6.3864e-03,\n",
            "         1.4590e-04, -2.8349e-02,  1.7722e-02,  8.9000e-03,  1.1928e-03,\n",
            "        -3.1496e-02,  3.3219e-02, -1.0437e-02,  2.6594e-02,  2.1749e-02,\n",
            "         3.4670e-02, -2.8832e-02, -2.6456e-02,  5.3225e-03, -2.3927e-03,\n",
            "        -7.9225e-04,  3.5685e-03, -9.3110e-03,  2.5008e-02, -3.1774e-02,\n",
            "        -8.7667e-03,  8.6998e-03, -2.9390e-02,  1.9671e-02,  2.9672e-02,\n",
            "        -1.3903e-02, -1.5231e-02, -1.4044e-02, -2.6005e-02, -6.5842e-03,\n",
            "        -2.8878e-02, -3.3684e-02,  5.4236e-03,  9.0686e-03, -1.8942e-02,\n",
            "        -6.3870e-04, -3.2341e-02, -1.0974e-02, -3.2626e-02, -2.3481e-02,\n",
            "         5.1666e-03, -3.3749e-02,  1.8231e-02, -1.8772e-02,  2.3969e-02,\n",
            "         3.0351e-02,  1.4771e-02, -2.3459e-02, -2.5085e-02,  1.5623e-02,\n",
            "         1.7693e-02, -2.6934e-03, -1.0835e-03,  1.9452e-03,  2.9414e-02,\n",
            "         3.5665e-02, -2.0887e-02,  9.5377e-03,  9.7778e-03, -1.6783e-02,\n",
            "        -2.6015e-02,  3.4204e-02, -2.9890e-02,  4.7238e-03, -2.6923e-02,\n",
            "         2.9796e-02, -3.1473e-02,  2.2450e-02,  1.4592e-02,  2.1618e-02,\n",
            "        -3.3455e-02,  2.8962e-02,  2.6520e-02,  9.0186e-03,  3.0637e-03,\n",
            "        -2.1009e-02,  1.5676e-02, -2.7182e-02, -3.0220e-02,  9.9509e-03,\n",
            "        -1.3698e-03,  2.8494e-02,  3.5342e-02,  2.4005e-02, -1.4301e-02,\n",
            "        -1.6741e-02, -6.9606e-03, -9.1925e-03,  2.2058e-02, -2.4934e-02,\n",
            "         3.2637e-02, -2.8604e-02,  4.8365e-03,  2.9450e-02,  8.1301e-03,\n",
            "        -2.5123e-02, -2.5081e-02, -2.1552e-02, -1.3920e-02,  2.5998e-02,\n",
            "         3.0156e-03,  1.8222e-02,  1.7254e-02,  3.0280e-02,  8.9072e-03,\n",
            "        -3.2704e-02, -1.7656e-02,  2.6330e-02,  2.1946e-02,  2.2121e-02,\n",
            "         1.6039e-02, -2.8363e-02, -3.5572e-02,  2.5033e-02,  2.0750e-03,\n",
            "         2.2290e-02,  3.8312e-03, -1.2465e-02,  3.1811e-03, -2.9919e-02,\n",
            "        -3.1794e-02, -2.9325e-02,  7.0330e-04, -2.0300e-02, -1.0281e-02,\n",
            "        -3.0416e-02,  3.6955e-03, -4.3984e-03, -6.2089e-03,  4.8375e-03,\n",
            "         5.1755e-03, -1.5727e-02,  1.1853e-02,  3.1822e-02, -2.9443e-02,\n",
            "         2.8559e-02,  6.6716e-03, -8.1178e-03, -3.2006e-02, -2.3421e-03,\n",
            "         2.5032e-02, -2.5948e-03, -4.0424e-03, -1.5032e-02, -2.0044e-02,\n",
            "         1.8966e-02,  3.1212e-02,  2.5571e-02, -1.2401e-02, -1.8091e-02,\n",
            "        -6.8782e-03,  1.5731e-02, -3.3583e-02, -1.0739e-02,  2.2808e-02,\n",
            "         2.2323e-02, -3.1964e-02, -2.6522e-02,  1.9159e-02, -1.7216e-02,\n",
            "         1.7144e-02, -1.8325e-02,  3.2589e-02,  4.0865e-03,  3.4225e-04,\n",
            "        -3.3883e-03, -1.4506e-02, -2.8415e-02, -9.0236e-03, -3.2860e-02,\n",
            "        -3.9879e-03,  4.3178e-03, -2.2493e-02,  1.3682e-03, -2.7551e-02,\n",
            "         1.4461e-03, -3.4444e-02,  1.2460e-03,  2.2454e-02, -1.2484e-02,\n",
            "        -2.6237e-02, -1.4551e-02, -3.4393e-02, -4.9526e-03, -6.5642e-03,\n",
            "         1.8922e-02, -1.6559e-02,  3.9782e-03,  3.4118e-02, -2.8516e-02,\n",
            "        -3.0358e-02,  9.0964e-03,  3.7376e-04,  1.8129e-02,  2.7152e-02,\n",
            "         6.6456e-03,  2.9213e-02,  3.3526e-02, -1.6646e-02, -1.4945e-02,\n",
            "         2.5035e-02,  5.2836e-03, -2.9660e-02, -3.5059e-02, -1.6445e-02,\n",
            "         1.5045e-02,  3.1258e-02, -3.5046e-02,  3.2690e-02, -2.7902e-03,\n",
            "         1.4612e-02,  2.9911e-02,  1.0334e-02,  5.5205e-03,  2.6862e-03,\n",
            "         2.2299e-02,  1.7377e-02, -2.8250e-02,  3.3422e-02, -1.5792e-02,\n",
            "         1.8360e-02, -9.6506e-03, -1.3774e-02, -2.4583e-03, -2.4218e-02,\n",
            "        -2.5041e-02,  3.0504e-02,  2.2413e-02,  3.7569e-03,  3.3450e-02,\n",
            "        -6.7348e-03, -1.2173e-02, -2.8351e-02,  3.5606e-02, -5.7656e-04,\n",
            "        -1.8818e-02,  1.0593e-02, -2.1798e-02, -1.2446e-02,  1.5348e-02,\n",
            "         7.3416e-03, -1.5338e-02,  1.5108e-02, -2.0670e-02,  1.4132e-02,\n",
            "         2.5050e-02, -1.2814e-02, -2.7493e-02, -3.3093e-02,  1.2678e-02,\n",
            "         1.4799e-02,  2.3085e-02, -2.9940e-02, -1.5628e-02, -2.7768e-02,\n",
            "        -1.2819e-02,  2.3265e-02, -1.9523e-02,  2.1394e-02,  4.9979e-03,\n",
            "         2.4958e-02,  2.2689e-02, -1.8637e-03, -1.9600e-02, -3.0574e-02,\n",
            "         3.4457e-02,  1.8778e-02, -3.2280e-02,  1.3685e-02, -8.7362e-03,\n",
            "        -7.1099e-03, -3.2855e-02,  3.1429e-02, -1.7219e-02,  2.5399e-02,\n",
            "         2.6196e-03,  3.3181e-02, -1.8573e-02, -3.5356e-02,  3.4659e-02,\n",
            "        -3.4372e-02, -7.6680e-03,  3.3215e-02,  2.4375e-02,  1.6528e-02,\n",
            "        -8.3020e-03, -3.3391e-02,  8.3359e-04, -1.4715e-02, -3.2132e-02,\n",
            "        -1.0560e-02, -1.7851e-02,  5.0191e-03, -1.2065e-02,  1.8300e-02,\n",
            "         2.4119e-02, -3.0441e-02, -1.5133e-02,  6.0587e-03,  1.1252e-02,\n",
            "         3.1164e-02,  1.5711e-02,  2.1292e-02, -6.9225e-03, -3.4957e-02,\n",
            "        -2.2156e-02,  2.5504e-02,  2.8813e-02,  2.0755e-02,  2.8550e-02,\n",
            "         2.9187e-02,  1.9244e-02,  1.8016e-02, -5.7730e-03,  3.4015e-02,\n",
            "         2.6822e-03, -6.4384e-03, -1.9011e-02,  3.5266e-02,  1.4054e-02,\n",
            "        -3.9690e-03,  3.2325e-03, -7.5181e-04, -1.7889e-03, -3.3814e-02,\n",
            "        -2.3923e-02,  1.6244e-03,  2.7021e-02, -7.6386e-03,  5.0835e-03,\n",
            "        -7.0891e-03,  3.0174e-02, -2.8476e-03, -4.8130e-04,  1.7726e-02,\n",
            "        -2.2037e-02, -7.5908e-03], device='cuda:0', requires_grad=True) \n",
            "\n",
            "Second Linear weights: Parameter containing:\n",
            "tensor([[ 0.0159,  0.0430,  0.0168,  ..., -0.0392,  0.0252,  0.0038],\n",
            "        [ 0.0234, -0.0262,  0.0440,  ...,  0.0391,  0.0355,  0.0173],\n",
            "        [ 0.0251,  0.0282,  0.0267,  ...,  0.0104,  0.0082,  0.0244],\n",
            "        ...,\n",
            "        [-0.0142, -0.0252,  0.0402,  ..., -0.0066,  0.0427, -0.0154],\n",
            "        [ 0.0350, -0.0325, -0.0365,  ...,  0.0068, -0.0252,  0.0313],\n",
            "        [ 0.0327,  0.0375, -0.0338,  ...,  0.0260,  0.0216, -0.0310]],\n",
            "       device='cuda:0', requires_grad=True) \n",
            "\n",
            "Second Linear bias: Parameter containing:\n",
            "tensor([ 1.2098e-02,  3.3701e-03, -1.5443e-02, -1.2884e-02, -3.1260e-02,\n",
            "         3.1710e-02,  5.8171e-03,  2.3576e-02,  2.7593e-02,  2.2727e-02,\n",
            "         4.2802e-02,  4.0475e-02,  2.8480e-02,  2.4894e-02, -2.6330e-02,\n",
            "         3.0867e-02, -1.2192e-02,  2.1493e-02,  1.7579e-02, -4.2652e-02,\n",
            "        -2.7932e-02, -4.3175e-02, -4.7805e-04, -2.4907e-03, -4.6964e-03,\n",
            "        -1.1980e-02, -9.7690e-03, -1.1098e-02,  3.2346e-02,  8.0716e-03,\n",
            "        -3.9786e-02,  2.1311e-02, -2.8662e-02,  1.1884e-02, -2.5181e-02,\n",
            "         4.2247e-03,  4.0884e-02, -1.9896e-03, -1.0819e-02, -1.5340e-02,\n",
            "         2.6997e-02, -1.4375e-03,  1.9279e-02, -2.0265e-02,  8.3317e-03,\n",
            "        -2.9502e-02,  2.5633e-02,  4.4013e-02, -3.4386e-02,  3.5078e-02,\n",
            "         2.2592e-02, -4.0429e-02,  2.4148e-02,  3.5486e-02,  2.7357e-02,\n",
            "        -1.4654e-02, -1.0445e-02,  1.3317e-02, -3.2334e-02, -2.8400e-02,\n",
            "         3.9673e-02, -2.5486e-02,  6.3271e-03,  2.4148e-02,  3.3941e-02,\n",
            "        -3.6990e-02,  2.2793e-02, -1.3698e-02, -2.0858e-02,  3.2335e-02,\n",
            "        -1.7439e-02,  1.5528e-02, -5.0308e-03, -2.9378e-02,  3.9773e-02,\n",
            "        -3.0995e-02,  3.6101e-02, -1.9272e-02, -1.8453e-02, -4.1451e-02,\n",
            "         3.2210e-02,  4.2962e-02,  2.2534e-02, -3.4691e-02,  9.4269e-03,\n",
            "         1.7504e-02,  3.9030e-02, -2.1105e-03, -2.1308e-02,  2.9267e-02,\n",
            "        -2.0135e-02, -2.4551e-02, -2.8253e-02,  3.7465e-02,  3.8679e-02,\n",
            "        -2.4617e-02, -2.6394e-02, -2.6126e-02, -3.2745e-02,  7.8973e-03,\n",
            "        -3.4753e-02,  3.0819e-02,  4.1654e-02, -1.9244e-02, -1.5962e-02,\n",
            "        -3.3878e-02,  5.9967e-03, -2.7313e-02, -4.3065e-02,  1.9193e-02,\n",
            "         3.7686e-02,  3.1093e-02, -1.1404e-02, -2.6426e-02, -1.9647e-02,\n",
            "        -1.3536e-02, -4.0089e-02, -3.4114e-02, -3.0680e-02,  2.7467e-02,\n",
            "        -3.7439e-02,  4.1966e-02,  2.2217e-02, -5.1599e-03, -1.5540e-02,\n",
            "        -1.1493e-02,  1.4456e-04, -3.2384e-02,  5.5234e-03, -3.8624e-02,\n",
            "         1.0862e-02, -2.1578e-02, -3.2530e-02,  3.2699e-02, -4.2126e-02,\n",
            "         2.4404e-02,  2.0675e-02,  3.0643e-02,  1.0533e-02,  2.8994e-02,\n",
            "         3.8119e-03, -1.3943e-02,  2.2940e-02, -3.9580e-02,  4.3600e-02,\n",
            "         3.3550e-02,  4.3705e-02, -3.7517e-02, -3.1172e-02,  2.5171e-02,\n",
            "         4.4142e-02,  2.8389e-02,  3.1467e-02, -3.0931e-02,  1.7601e-02,\n",
            "         1.2948e-02, -2.8681e-02,  1.2654e-02, -1.0143e-03, -4.2829e-02,\n",
            "         3.8246e-02,  1.5351e-02,  2.9298e-02,  1.9804e-02,  9.0517e-03,\n",
            "        -8.9485e-03, -7.1576e-03, -2.8190e-02,  3.0201e-02, -2.8668e-02,\n",
            "         8.5689e-03, -7.7289e-03,  3.4870e-02, -4.0093e-03, -2.3820e-02,\n",
            "         1.1322e-02, -2.1655e-02,  3.8973e-02, -1.8771e-02,  4.4180e-02,\n",
            "        -2.0086e-03,  5.4538e-03, -7.3936e-03,  3.0342e-02, -9.8559e-04,\n",
            "        -2.5180e-02, -2.2715e-02,  6.2003e-03,  1.1455e-02,  1.2036e-02,\n",
            "        -3.8417e-02, -1.9632e-02, -2.8619e-02, -2.1170e-02, -1.7819e-02,\n",
            "         3.3778e-02, -2.6478e-03,  2.2419e-02,  1.9427e-03, -1.8673e-02,\n",
            "        -2.3472e-02, -1.8166e-02, -3.4644e-02,  5.6781e-03, -3.8033e-02,\n",
            "         3.6066e-02, -3.8745e-02,  2.1298e-03,  2.3395e-02,  8.5197e-03,\n",
            "        -2.4232e-02, -2.3965e-02,  7.5943e-03, -2.5052e-02, -3.7365e-02,\n",
            "         3.1746e-02, -2.1481e-02,  3.7991e-02,  4.0262e-02,  2.7328e-02,\n",
            "        -4.6650e-03, -1.5641e-02,  2.8275e-03,  1.8582e-02,  5.1035e-03,\n",
            "         3.8284e-02, -8.4539e-03, -1.7349e-02,  4.6352e-03,  1.9089e-02,\n",
            "         2.1619e-02,  1.8380e-02,  2.3009e-02, -7.1645e-03, -1.2775e-02,\n",
            "         4.0723e-02,  3.2319e-02,  1.2084e-03, -1.5776e-02,  5.8964e-03,\n",
            "         1.3601e-02, -1.5753e-02,  4.2606e-02,  4.1273e-02,  3.0848e-02,\n",
            "        -2.1457e-02, -1.9659e-02,  9.7204e-03,  1.7583e-02,  3.8286e-02,\n",
            "         4.3053e-02,  6.4585e-03,  2.5689e-02, -3.2484e-02,  2.1322e-02,\n",
            "        -1.2536e-02,  6.2579e-04,  2.4357e-03,  4.2048e-02,  3.4855e-02,\n",
            "        -3.2109e-02, -1.8076e-03,  8.1601e-03,  4.3380e-02,  4.4025e-02,\n",
            "        -2.7895e-02, -1.6255e-02,  4.0533e-02, -2.8456e-02, -6.5044e-03,\n",
            "         5.7736e-03, -2.5862e-02,  1.3205e-02, -1.9914e-02,  2.0428e-02,\n",
            "         4.0129e-02,  4.1762e-02, -4.8116e-03,  3.3910e-03,  7.9535e-03,\n",
            "         1.0000e-02, -3.4968e-02, -3.9137e-02, -4.1234e-02, -3.3191e-02,\n",
            "         1.7162e-02, -3.0161e-02, -3.0424e-02,  1.2247e-02,  2.4068e-02,\n",
            "         4.3806e-03,  9.5901e-03,  1.1687e-02, -2.4811e-02,  3.1662e-02,\n",
            "        -3.8260e-02, -3.5828e-02, -2.6538e-02, -3.0566e-03, -1.7064e-02,\n",
            "        -4.1870e-02, -4.0127e-02, -2.0590e-02,  2.7864e-02, -3.6456e-02,\n",
            "         2.9026e-02, -1.0618e-02, -2.2249e-02, -3.1832e-02, -3.2137e-02,\n",
            "        -2.4411e-03, -4.5129e-03,  9.0855e-03, -3.3021e-02,  1.9531e-02,\n",
            "        -1.2467e-02, -2.4051e-02, -2.2510e-02, -1.0438e-02,  3.3144e-02,\n",
            "         4.3200e-02, -1.0301e-02,  1.7276e-02, -3.1608e-03,  7.1478e-03,\n",
            "         2.6397e-02, -4.3165e-02,  1.3172e-02, -8.6317e-03, -1.9075e-02,\n",
            "         3.0169e-02, -1.3891e-02, -2.4333e-02,  2.0932e-02, -3.9208e-02,\n",
            "         1.0115e-02, -4.2853e-02,  2.0534e-02, -2.7094e-02,  4.0920e-02,\n",
            "        -6.1406e-03,  3.3570e-02,  3.0018e-02, -3.2845e-04, -1.4687e-02,\n",
            "        -2.4252e-02, -2.9525e-02, -3.1563e-03,  2.7007e-02,  2.8534e-02,\n",
            "         3.2270e-02,  2.3289e-02,  3.1143e-02,  1.5097e-02,  3.3845e-02,\n",
            "         1.3910e-02, -1.5146e-02, -3.3259e-02,  1.8761e-02, -3.3961e-03,\n",
            "        -2.2193e-02,  8.8005e-03, -2.6976e-02, -4.2367e-02,  6.6051e-03,\n",
            "         7.5348e-03, -3.5284e-02,  5.4928e-03, -2.9027e-02,  2.3302e-03,\n",
            "         3.0652e-02,  3.3598e-02, -1.2230e-02, -3.1145e-02, -2.7043e-02,\n",
            "         4.1920e-02,  3.7632e-02,  2.5730e-02,  2.0370e-02, -2.4247e-03,\n",
            "         3.3065e-02, -4.2008e-02,  1.6785e-02, -6.7772e-03, -4.5412e-03,\n",
            "        -2.2113e-02,  2.7247e-02, -1.5806e-02,  8.2935e-03, -6.5416e-03,\n",
            "         3.1407e-02, -1.8082e-02,  7.3574e-03, -2.2220e-02, -1.0401e-02,\n",
            "         3.4539e-02, -2.3702e-02, -5.9169e-03, -3.9612e-02, -8.2580e-03,\n",
            "         2.7319e-02,  3.1309e-02,  1.4225e-02,  2.2861e-02, -2.3706e-02,\n",
            "        -4.3130e-02,  9.8684e-03, -1.5730e-02,  4.4623e-03,  2.6384e-02,\n",
            "        -2.7480e-02,  1.7435e-03,  3.3891e-02, -3.4764e-02, -4.1766e-02,\n",
            "         3.9194e-02,  4.0368e-02, -6.0293e-03,  2.3960e-02, -3.7841e-02,\n",
            "         1.1627e-02, -2.7682e-02, -2.2312e-02, -1.1342e-02, -2.6837e-02,\n",
            "         1.0325e-02,  1.3918e-02, -3.2817e-02, -1.6690e-02,  4.3204e-03,\n",
            "         3.3921e-02,  1.0271e-03, -1.2153e-02, -1.8959e-02, -3.0275e-02,\n",
            "         2.3586e-02, -1.7405e-02, -2.6698e-02, -4.9507e-05, -1.9271e-02,\n",
            "         6.2482e-03,  2.6586e-02,  4.1437e-02, -4.2418e-02,  4.0310e-02,\n",
            "        -1.7616e-02, -1.6168e-02, -3.2022e-02,  1.5085e-02,  2.4477e-03,\n",
            "        -2.4184e-02,  3.1670e-02,  3.4952e-02,  2.8878e-02,  4.1228e-02,\n",
            "        -2.3551e-02, -2.8699e-02,  2.2568e-02, -3.1003e-02,  9.6928e-04,\n",
            "        -5.9380e-03,  1.6574e-02,  8.8863e-03, -4.3215e-03,  3.0970e-02,\n",
            "        -4.1167e-02,  3.0601e-02,  3.5227e-02,  1.9662e-02, -3.4394e-02,\n",
            "         7.0657e-03,  1.6145e-04, -2.5698e-02,  3.3889e-02, -1.9704e-02,\n",
            "        -1.3342e-02, -2.8871e-02, -2.3736e-02,  6.2155e-03, -4.1187e-02,\n",
            "        -3.7821e-02,  6.2324e-03, -2.9497e-02, -1.7293e-02, -3.1975e-02,\n",
            "         3.6891e-02, -1.1731e-02,  2.7766e-02,  1.3612e-02, -1.5958e-02,\n",
            "        -2.7317e-02, -3.2096e-03, -3.7682e-02,  1.8062e-02, -1.3690e-02,\n",
            "         3.3591e-02, -2.4735e-02, -1.1011e-02,  9.1314e-03,  1.0282e-02,\n",
            "         2.8361e-02, -2.8385e-02,  8.5028e-03, -4.9646e-03, -2.5912e-02,\n",
            "        -1.7376e-03, -3.0306e-03, -1.8605e-02, -2.2262e-02,  3.4373e-02,\n",
            "        -3.0463e-02, -3.8969e-02], device='cuda:0', requires_grad=True) \n",
            "\n",
            "Third Linear weights: Parameter containing:\n",
            "tensor([[ 0.0373, -0.0205, -0.0001,  ...,  0.0132, -0.0166, -0.0396],\n",
            "        [ 0.0043, -0.0085,  0.0223,  ..., -0.0392, -0.0047, -0.0053],\n",
            "        [-0.0050,  0.0136, -0.0390,  ...,  0.0342,  0.0098, -0.0031],\n",
            "        ...,\n",
            "        [-0.0285, -0.0274,  0.0210,  ...,  0.0414,  0.0206,  0.0074],\n",
            "        [ 0.0412,  0.0365, -0.0278,  ...,  0.0010,  0.0208,  0.0013],\n",
            "        [ 0.0159, -0.0363, -0.0017,  ...,  0.0405, -0.0097, -0.0428]],\n",
            "       device='cuda:0', requires_grad=True) \n",
            "\n",
            "Third Linear bias: Parameter containing:\n",
            "tensor([ 0.0362, -0.0161, -0.0113,  0.0248, -0.0006,  0.0140,  0.0356, -0.0386,\n",
            "        -0.0005,  0.0137], device='cuda:0', requires_grad=True) \n",
            "\n"
          ]
        }
      ]
    },
    {
      "cell_type": "markdown",
      "source": [
        "### **Model Layers**\n",
        "Let's break down the layers in the FashionMNIST model. To illustrate it, we will take a sample minibatch of 3 images of size **28x28** and see what happens to it as we pass it through the network."
      ],
      "metadata": {
        "id": "uPwv1tZs81eN"
      }
    },
    {
      "cell_type": "code",
      "source": [
        "input_image = torch.rand(3,28,28)\n",
        "print(input_image.size())"
      ],
      "metadata": {
        "colab": {
          "base_uri": "https://localhost:8080/"
        },
        "id": "fmv2io-b8f_2",
        "outputId": "56c78ce6-8ae3-4c56-eb8c-de46b40644e6"
      },
      "execution_count": 8,
      "outputs": [
        {
          "output_type": "stream",
          "name": "stdout",
          "text": [
            "torch.Size([3, 28, 28])\n"
          ]
        }
      ]
    },
    {
      "cell_type": "markdown",
      "source": [
        "### **nn.Flatten()**\n",
        "We initialize the `nn.Flatten` layer to convert each 2D 28x28 image into a contiguous array of 784 pixel values (the minibatch dimension (at dim=0) is maintained). Each of the pixels are pass to the input layer of the neural network.\n",
        "\n"
      ],
      "metadata": {
        "id": "pjXXhz7C94EW"
      }
    },
    {
      "cell_type": "code",
      "source": [
        "flatten = nn.Flatten()\n",
        "flat_image = flatten(input_image)\n",
        "print(flat_image.size())"
      ],
      "metadata": {
        "colab": {
          "base_uri": "https://localhost:8080/"
        },
        "id": "80nFgV-A9f5J",
        "outputId": "4ab424da-8548-415c-d559-f1109156b483"
      },
      "execution_count": 9,
      "outputs": [
        {
          "output_type": "stream",
          "name": "stdout",
          "text": [
            "torch.Size([3, 784])\n"
          ]
        }
      ]
    },
    {
      "cell_type": "markdown",
      "source": [
        "### **nn.Linear()**\n",
        "The linear layer is a module that applies a linear transformation on the input using it's stored weights and biases.  The gayscale value of each pixel in the input layer will be connected to neurons in the hidden layer for calculation.    The calculation used for the transformation is ${{weight * input + bias}} $.\n"
      ],
      "metadata": {
        "id": "Z9U6trsp-UnY"
      }
    },
    {
      "cell_type": "code",
      "source": [
        "layer1 = nn.Linear(in_features=28*28, out_features=20)\n",
        "hidden1 = layer1(flat_image)\n",
        "print(hidden1.size())"
      ],
      "metadata": {
        "colab": {
          "base_uri": "https://localhost:8080/"
        },
        "id": "8YzfKDGU-M9L",
        "outputId": "cfa46980-4240-4a3f-916c-6885a9b57880"
      },
      "execution_count": 10,
      "outputs": [
        {
          "output_type": "stream",
          "name": "stdout",
          "text": [
            "torch.Size([3, 20])\n"
          ]
        }
      ]
    },
    {
      "cell_type": "markdown",
      "source": [
        "### **nn.ReLu()**\n",
        "Non-linear activations are what create the complex mappings between the model's inputs and outputs.\n",
        "They are applied after linear transformations to introduce *nonlinearity*, helping neural networks\n",
        "learn a wide variety of phenomena. In this model, we use `nn.ReLU` between our linear layers, but there's other activations to introduce non-linearity in your model.\n",
        "\n",
        "The ReLU activation function takes the output from the linear layer calculation and replaces the negative values with zeros.\n",
        "\n",
        "Linear output: ${ x = {weight * input + bias}} $.  \n",
        "ReLU:  $f(x)= \n",
        "\\begin{cases}\n",
        "    0, & \\text{if } x < 0\\\\\n",
        "    x, & \\text{if } x\\geq 0\\\\\n",
        "\\end{cases}\n",
        "$"
      ],
      "metadata": {
        "id": "z-JR-BO__Xgr"
      }
    },
    {
      "cell_type": "code",
      "source": [
        "print(f\"Before ReLU: {hidden1}\\n\\n\")\n",
        "hidden1 = nn.ReLU()(hidden1)\n",
        "print(f\"After ReLU: {hidden1}\")"
      ],
      "metadata": {
        "colab": {
          "base_uri": "https://localhost:8080/"
        },
        "id": "mh1n_FuO_Ejg",
        "outputId": "4f1ff9a7-8a90-4b84-91f8-36b410b5e811"
      },
      "execution_count": 11,
      "outputs": [
        {
          "output_type": "stream",
          "name": "stdout",
          "text": [
            "Before ReLU: tensor([[-0.6866, -0.0722,  0.1892, -0.1151,  0.4069,  0.0607, -0.3388, -0.4251,\n",
            "         -0.4247,  0.3258,  0.0516, -0.0228,  0.0859, -0.1371,  0.0395,  0.4166,\n",
            "         -0.1565, -0.2604, -0.1388, -0.3579],\n",
            "        [-0.3449,  0.1891, -0.4025,  0.1071,  0.0942, -0.0858, -0.4683, -0.5017,\n",
            "         -0.4711, -0.1020, -0.0227,  0.0118,  0.1827, -0.1298,  0.0461,  0.4697,\n",
            "         -0.2050, -0.2217, -0.3078, -0.3746],\n",
            "        [-0.4174,  0.1864,  0.0421,  0.2093,  0.1181, -0.0829, -0.8770, -0.3323,\n",
            "         -0.3541, -0.0798,  0.0895, -0.0758,  0.2901, -0.3273,  0.2835,  0.5054,\n",
            "         -0.0410, -0.3443, -0.3308, -0.4529]], grad_fn=<AddmmBackward0>)\n",
            "\n",
            "\n",
            "After ReLU: tensor([[0.0000, 0.0000, 0.1892, 0.0000, 0.4069, 0.0607, 0.0000, 0.0000, 0.0000,\n",
            "         0.3258, 0.0516, 0.0000, 0.0859, 0.0000, 0.0395, 0.4166, 0.0000, 0.0000,\n",
            "         0.0000, 0.0000],\n",
            "        [0.0000, 0.1891, 0.0000, 0.1071, 0.0942, 0.0000, 0.0000, 0.0000, 0.0000,\n",
            "         0.0000, 0.0000, 0.0118, 0.1827, 0.0000, 0.0461, 0.4697, 0.0000, 0.0000,\n",
            "         0.0000, 0.0000],\n",
            "        [0.0000, 0.1864, 0.0421, 0.2093, 0.1181, 0.0000, 0.0000, 0.0000, 0.0000,\n",
            "         0.0000, 0.0895, 0.0000, 0.2901, 0.0000, 0.2835, 0.5054, 0.0000, 0.0000,\n",
            "         0.0000, 0.0000]], grad_fn=<ReluBackward0>)\n"
          ]
        }
      ]
    },
    {
      "cell_type": "markdown",
      "source": [
        "### **nn.Sequential()**\n",
        "`nn.Sequential` is an ordered \n",
        "container of modules. The data is passed through all the modules in the same order as defined. You can use\n",
        "sequential containers to put together a quick network like `seq_modules`."
      ],
      "metadata": {
        "id": "TG1oMAr6ADbE"
      }
    },
    {
      "cell_type": "code",
      "source": [
        "seq_modules = nn.Sequential(\n",
        "    flatten,\n",
        "    layer1,\n",
        "    nn.ReLU(),\n",
        "    nn.Linear(20, 10)\n",
        ")\n",
        "input_image = torch.rand(3,28,28)\n",
        "logits = seq_modules(input_image)"
      ],
      "metadata": {
        "id": "_eRzyUoJ_16l"
      },
      "execution_count": 12,
      "outputs": []
    },
    {
      "cell_type": "markdown",
      "source": [
        "### **nn.Softmax()**\n",
        "The last linear layer of the neural network returns `logits` - raw values in \\[`-infty`, `infty`], which are passed to the\n",
        "`nn.Softmax` module. The Softmax activation function is used to calculate the probability of the output from the neural network.  It is only used on the output layer of a neural network.  The results are scaled to values \\[0, 1\\] representing the model's predicted densities for each class. `dim` parameter indicates the dimension along which the result values must sum to 1.  The node with the highest probability predicts the desired output.\n"
      ],
      "metadata": {
        "id": "apTK3K20AuWd"
      }
    },
    {
      "cell_type": "code",
      "source": [
        "softmax = nn.Softmax(dim=1)\n",
        "pred_probab = softmax(logits)"
      ],
      "metadata": {
        "id": "zAT4XxXeAU89"
      },
      "execution_count": 13,
      "outputs": []
    },
    {
      "cell_type": "markdown",
      "source": [
        "### **Model Parameters**\n",
        "Many layers inside a neural network are *parameterized*, i.e. have associated weights \n",
        "and biases that are optimized during training. Subclassing `nn.Module` automatically \n",
        "tracks all fields defined inside your model object, and makes all parameters \n",
        "accessible using your model's `parameters()` or `named_parameters()` methods.\n",
        "\n",
        "In this example, we iterate over each parameter, and print its size and a preview of its values."
      ],
      "metadata": {
        "id": "dBIQBIIjBFH9"
      }
    },
    {
      "cell_type": "code",
      "source": [
        "print(\"Model structure: \", model, \"\\n\\n\")\n",
        "\n",
        "for name, param in model.named_parameters():\n",
        "    print(f\"Layer: {name} | Size: {param.size()} | Values : {param[:2]} \\n\")"
      ],
      "metadata": {
        "colab": {
          "base_uri": "https://localhost:8080/"
        },
        "id": "2uvRsnjrA6nJ",
        "outputId": "e72032ac-e201-4d5e-a409-3c88cdb52a29"
      },
      "execution_count": 14,
      "outputs": [
        {
          "output_type": "stream",
          "name": "stdout",
          "text": [
            "Model structure:  NeuralNetwork(\n",
            "  (flatten): Flatten(start_dim=1, end_dim=-1)\n",
            "  (linear_relu_stack): Sequential(\n",
            "    (0): Linear(in_features=784, out_features=512, bias=True)\n",
            "    (1): ReLU()\n",
            "    (2): Linear(in_features=512, out_features=512, bias=True)\n",
            "    (3): ReLU()\n",
            "    (4): Linear(in_features=512, out_features=10, bias=True)\n",
            "    (5): ReLU()\n",
            "  )\n",
            ") \n",
            "\n",
            "\n",
            "Layer: linear_relu_stack.0.weight | Size: torch.Size([512, 784]) | Values : tensor([[-0.0177,  0.0154,  0.0266,  ..., -0.0189,  0.0246,  0.0332],\n",
            "        [ 0.0222,  0.0013,  0.0174,  ..., -0.0315, -0.0180, -0.0105]],\n",
            "       device='cuda:0', grad_fn=<SliceBackward0>) \n",
            "\n",
            "Layer: linear_relu_stack.0.bias | Size: torch.Size([512]) | Values : tensor([-0.0093, -0.0050], device='cuda:0', grad_fn=<SliceBackward0>) \n",
            "\n",
            "Layer: linear_relu_stack.2.weight | Size: torch.Size([512, 512]) | Values : tensor([[ 0.0159,  0.0430,  0.0168,  ..., -0.0392,  0.0252,  0.0038],\n",
            "        [ 0.0234, -0.0262,  0.0440,  ...,  0.0391,  0.0355,  0.0173]],\n",
            "       device='cuda:0', grad_fn=<SliceBackward0>) \n",
            "\n",
            "Layer: linear_relu_stack.2.bias | Size: torch.Size([512]) | Values : tensor([0.0121, 0.0034], device='cuda:0', grad_fn=<SliceBackward0>) \n",
            "\n",
            "Layer: linear_relu_stack.4.weight | Size: torch.Size([10, 512]) | Values : tensor([[ 0.0373, -0.0205, -0.0001,  ...,  0.0132, -0.0166, -0.0396],\n",
            "        [ 0.0043, -0.0085,  0.0223,  ..., -0.0392, -0.0047, -0.0053]],\n",
            "       device='cuda:0', grad_fn=<SliceBackward0>) \n",
            "\n",
            "Layer: linear_relu_stack.4.bias | Size: torch.Size([10]) | Values : tensor([ 0.0362, -0.0161], device='cuda:0', grad_fn=<SliceBackward0>) \n",
            "\n"
          ]
        }
      ]
    },
    {
      "cell_type": "code",
      "source": [
        ""
      ],
      "metadata": {
        "id": "ZuTLo45nBmXi"
      },
      "execution_count": null,
      "outputs": []
    }
  ]
}