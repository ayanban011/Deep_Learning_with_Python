{
  "nbformat": 4,
  "nbformat_minor": 0,
  "metadata": {
    "colab": {
      "provenance": []
    },
    "kernelspec": {
      "name": "python3",
      "display_name": "Python 3"
    },
    "language_info": {
      "name": "python"
    },
    "accelerator": "GPU"
  },
  "cells": [
    {
      "cell_type": "markdown",
      "source": [
        "## **Word level one hot encoding**"
      ],
      "metadata": {
        "id": "atxxpXRykh_i"
      }
    },
    {
      "cell_type": "code",
      "execution_count": 1,
      "metadata": {
        "id": "PwFSS2QQpQFo",
        "colab": {
          "base_uri": "https://localhost:8080/"
        },
        "outputId": "aec028b4-7e45-44f7-984e-8990647121e2"
      },
      "outputs": [
        {
          "output_type": "stream",
          "name": "stdout",
          "text": [
            "[[[0. 1. 0. 0. 0. 0. 0. 0. 0. 0. 0.]\n",
            "  [0. 0. 1. 0. 0. 0. 0. 0. 0. 0. 0.]\n",
            "  [0. 0. 0. 1. 0. 0. 0. 0. 0. 0. 0.]\n",
            "  [0. 0. 0. 0. 1. 0. 0. 0. 0. 0. 0.]\n",
            "  [0. 0. 0. 0. 0. 1. 0. 0. 0. 0. 0.]\n",
            "  [0. 0. 0. 0. 0. 0. 1. 0. 0. 0. 0.]\n",
            "  [0. 0. 0. 0. 0. 0. 0. 0. 0. 0. 0.]\n",
            "  [0. 0. 0. 0. 0. 0. 0. 0. 0. 0. 0.]\n",
            "  [0. 0. 0. 0. 0. 0. 0. 0. 0. 0. 0.]\n",
            "  [0. 0. 0. 0. 0. 0. 0. 0. 0. 0. 0.]]\n",
            "\n",
            " [[0. 1. 0. 0. 0. 0. 0. 0. 0. 0. 0.]\n",
            "  [0. 0. 0. 0. 0. 0. 0. 1. 0. 0. 0.]\n",
            "  [0. 0. 0. 0. 0. 0. 0. 0. 1. 0. 0.]\n",
            "  [0. 0. 0. 0. 0. 0. 0. 0. 0. 1. 0.]\n",
            "  [0. 0. 0. 0. 0. 0. 0. 0. 0. 0. 1.]\n",
            "  [0. 0. 0. 0. 0. 0. 0. 0. 0. 0. 0.]\n",
            "  [0. 0. 0. 0. 0. 0. 0. 0. 0. 0. 0.]\n",
            "  [0. 0. 0. 0. 0. 0. 0. 0. 0. 0. 0.]\n",
            "  [0. 0. 0. 0. 0. 0. 0. 0. 0. 0. 0.]\n",
            "  [0. 0. 0. 0. 0. 0. 0. 0. 0. 0. 0.]]]\n"
          ]
        }
      ],
      "source": [
        "import numpy as np\n",
        "samples = ['The cat sat on the mat.', 'The dog ate my homework'] #Intial data: one entry per sample \n",
        "token_index = {} #Builds an index of all tokens in the data\n",
        "for sample in samples:\n",
        "  for word in sample.split(): #Tokenize the sample via the split method. This strip can also be done with punctuation and special characters.\n",
        "    if word not in token_index:\n",
        "      token_index[word] = len(token_index)+1 #Assigns a unique index to each unique words except 0.\n",
        "max_length = 10 #For vectorizing the sample we are only considering the first max_length word in each sample.\n",
        "results = np.zeros(shape=(len(samples), max_length, max(token_index.values())+1)) #This is where we store the results\n",
        "for i,sample in enumerate(samples):\n",
        "  for j,word in list(enumerate(sample.split()))[:max_length]:\n",
        "    index = token_index.get(word)\n",
        "    results[i,j,index] = 1\n",
        "print(results)"
      ]
    },
    {
      "cell_type": "markdown",
      "source": [
        "## **Character level one hot encoding**"
      ],
      "metadata": {
        "id": "InSuJr9boJWg"
      }
    },
    {
      "cell_type": "code",
      "source": [
        "import string\n",
        "samples = ['The cat sat on the mat', 'The dog ate my homework']\n",
        "characters = string.printable #All printable ASCII characters\n",
        "token_index = dict(zip(range(1, len(characters)+1), characters))\n",
        "\n",
        "max_length = 50\n",
        "results = np.zeros((len(samples), max_length, max(token_index.keys())+1))\n",
        "for i, sample in enumerate(samples):\n",
        "  for j,character in enumerate(sample):\n",
        "    index  = token_index.get(character)\n",
        "    results[i,j,index] = 1\n",
        "print(results)"
      ],
      "metadata": {
        "colab": {
          "base_uri": "https://localhost:8080/"
        },
        "id": "Y7C3c6tlpTET",
        "outputId": "85f16a56-3884-41e0-8028-b747d40f970c"
      },
      "execution_count": 2,
      "outputs": [
        {
          "output_type": "stream",
          "name": "stdout",
          "text": [
            "[[[1. 1. 1. ... 1. 1. 1.]\n",
            "  [1. 1. 1. ... 1. 1. 1.]\n",
            "  [1. 1. 1. ... 1. 1. 1.]\n",
            "  ...\n",
            "  [0. 0. 0. ... 0. 0. 0.]\n",
            "  [0. 0. 0. ... 0. 0. 0.]\n",
            "  [0. 0. 0. ... 0. 0. 0.]]\n",
            "\n",
            " [[1. 1. 1. ... 1. 1. 1.]\n",
            "  [1. 1. 1. ... 1. 1. 1.]\n",
            "  [1. 1. 1. ... 1. 1. 1.]\n",
            "  ...\n",
            "  [0. 0. 0. ... 0. 0. 0.]\n",
            "  [0. 0. 0. ... 0. 0. 0.]\n",
            "  [0. 0. 0. ... 0. 0. 0.]]]\n"
          ]
        }
      ]
    },
    {
      "cell_type": "markdown",
      "source": [
        "\n",
        "\n",
        "> **Note:** Keras has built-in utilities for doing one-hot encoding of the text at the word level or character level, strating from raw text data. You should use these utilities, because they take care of a number of important features such as stripping special characters from strings and onlt taken into account the N most common words in our dataset (It is a common  restriction to avoid dealing with very large input vector spaces).\n",
        "\n"
      ],
      "metadata": {
        "id": "aPZCUgQLqRp2"
      }
    },
    {
      "cell_type": "markdown",
      "source": [
        "## **Using Keras for word level one-hot encoding**"
      ],
      "metadata": {
        "id": "WTFomAwlrQj0"
      }
    },
    {
      "cell_type": "code",
      "source": [
        "from keras.preprocessing.text import Tokenizer\n",
        "samples = ['The cat sat on the mat.', 'The dog ate my homework.']\n",
        "tokenizer = Tokenizer(num_words=1000) #Creates a tokenizer, configured to only take into account the 1,000 most common words\n",
        "tokenizer.fit_on_texts(samples) #Builds the word index\n",
        "\n",
        "sequences = tokenizer.texts_to_sequences(samples) #Turn strings into lists of integer indices\n",
        "one_hot_results = tokenizer.texts_to_matrix(samples,mode='binary') #directly get the one-hot binary representations\n",
        "\n",
        "word_index = tokenizer.word_index #recover the word index that was computed\n",
        "print('Found %s unique tokens.' % len(word_index), word_index)"
      ],
      "metadata": {
        "id": "pA9NbhzapgMr",
        "colab": {
          "base_uri": "https://localhost:8080/"
        },
        "outputId": "017f3996-ca1b-4f3f-c267-96cf2163c109"
      },
      "execution_count": 3,
      "outputs": [
        {
          "output_type": "stream",
          "name": "stdout",
          "text": [
            "Found 9 unique tokens. {'the': 1, 'cat': 2, 'sat': 3, 'on': 4, 'mat': 5, 'dog': 6, 'ate': 7, 'my': 8, 'homework': 9}\n"
          ]
        }
      ]
    },
    {
      "cell_type": "markdown",
      "source": [
        "## **One-hot encoding with hashing trick**"
      ],
      "metadata": {
        "id": "cw9DLVTYuTuC"
      }
    },
    {
      "cell_type": "code",
      "source": [
        "samples = ['The cat sat on the mat.', 'The dog ate my homework.']\n",
        "dimensionality = 1000\n",
        "max_length = 10\n",
        "results = np.zeros((len(samples), max_length, dimensionality))\n",
        "for i,sample in enumerate(samples):\n",
        "  for j,word in list(enumerate(sample.split()))[:max_length]:\n",
        "    index = abs(hash(word)) % dimensionality #Hashes the word into a random integer index between 0 and 1000\n",
        "    results[i,j,index] =1\n",
        "    print(results[i,:,:],index)"
      ],
      "metadata": {
        "colab": {
          "base_uri": "https://localhost:8080/"
        },
        "id": "k6FmfF-qtXsb",
        "outputId": "461e68e6-5f01-4f80-d643-38462e1b130a"
      },
      "execution_count": 4,
      "outputs": [
        {
          "output_type": "stream",
          "name": "stdout",
          "text": [
            "[[0. 0. 0. ... 0. 0. 0.]\n",
            " [0. 0. 0. ... 0. 0. 0.]\n",
            " [0. 0. 0. ... 0. 0. 0.]\n",
            " ...\n",
            " [0. 0. 0. ... 0. 0. 0.]\n",
            " [0. 0. 0. ... 0. 0. 0.]\n",
            " [0. 0. 0. ... 0. 0. 0.]] 865\n",
            "[[0. 0. 0. ... 0. 0. 0.]\n",
            " [0. 0. 0. ... 0. 0. 0.]\n",
            " [0. 0. 0. ... 0. 0. 0.]\n",
            " ...\n",
            " [0. 0. 0. ... 0. 0. 0.]\n",
            " [0. 0. 0. ... 0. 0. 0.]\n",
            " [0. 0. 0. ... 0. 0. 0.]] 755\n",
            "[[0. 0. 0. ... 0. 0. 0.]\n",
            " [0. 0. 0. ... 0. 0. 0.]\n",
            " [0. 0. 0. ... 0. 0. 0.]\n",
            " ...\n",
            " [0. 0. 0. ... 0. 0. 0.]\n",
            " [0. 0. 0. ... 0. 0. 0.]\n",
            " [0. 0. 0. ... 0. 0. 0.]] 288\n",
            "[[0. 0. 0. ... 0. 0. 0.]\n",
            " [0. 0. 0. ... 0. 0. 0.]\n",
            " [0. 0. 0. ... 0. 0. 0.]\n",
            " ...\n",
            " [0. 0. 0. ... 0. 0. 0.]\n",
            " [0. 0. 0. ... 0. 0. 0.]\n",
            " [0. 0. 0. ... 0. 0. 0.]] 943\n",
            "[[0. 0. 0. ... 0. 0. 0.]\n",
            " [0. 0. 0. ... 0. 0. 0.]\n",
            " [0. 0. 0. ... 0. 0. 0.]\n",
            " ...\n",
            " [0. 0. 0. ... 0. 0. 0.]\n",
            " [0. 0. 0. ... 0. 0. 0.]\n",
            " [0. 0. 0. ... 0. 0. 0.]] 579\n",
            "[[0. 0. 0. ... 0. 0. 0.]\n",
            " [0. 0. 0. ... 0. 0. 0.]\n",
            " [0. 0. 0. ... 0. 0. 0.]\n",
            " ...\n",
            " [0. 0. 0. ... 0. 0. 0.]\n",
            " [0. 0. 0. ... 0. 0. 0.]\n",
            " [0. 0. 0. ... 0. 0. 0.]] 40\n",
            "[[0. 0. 0. ... 0. 0. 0.]\n",
            " [0. 0. 0. ... 0. 0. 0.]\n",
            " [0. 0. 0. ... 0. 0. 0.]\n",
            " ...\n",
            " [0. 0. 0. ... 0. 0. 0.]\n",
            " [0. 0. 0. ... 0. 0. 0.]\n",
            " [0. 0. 0. ... 0. 0. 0.]] 865\n",
            "[[0. 0. 0. ... 0. 0. 0.]\n",
            " [0. 0. 0. ... 0. 0. 0.]\n",
            " [0. 0. 0. ... 0. 0. 0.]\n",
            " ...\n",
            " [0. 0. 0. ... 0. 0. 0.]\n",
            " [0. 0. 0. ... 0. 0. 0.]\n",
            " [0. 0. 0. ... 0. 0. 0.]] 912\n",
            "[[0. 0. 0. ... 0. 0. 0.]\n",
            " [0. 0. 0. ... 0. 0. 0.]\n",
            " [0. 0. 0. ... 0. 0. 0.]\n",
            " ...\n",
            " [0. 0. 0. ... 0. 0. 0.]\n",
            " [0. 0. 0. ... 0. 0. 0.]\n",
            " [0. 0. 0. ... 0. 0. 0.]] 451\n",
            "[[0. 0. 0. ... 0. 0. 0.]\n",
            " [0. 0. 0. ... 0. 0. 0.]\n",
            " [0. 0. 0. ... 0. 0. 0.]\n",
            " ...\n",
            " [0. 0. 0. ... 0. 0. 0.]\n",
            " [0. 0. 0. ... 0. 0. 0.]\n",
            " [0. 0. 0. ... 0. 0. 0.]] 575\n",
            "[[0. 0. 0. ... 0. 0. 0.]\n",
            " [0. 0. 0. ... 0. 0. 0.]\n",
            " [0. 0. 0. ... 0. 0. 0.]\n",
            " ...\n",
            " [0. 0. 0. ... 0. 0. 0.]\n",
            " [0. 0. 0. ... 0. 0. 0.]\n",
            " [0. 0. 0. ... 0. 0. 0.]] 293\n"
          ]
        }
      ]
    },
    {
      "cell_type": "markdown",
      "source": [
        "## **Instantiating an Embedding Layer**\n",
        "It works as a dictionary look up that maps integer indices (stand for specific words) to dense vectors. It takes integers as input, it looks up these integers in an internal dictionary, and it returns the associated vectors.\n",
        "\n",
        "The embedding layer takes a 2D tensor of integers, of shape = `(samples, sequence length)` where each entry isa sequence of integers. It can embed the sequence of variable length but all sequences in a batch must have same length. In order to do this padding and truncation has been performed for short and long sequences respectively.\n",
        "\n",
        "It returns a 3D floating-point tensor  of shape` (samples, sequence_length, embedding_dimensionality)`."
      ],
      "metadata": {
        "id": "OQmCdpIj2chm"
      }
    },
    {
      "cell_type": "markdown",
      "source": [
        "## **loading the IMDB data for use with an Embedding Layer**"
      ],
      "metadata": {
        "id": "lYM4ty6e4bNe"
      }
    },
    {
      "cell_type": "code",
      "source": [
        "from keras.datasets import imdb\n",
        "from keras import preprocessing\n",
        "\n",
        "max_features = 10000 #Number of words to consider as features\n",
        "maxlen = 20 #Cuts off the text after this number of words\n",
        "\n",
        "(x_train, y_train), (x_test, y_test) = imdb.load_data(num_words=max_features)\n",
        "\n",
        "x_train = preprocessing.sequence.pad_sequences(x_train, maxlen=maxlen) #Turns the lists of integers into a 2D integer tensor of shape (samples, maxlen)\n",
        "x_train = preprocessing.sequence.pad_sequences(x_test, maxlen=maxlen)"
      ],
      "metadata": {
        "id": "nl16a_9rvvqM",
        "colab": {
          "base_uri": "https://localhost:8080/"
        },
        "outputId": "f643021a-d5c0-4d4e-afac-81ff9046df5b"
      },
      "execution_count": 5,
      "outputs": [
        {
          "output_type": "stream",
          "name": "stdout",
          "text": [
            "Downloading data from https://storage.googleapis.com/tensorflow/tf-keras-datasets/imdb.npz\n",
            "17465344/17464789 [==============================] - 0s 0us/step\n",
            "17473536/17464789 [==============================] - 0s 0us/step\n"
          ]
        }
      ]
    },
    {
      "cell_type": "code",
      "source": [
        "from keras.models import Sequential\n",
        "from keras.layers import Flatten, Dense\n",
        "from keras.layers import Embedding\n",
        "\n",
        "model = Sequential()\n",
        "model.add(Embedding(10000, 8, input_length=maxlen)) #The activation shape (samples, maxlen, 8)\n",
        "model.add(Flatten()) #shape(samples, maxlen*8)\n",
        "model.add(Dense(1, activation='sigmoid'))\n",
        "model.compile(optimizer='rmsprop', loss='binary_crossentropy', metrics=['acc'])\n",
        "model.summary()\n",
        "\n",
        "history = model.fit(x_train, y_train, epochs=10, batch_size=32, validation_split=0.2)"
      ],
      "metadata": {
        "colab": {
          "base_uri": "https://localhost:8080/"
        },
        "id": "Fqsscnvt5-Do",
        "outputId": "45c6e2dc-85e6-493a-c58e-89556a8a8077"
      },
      "execution_count": 6,
      "outputs": [
        {
          "output_type": "stream",
          "name": "stdout",
          "text": [
            "Model: \"sequential\"\n",
            "_________________________________________________________________\n",
            " Layer (type)                Output Shape              Param #   \n",
            "=================================================================\n",
            " embedding (Embedding)       (None, 20, 8)             80000     \n",
            "                                                                 \n",
            " flatten (Flatten)           (None, 160)               0         \n",
            "                                                                 \n",
            " dense (Dense)               (None, 1)                 161       \n",
            "                                                                 \n",
            "=================================================================\n",
            "Total params: 80,161\n",
            "Trainable params: 80,161\n",
            "Non-trainable params: 0\n",
            "_________________________________________________________________\n",
            "Epoch 1/10\n",
            "625/625 [==============================] - 6s 3ms/step - loss: 0.6932 - acc: 0.5062 - val_loss: 0.6933 - val_acc: 0.5020\n",
            "Epoch 2/10\n",
            "625/625 [==============================] - 2s 3ms/step - loss: 0.6813 - acc: 0.6129 - val_loss: 0.6950 - val_acc: 0.5016\n",
            "Epoch 3/10\n",
            "625/625 [==============================] - 2s 3ms/step - loss: 0.6585 - acc: 0.6670 - val_loss: 0.7005 - val_acc: 0.5010\n",
            "Epoch 4/10\n",
            "625/625 [==============================] - 2s 3ms/step - loss: 0.6261 - acc: 0.7036 - val_loss: 0.7112 - val_acc: 0.5026\n",
            "Epoch 5/10\n",
            "625/625 [==============================] - 2s 3ms/step - loss: 0.5886 - acc: 0.7354 - val_loss: 0.7271 - val_acc: 0.5024\n",
            "Epoch 6/10\n",
            "625/625 [==============================] - 2s 3ms/step - loss: 0.5495 - acc: 0.7624 - val_loss: 0.7470 - val_acc: 0.5038\n",
            "Epoch 7/10\n",
            "625/625 [==============================] - 2s 3ms/step - loss: 0.5115 - acc: 0.7825 - val_loss: 0.7705 - val_acc: 0.5012\n",
            "Epoch 8/10\n",
            "625/625 [==============================] - 2s 3ms/step - loss: 0.4756 - acc: 0.7998 - val_loss: 0.7958 - val_acc: 0.5044\n",
            "Epoch 9/10\n",
            "625/625 [==============================] - 2s 3ms/step - loss: 0.4426 - acc: 0.8171 - val_loss: 0.8238 - val_acc: 0.5032\n",
            "Epoch 10/10\n",
            "625/625 [==============================] - 2s 3ms/step - loss: 0.4127 - acc: 0.8324 - val_loss: 0.8532 - val_acc: 0.5062\n"
          ]
        }
      ]
    },
    {
      "cell_type": "markdown",
      "source": [
        "\n",
        "\n",
        "> **Note:** Though the validation accuracy is pretty good but this model treat each word in the input sequence separately, without considering inter-word relationship and sentence structure (For example, \"This movie is a dumb\" and \"This movie is about the dumb\" are treated as negative reviews which is not correct).\n",
        "\n"
      ],
      "metadata": {
        "id": "VKFFctGC7xnh"
      }
    },
    {
      "cell_type": "markdown",
      "source": [
        "## **Playing with raw IMDB data**\n",
        "First, head to http://mng.bz/0tIo and download the data. But this time we will use the pretrained word embeddings model called `Glove`"
      ],
      "metadata": {
        "id": "Sa9odQtbIijV"
      }
    },
    {
      "cell_type": "code",
      "source": [
        "#Processing the labels of the raw IMDB data\n",
        "import os\n",
        "imdb_dir = '/content/drive/MyDrive/IMDB_raw/aclImdb'\n",
        "train_dir = os.path.join(imdb_dir, 'train')\n",
        "labels = []\n",
        "texts = []\n",
        "\n",
        "for label_type in ['neg', 'pos']:\n",
        "  dir_name = os.path.join(train_dir, label_type)\n",
        "  for fname in os.listdir(dir_name):\n",
        "    if(fname[-4:]=='.txt'):\n",
        "      f=open(os.path.join(dir_name, fname))\n",
        "      texts.append(f.read())\n",
        "      f.close()\n",
        "      if(label_type == 'neg'):\n",
        "        labels.append(0)\n",
        "      else:\n",
        "        labels.append(1)"
      ],
      "metadata": {
        "id": "0-ZcYYJ4Uzfi"
      },
      "execution_count": 7,
      "outputs": []
    },
    {
      "cell_type": "markdown",
      "source": [
        "## **Tokenizing the Data**\n",
        "Let's vectorize the text and prepare a `train-val` split, because the pretrained word embeddings are meant to be particularly useful on problems where little training data is available (otherwise, task-specific embeddings are likely to outperform them), we'll add the following twist: restricting the training data to the first 200 samples. So you'll learn to classify movie reviews after looking at just 200 examples."
      ],
      "metadata": {
        "id": "ltnUITSYKl9T"
      }
    },
    {
      "cell_type": "code",
      "source": [
        "from keras.preprocessing.text import Tokenizer\n",
        "from keras.preprocessing.sequence import pad_sequences\n",
        "import numpy as np\n",
        "\n",
        "maxlen = 100 #Cuts off reviews after 100 words\n",
        "training_samples = 200 #Trains on 200 samples\n",
        "val_samples = 10000 #Validates on 10,000 samples\n",
        "max_words = 10000 #Considers only top 10,000 words in the dataset\n",
        "\n",
        "tokenizer = Tokenizer(num_words=max_words)\n",
        "tokenizer.fit_on_texts(texts)\n",
        "sequences = tokenizer.texts_to_sequences(texts)\n",
        "\n",
        "word_index = tokenizer.word_index\n",
        "print('Found %s unique tokens.' % len(word_index))\n",
        "\n",
        "data = pad_sequences(sequences,maxlen=maxlen)\n",
        "\n",
        "labels = np.asarray(labels)\n",
        "print('Shape of data tensor:', data.shape)\n",
        "print('Shape of label tensor:', labels.shape)\n",
        "\n",
        "indices = np.arange(data.shape[0]) #Split the data into train-val set\n",
        "np.random.shuffle(indices)          #shuffles the data as the samples are ordered\n",
        "data = data[indices]\n",
        "labels = labels[indices]\n",
        "\n",
        "x_train = data[:training_samples]\n",
        "y_train= labels[:training_samples]\n",
        "x_val = data[training_samples: training_samples+val_samples]\n",
        "y_val = labels[training_samples: training_samples+val_samples]"
      ],
      "metadata": {
        "colab": {
          "base_uri": "https://localhost:8080/"
        },
        "id": "JUbjiZ3IKINE",
        "outputId": "b79ca8ef-8dff-4658-be6a-94c549540adf"
      },
      "execution_count": 8,
      "outputs": [
        {
          "output_type": "stream",
          "name": "stdout",
          "text": [
            "Found 27596 unique tokens.\n",
            "Shape of data tensor: (2435, 100)\n",
            "Shape of label tensor: (2435,)\n"
          ]
        }
      ]
    },
    {
      "cell_type": "code",
      "source": [
        "#Parsing the GloVe word-embedding file\n",
        "glove_dir = '/content/drive/MyDrive/glove'\n",
        "embeddings_index = {}\n",
        "f = open(os.path.join(glove_dir, 'glove.6B.100d.txt'))\n",
        "for line in f:\n",
        "  values = line.split()\n",
        "  word = values[0]\n",
        "  coefs = np.asarray(values[1:], dtype='float32')\n",
        "  embeddings_index[word] = coefs\n",
        "f.close()\n",
        "print('Found %s word vectors.' %len(embeddings_index))"
      ],
      "metadata": {
        "colab": {
          "base_uri": "https://localhost:8080/"
        },
        "id": "syVpTmXdSEj_",
        "outputId": "82734f22-6818-4875-a8c3-a36f28c7c60a"
      },
      "execution_count": 9,
      "outputs": [
        {
          "output_type": "stream",
          "name": "stdout",
          "text": [
            "Found 400000 word vectors.\n"
          ]
        }
      ]
    },
    {
      "cell_type": "code",
      "source": [
        "#Preparing the GloVe word-embedding matrix\n",
        "embedding_dim = 100\n",
        "embedding_matrix = np.zeros((max_words, embedding_dim))\n",
        "for word, i in word_index.items():\n",
        "  if(i<max_words):\n",
        "    embedding_vector = embeddings_index.get(word)\n",
        "    if(embedding_vector is not None):\n",
        "      embedding_matrix[i] = embedding_vector\n",
        "#words not found in the embedding index will be all zeros"
      ],
      "metadata": {
        "id": "tUrn2qlWU9Gx"
      },
      "execution_count": 10,
      "outputs": []
    },
    {
      "cell_type": "code",
      "source": [
        "#Model definition\n",
        "from keras.models import Sequential\n",
        "from keras.layers import Embedding, Flatten, Dense\n",
        "\n",
        "model = Sequential()\n",
        "model.add(Embedding(max_words, embedding_dim, input_length=maxlen))\n",
        "model.add(Flatten())\n",
        "model.add(Dense(32, activation='relu'))\n",
        "model.add(Dense(1, activation='sigmoid'))\n",
        "model.summary()"
      ],
      "metadata": {
        "colab": {
          "base_uri": "https://localhost:8080/"
        },
        "id": "3ufTwhOu8vj5",
        "outputId": "5eb9cc3d-1940-40d4-c616-3a4b56f80848"
      },
      "execution_count": 11,
      "outputs": [
        {
          "output_type": "stream",
          "name": "stdout",
          "text": [
            "Model: \"sequential_1\"\n",
            "_________________________________________________________________\n",
            " Layer (type)                Output Shape              Param #   \n",
            "=================================================================\n",
            " embedding_1 (Embedding)     (None, 100, 100)          1000000   \n",
            "                                                                 \n",
            " flatten_1 (Flatten)         (None, 10000)             0         \n",
            "                                                                 \n",
            " dense_1 (Dense)             (None, 32)                320032    \n",
            "                                                                 \n",
            " dense_2 (Dense)             (None, 1)                 33        \n",
            "                                                                 \n",
            "=================================================================\n",
            "Total params: 1,320,065\n",
            "Trainable params: 1,320,065\n",
            "Non-trainable params: 0\n",
            "_________________________________________________________________\n"
          ]
        }
      ]
    },
    {
      "cell_type": "code",
      "source": [
        "#Loading the pretrained word embeddings into the embedding layer\n",
        "model.layers[0].set_weights([embedding_matrix])\n",
        "model.layers[0].trainable = False"
      ],
      "metadata": {
        "id": "DGdM35PP9i_K"
      },
      "execution_count": 12,
      "outputs": []
    },
    {
      "cell_type": "code",
      "source": [
        "#Training and Evaluation\n",
        "model.compile(\n",
        "    optimizer = 'rmsprop',\n",
        "    loss = 'binary_crossentropy',\n",
        "    metrics=['acc']\n",
        ")\n",
        "history = model.fit(x_train, y_train,\n",
        "                    epochs = 20,\n",
        "                    batch_size = 64,\n",
        "                    validation_data = (x_val,y_val))\n",
        "model.save_weights('pre_trained_glove_model.h5')"
      ],
      "metadata": {
        "colab": {
          "base_uri": "https://localhost:8080/"
        },
        "id": "P8BTj1s9-jmc",
        "outputId": "97dfda38-3e09-42fd-b063-ba875bf57b46"
      },
      "execution_count": 14,
      "outputs": [
        {
          "output_type": "stream",
          "name": "stdout",
          "text": [
            "Epoch 1/20\n",
            "4/4 [==============================] - 1s 69ms/step - loss: 0.0616 - acc: 1.0000 - val_loss: 4.2011e-05 - val_acc: 1.0000\n",
            "Epoch 2/20\n",
            "4/4 [==============================] - 0s 30ms/step - loss: 1.7865e-07 - acc: 1.0000 - val_loss: 4.2009e-05 - val_acc: 1.0000\n",
            "Epoch 3/20\n",
            "4/4 [==============================] - 0s 57ms/step - loss: 1.7818e-07 - acc: 1.0000 - val_loss: 4.2006e-05 - val_acc: 1.0000\n",
            "Epoch 4/20\n",
            "4/4 [==============================] - 0s 32ms/step - loss: 1.7758e-07 - acc: 1.0000 - val_loss: 4.2002e-05 - val_acc: 1.0000\n",
            "Epoch 5/20\n",
            "4/4 [==============================] - 0s 29ms/step - loss: 1.7693e-07 - acc: 1.0000 - val_loss: 4.1998e-05 - val_acc: 1.0000\n",
            "Epoch 6/20\n",
            "4/4 [==============================] - 0s 34ms/step - loss: 1.7613e-07 - acc: 1.0000 - val_loss: 4.1992e-05 - val_acc: 1.0000\n",
            "Epoch 7/20\n",
            "4/4 [==============================] - 0s 56ms/step - loss: 1.7518e-07 - acc: 1.0000 - val_loss: 4.1985e-05 - val_acc: 1.0000\n",
            "Epoch 8/20\n",
            "4/4 [==============================] - 0s 57ms/step - loss: 1.7402e-07 - acc: 1.0000 - val_loss: 4.1977e-05 - val_acc: 1.0000\n",
            "Epoch 9/20\n",
            "4/4 [==============================] - 0s 31ms/step - loss: 1.7265e-07 - acc: 1.0000 - val_loss: 4.1968e-05 - val_acc: 1.0000\n",
            "Epoch 10/20\n",
            "4/4 [==============================] - 0s 31ms/step - loss: 1.7111e-07 - acc: 1.0000 - val_loss: 4.1957e-05 - val_acc: 1.0000\n",
            "Epoch 11/20\n",
            "4/4 [==============================] - 0s 57ms/step - loss: 1.6939e-07 - acc: 1.0000 - val_loss: 4.1943e-05 - val_acc: 1.0000\n",
            "Epoch 12/20\n",
            "4/4 [==============================] - 0s 29ms/step - loss: 1.6738e-07 - acc: 1.0000 - val_loss: 4.1925e-05 - val_acc: 1.0000\n",
            "Epoch 13/20\n",
            "4/4 [==============================] - 0s 58ms/step - loss: 1.6482e-07 - acc: 1.0000 - val_loss: 4.1905e-05 - val_acc: 1.0000\n",
            "Epoch 14/20\n",
            "4/4 [==============================] - 0s 29ms/step - loss: 1.6201e-07 - acc: 1.0000 - val_loss: 4.1882e-05 - val_acc: 1.0000\n",
            "Epoch 15/20\n",
            "4/4 [==============================] - 0s 32ms/step - loss: 1.5891e-07 - acc: 1.0000 - val_loss: 4.1853e-05 - val_acc: 1.0000\n",
            "Epoch 16/20\n",
            "4/4 [==============================] - 0s 29ms/step - loss: 1.5521e-07 - acc: 1.0000 - val_loss: 4.1820e-05 - val_acc: 1.0000\n",
            "Epoch 17/20\n",
            "4/4 [==============================] - 0s 30ms/step - loss: 1.5120e-07 - acc: 1.0000 - val_loss: 4.1782e-05 - val_acc: 1.0000\n",
            "Epoch 18/20\n",
            "4/4 [==============================] - 0s 32ms/step - loss: 1.4669e-07 - acc: 1.0000 - val_loss: 4.1733e-05 - val_acc: 1.0000\n",
            "Epoch 19/20\n",
            "4/4 [==============================] - 0s 29ms/step - loss: 1.4120e-07 - acc: 1.0000 - val_loss: 4.1677e-05 - val_acc: 1.0000\n",
            "Epoch 20/20\n",
            "4/4 [==============================] - 0s 30ms/step - loss: 1.3542e-07 - acc: 1.0000 - val_loss: 4.1614e-05 - val_acc: 1.0000\n"
          ]
        }
      ]
    },
    {
      "cell_type": "code",
      "source": [
        "#plotting the results\n",
        "import matplotlib.pyplot as plt\n",
        "acc = history.history['acc']\n",
        "val_acc = history.history['val_acc']\n",
        "loss = history.history['loss']\n",
        "val_loss = history.history['val_loss']\n",
        "\n",
        "epochs = range(1, len(acc)+1)\n",
        "\n",
        "plt.plot(epochs, acc, 'bo', label='Training acc')\n",
        "plt.plot(epochs, val_acc, 'b', label = 'Validation acc')\n",
        "plt.title('Training and Validation accuracy')\n",
        "plt.legend()\n",
        "\n",
        "plt.figure()\n",
        "\n",
        "plt.plot(epochs, loss, 'bo', label='Training loss')\n",
        "plt.plot(epochs, val_loss, 'b', label = 'Validation loss')\n",
        "plt.title('Training and Validation loss')\n",
        "plt.legend()\n",
        "plt.show()"
      ],
      "metadata": {
        "colab": {
          "base_uri": "https://localhost:8080/",
          "height": 545
        },
        "id": "2mJBc0lj_VHu",
        "outputId": "f5643d81-e6a3-41fc-d0b8-fdc5eafc8342"
      },
      "execution_count": 16,
      "outputs": [
        {
          "output_type": "display_data",
          "data": {
            "text/plain": [
              "<Figure size 432x288 with 1 Axes>"
            ],
            "image/png": "[encoded data removed]"
          },
          "metadata": {
            "needs_background": "light"
          }
        },
        {
          "output_type": "display_data",
          "data": {
            "text/plain": [
              "<Figure size 432x288 with 1 Axes>"
            ],
            "image/png": "[encoded data removed]"
          },
          "metadata": {
            "needs_background": "light"
          }
        }
      ]
    },
    {
      "cell_type": "code",
      "source": [
        "#Training the same model without pretraining word embeddings\n",
        "from keras.models import Sequential\n",
        "from keras.layers import Embedding, Flatten, Dense\n",
        "\n",
        "model = Sequential()\n",
        "model.add(Embedding(max_words, embedding_dim, input_length=maxlen))\n",
        "model.add(Flatten())\n",
        "model.add(Dense(32,activation='relu'))\n",
        "model.add(Dense(1, activation='sigmoid'))\n",
        "model.summary()\n",
        "\n",
        "model.compile(optimizer='rmsprop',\n",
        "              loss='binary_crossentropy',\n",
        "              metrics = ['acc'])\n",
        "history = model.fit(x_train, y_train,\n",
        "                    epochs=10,\n",
        "                    batch_size=32,\n",
        "                    validation_data=(x_val,y_val))"
      ],
      "metadata": {
        "colab": {
          "base_uri": "https://localhost:8080/"
        },
        "id": "AWO4MyCPAiE7",
        "outputId": "482fdfc4-c9d8-417a-81ce-e332532401fa"
      },
      "execution_count": 17,
      "outputs": [
        {
          "output_type": "stream",
          "name": "stdout",
          "text": [
            "Model: \"sequential_2\"\n",
            "_________________________________________________________________\n",
            " Layer (type)                Output Shape              Param #   \n",
            "=================================================================\n",
            " embedding_2 (Embedding)     (None, 100, 100)          1000000   \n",
            "                                                                 \n",
            " flatten_2 (Flatten)         (None, 10000)             0         \n",
            "                                                                 \n",
            " dense_3 (Dense)             (None, 32)                320032    \n",
            "                                                                 \n",
            " dense_4 (Dense)             (None, 1)                 33        \n",
            "                                                                 \n",
            "=================================================================\n",
            "Total params: 1,320,065\n",
            "Trainable params: 1,320,065\n",
            "Non-trainable params: 0\n",
            "_________________________________________________________________\n",
            "Epoch 1/10\n",
            "7/7 [==============================] - 1s 47ms/step - loss: 0.4833 - acc: 0.9150 - val_loss: 0.1231 - val_acc: 1.0000\n",
            "Epoch 2/10\n",
            "7/7 [==============================] - 0s 30ms/step - loss: 0.0520 - acc: 1.0000 - val_loss: 0.0284 - val_acc: 1.0000\n",
            "Epoch 3/10\n",
            "7/7 [==============================] - 0s 26ms/step - loss: 0.0128 - acc: 1.0000 - val_loss: 0.0120 - val_acc: 1.0000\n",
            "Epoch 4/10\n",
            "7/7 [==============================] - 0s 27ms/step - loss: 0.0054 - acc: 1.0000 - val_loss: 0.0062 - val_acc: 1.0000\n",
            "Epoch 5/10\n",
            "7/7 [==============================] - 0s 30ms/step - loss: 0.0027 - acc: 1.0000 - val_loss: 0.0035 - val_acc: 1.0000\n",
            "Epoch 6/10\n",
            "7/7 [==============================] - 0s 27ms/step - loss: 0.0015 - acc: 1.0000 - val_loss: 0.0021 - val_acc: 1.0000\n",
            "Epoch 7/10\n",
            "7/7 [==============================] - 0s 31ms/step - loss: 8.7006e-04 - acc: 1.0000 - val_loss: 0.0013 - val_acc: 1.0000\n",
            "Epoch 8/10\n",
            "7/7 [==============================] - 0s 27ms/step - loss: 5.2250e-04 - acc: 1.0000 - val_loss: 8.4636e-04 - val_acc: 1.0000\n",
            "Epoch 9/10\n",
            "7/7 [==============================] - 0s 31ms/step - loss: 3.2086e-04 - acc: 1.0000 - val_loss: 5.4880e-04 - val_acc: 1.0000\n",
            "Epoch 10/10\n",
            "7/7 [==============================] - 0s 26ms/step - loss: 2.0003e-04 - acc: 1.0000 - val_loss: 3.6488e-04 - val_acc: 1.0000\n"
          ]
        }
      ]
    },
    {
      "cell_type": "code",
      "source": [
        "#Tokenizing the data of the test set\n",
        "test_dir = os.path.join(imdb_dir, 'test')\n",
        "labels = []\n",
        "texts = []\n",
        "for label_type in ['neg', 'pos']:\n",
        "  dir_name = os.path.join(test_dir, label_type)\n",
        "  for fname in sorted(os.listdir(dir_name)):\n",
        "    if(fname[-4:] == '.txt'):\n",
        "      f = open(os.path.join(dir_name, fname))\n",
        "      texts.append(f.read())\n",
        "      f.close()\n",
        "      if(label_type == 'neg'):\n",
        "        labels.append(0)\n",
        "      else:\n",
        "        labels.append(1)\n",
        "sequences = tokenizer.texts_to_sequences(texts)\n",
        "x_test = pad_sequences(sequences, maxlen=maxlen)\n",
        "y_test = np.asarray(labels)"
      ],
      "metadata": {
        "id": "6uK8i5k0CeVD"
      },
      "execution_count": 18,
      "outputs": []
    },
    {
      "cell_type": "code",
      "source": [
        "#Evaluating the model on the test set\n",
        "model.load_weights('pre_trained_glove_model.h5')\n",
        "model.evaluate(x_test, y_test)"
      ],
      "metadata": {
        "colab": {
          "base_uri": "https://localhost:8080/"
        },
        "id": "fJrY8EBAD-z3",
        "outputId": "d37b00bb-a35d-4a31-9adf-ebd9657265e7"
      },
      "execution_count": 19,
      "outputs": [
        {
          "output_type": "stream",
          "name": "stdout",
          "text": [
            "782/782 [==============================] - 2s 3ms/step - loss: 16.2883 - acc: 0.5000\n"
          ]
        },
        {
          "output_type": "execute_result",
          "data": {
            "text/plain": [
              "[16.288259506225586, 0.5]"
            ]
          },
          "metadata": {},
          "execution_count": 19
        }
      ]
    },
    {
      "cell_type": "code",
      "source": [],
      "metadata": {
        "id": "lTLS1jSXHEBg"
      },
      "execution_count": null,
      "outputs": []
    }
  ]
}