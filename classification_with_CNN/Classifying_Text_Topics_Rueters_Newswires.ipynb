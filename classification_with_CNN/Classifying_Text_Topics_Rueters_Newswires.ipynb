{
  "nbformat": 4,
  "nbformat_minor": 0,
  "metadata": {
    "colab": {
      "name": "Classifying_Text_Topics_Rueters_Newswires.ipynb",
      "provenance": [],
      "collapsed_sections": []
    },
    "kernelspec": {
      "name": "python3",
      "display_name": "Python 3"
    },
    "language_info": {
      "name": "python"
    },
    "accelerator": "GPU"
  },
  "cells": [
    {
      "cell_type": "markdown",
      "source": [
        "### **The Reuters Dataset**\n",
        "It is a set of short newswires and their topics, published by Reuters in 1986. It's a simple, widely used toy dataset for text classification. There are 46 differrnt topics; some topics are more represented than others (i.e. class imbalance). However, each topic has at least 10 examples in the training set.\n",
        "\n",
        "\n",
        "\n"
      ],
      "metadata": {
        "id": "qDztT3mxiN67"
      }
    },
    {
      "cell_type": "code",
      "execution_count": 1,
      "metadata": {
        "id": "ZWxXWd2MWLua",
        "colab": {
          "base_uri": "https://localhost:8080/"
        },
        "outputId": "60c4a08f-d739-4b6a-c6c4-9719537f9fb5"
      },
      "outputs": [
        {
          "output_type": "stream",
          "name": "stdout",
          "text": [
            "Downloading data from https://storage.googleapis.com/tensorflow/tf-keras-datasets/reuters.npz\n",
            "2113536/2110848 [==============================] - 0s 0us/step\n",
            "2121728/2110848 [==============================] - 0s 0us/step\n"
          ]
        }
      ],
      "source": [
        "# Loading the Returns Dataset\n",
        "from keras.datasets import reuters\n",
        "(train_data, train_labels), (test_data, test_labels) = reuters.load_data(num_words=10000)"
      ]
    },
    {
      "cell_type": "markdown",
      "source": [
        "Here, we have 8,982 training examples and 2,246 test examples."
      ],
      "metadata": {
        "id": "nhZqlg42jwpW"
      }
    },
    {
      "cell_type": "code",
      "source": [
        "print(\"Length of training data: \", len(train_data))\n",
        "print(\"Length of testing data: \", len(test_data))"
      ],
      "metadata": {
        "colab": {
          "base_uri": "https://localhost:8080/"
        },
        "id": "cqn7CUNojnam",
        "outputId": "e4aead7f-1b54-4f88-a86f-b32c04839b3a"
      },
      "execution_count": 2,
      "outputs": [
        {
          "output_type": "stream",
          "name": "stdout",
          "text": [
            "Length of training data:  8982\n",
            "Length of testing data:  2246\n"
          ]
        }
      ]
    },
    {
      "cell_type": "markdown",
      "source": [
        "As per our previous examples (IMDB reviews), here also each example is a list of integers (word indices):"
      ],
      "metadata": {
        "id": "sG9JBe4EkR0d"
      }
    },
    {
      "cell_type": "code",
      "source": [
        "train_data[10]\n",
        "#print(len(train_data[10]))"
      ],
      "metadata": {
        "colab": {
          "base_uri": "https://localhost:8080/"
        },
        "id": "iHcx7KLTkKk6",
        "outputId": "f0810ed1-d83d-4601-efeb-b9e6d825f931"
      },
      "execution_count": 15,
      "outputs": [
        {
          "output_type": "execute_result",
          "data": {
            "text/plain": [
              "[1,\n",
              " 245,\n",
              " 273,\n",
              " 207,\n",
              " 156,\n",
              " 53,\n",
              " 74,\n",
              " 160,\n",
              " 26,\n",
              " 14,\n",
              " 46,\n",
              " 296,\n",
              " 26,\n",
              " 39,\n",
              " 74,\n",
              " 2979,\n",
              " 3554,\n",
              " 14,\n",
              " 46,\n",
              " 4689,\n",
              " 4329,\n",
              " 86,\n",
              " 61,\n",
              " 3499,\n",
              " 4795,\n",
              " 14,\n",
              " 61,\n",
              " 451,\n",
              " 4329,\n",
              " 17,\n",
              " 12]"
            ]
          },
          "metadata": {},
          "execution_count": 15
        }
      ]
    },
    {
      "cell_type": "markdown",
      "source": [
        "Here also we also decode it to the words"
      ],
      "metadata": {
        "id": "ax0Gq59QksPi"
      }
    },
    {
      "cell_type": "code",
      "source": [
        "# Decoding newswires back to text\n",
        "word_index = reuters.get_word_index()\n",
        "reverse_word_index = dict([(value,key) for (key,value) in word_index.items()])\n",
        "decoded_newswire = ' '.join([reverse_word_index.get(i-3,'?') for i in train_data[10]])\n",
        "## Note that the indices are offset by 3 because 0,1, and 2 are reserved indices for \"padding\", \"start of sequence\" and \"unknown\" respectively\n",
        "print(decoded_newswire)"
      ],
      "metadata": {
        "colab": {
          "base_uri": "https://localhost:8080/"
        },
        "id": "a5ZkbYh4ki4p",
        "outputId": "8cc29a18-c8a1-42be-f2ac-3eecfc026215"
      },
      "execution_count": 12,
      "outputs": [
        {
          "output_type": "stream",
          "name": "stdout",
          "text": [
            "? period ended december 31 shr profit 11 cts vs loss 24 cts net profit 224 271 vs loss 511 349 revs 7 258 688 vs 7 200 349 reuter 3\n"
          ]
        }
      ]
    },
    {
      "cell_type": "code",
      "source": [
        "# Lets encode the string again\n",
        "from random import seed\n",
        "from random import randint\n",
        "\n",
        "len(decoded_newswire)\n",
        "l = []\n",
        "for i in decoded_newswire.split():\n",
        "  l.append(i)\n",
        "word_dict = {1 : '?'}\n",
        "for i in range(len(l)):\n",
        "  value = randint(1, 10000)\n",
        "  word_dict[value] = l[i]\n",
        "for key in word_dict:\n",
        "  print(key, end=\" \")"
      ],
      "metadata": {
        "colab": {
          "base_uri": "https://localhost:8080/"
        },
        "id": "3Gox8Kbbm6oX",
        "outputId": "fd44901a-7458-41cb-89c9-ec5f35eecf17"
      },
      "execution_count": 53,
      "outputs": [
        {
          "output_type": "stream",
          "name": "stdout",
          "text": [
            "1 2857 5547 8908 3448 7612 4282 5610 9901 2391 3836 8130 6848 8118 5013 6793 1328 8656 9960 4161 9560 8360 4164 1835 2533 7432 3316 9032 279 7852 2664 5383 "
          ]
        }
      ]
    },
    {
      "cell_type": "markdown",
      "source": [
        "We can observe the encode value is not same as we use random integer because actual value of each of the word is unknown to us. However with this procedure we can encode the dataset and each word will be represent with a unique character. "
      ],
      "metadata": {
        "id": "RCpG8Anm1hHo"
      }
    },
    {
      "cell_type": "markdown",
      "source": [
        "### **Prepare the Data**"
      ],
      "metadata": {
        "id": "89sl7wSk2Pl5"
      }
    },
    {
      "cell_type": "code",
      "source": [
        "# 1. Encode the train and test data in vectorize sequence\n",
        "import numpy as np\n",
        "def vectorize_sequences(sequences, dimension=10000):\n",
        "  results = np.zeros((len(sequences), dimension)) #creates an all-zero matrix of shape = length of the sequences\n",
        "  for i,sequence in enumerate(sequences):\n",
        "    results[i,sequence] = 1 #set specific indices of results[i] to 1s\n",
        "  return results\n",
        "x_train = vectorize_sequences(train_data)\n",
        "x_test = vectorize_sequences(test_data)"
      ],
      "metadata": {
        "id": "N7iRRhSw0-Xg"
      },
      "execution_count": 56,
      "outputs": []
    },
    {
      "cell_type": "code",
      "source": [
        "# 2. Encode the train and test labels with one_hot encoding as it is a classification problem and the labels are categorical data\n",
        "def to_one_hot (labels, dimension=46):\n",
        "  results = np.zeros((len(labels), dimension))\n",
        "  for i,label in enumerate(labels):\n",
        "    results[i, label] = 1\n",
        "  return results\n",
        "one_hot_train_labels = to_one_hot(train_labels)\n",
        "one_hot_test_labels = to_one_hot(test_labels)\n",
        "# Instead of this function you can use to_categorical method of keras)"
      ],
      "metadata": {
        "id": "XD_LMA-x3h4P"
      },
      "execution_count": 58,
      "outputs": []
    },
    {
      "cell_type": "markdown",
      "source": [
        "### **Building your Network**"
      ],
      "metadata": {
        "id": "LJ_D6AGQ5c-M"
      }
    },
    {
      "cell_type": "code",
      "source": [
        "# Model Definition\n",
        "from keras import models\n",
        "from keras import layers\n",
        "\n",
        "model = models.Sequential()\n",
        "model.add(layers.Dense(46, activation='relu', input_shape=(10000,)))\n",
        "model.add(layers.Dense(46, activation='relu'))\n",
        "model.add(layers.Dense(46, activation='relu'))\n",
        "model.add(layers.Dense(46, activation='softmax'))\n",
        "model.summary()"
      ],
      "metadata": {
        "colab": {
          "base_uri": "https://localhost:8080/"
        },
        "id": "M_725Ewr5WJL",
        "outputId": "b125eb8a-03e9-4af5-f6c4-a8708491a7ce"
      },
      "execution_count": 60,
      "outputs": [
        {
          "output_type": "stream",
          "name": "stdout",
          "text": [
            "Model: \"sequential_1\"\n",
            "_________________________________________________________________\n",
            " Layer (type)                Output Shape              Param #   \n",
            "=================================================================\n",
            " dense_4 (Dense)             (None, 46)                460046    \n",
            "                                                                 \n",
            " dense_5 (Dense)             (None, 46)                2162      \n",
            "                                                                 \n",
            " dense_6 (Dense)             (None, 46)                2162      \n",
            "                                                                 \n",
            " dense_7 (Dense)             (None, 46)                2162      \n",
            "                                                                 \n",
            "=================================================================\n",
            "Total params: 466,532\n",
            "Trainable params: 466,532\n",
            "Non-trainable params: 0\n",
            "_________________________________________________________________\n"
          ]
        }
      ]
    },
    {
      "cell_type": "code",
      "source": [
        "#compile the model\n",
        "model.compile(optimizer='rmsprop', loss='categorical_crossentropy', metrics=['accuracy'])"
      ],
      "metadata": {
        "id": "IZkS4UmJ7N67"
      },
      "execution_count": 62,
      "outputs": []
    },
    {
      "cell_type": "code",
      "source": [
        "# Setting aside a validating set\n",
        "x_val = x_train[:1000]\n",
        "partial_x_train = x_train[1000:]\n",
        "\n",
        "y_val = one_hot_train_labels[:1000]\n",
        "partial_y_train = one_hot_train_labels[1000:]"
      ],
      "metadata": {
        "id": "CNOqjB2k7vC6"
      },
      "execution_count": 63,
      "outputs": []
    },
    {
      "cell_type": "code",
      "source": [
        "#Train the model\n",
        "history = model.fit(partial_x_train, partial_y_train, epochs =50, batch_size=256, validation_data=(x_val,y_val))"
      ],
      "metadata": {
        "colab": {
          "base_uri": "https://localhost:8080/"
        },
        "id": "ymaGl_lM--c9",
        "outputId": "cd176e46-093d-44e5-bc09-213ce23f0f79"
      },
      "execution_count": 65,
      "outputs": [
        {
          "output_type": "stream",
          "name": "stdout",
          "text": [
            "Epoch 1/50\n",
            "32/32 [==============================] - 3s 15ms/step - loss: 2.4737 - accuracy: 0.5259 - val_loss: 1.6330 - val_accuracy: 0.6330\n",
            "Epoch 2/50\n",
            "32/32 [==============================] - 0s 9ms/step - loss: 1.3680 - accuracy: 0.6984 - val_loss: 1.3218 - val_accuracy: 0.7010\n",
            "Epoch 3/50\n",
            "32/32 [==============================] - 0s 10ms/step - loss: 1.0279 - accuracy: 0.7726 - val_loss: 1.1894 - val_accuracy: 0.7390\n",
            "Epoch 4/50\n",
            "32/32 [==============================] - 0s 8ms/step - loss: 0.7961 - accuracy: 0.8207 - val_loss: 1.0480 - val_accuracy: 0.7820\n",
            "Epoch 5/50\n",
            "32/32 [==============================] - 0s 9ms/step - loss: 0.6214 - accuracy: 0.8659 - val_loss: 1.0122 - val_accuracy: 0.7780\n",
            "Epoch 6/50\n",
            "32/32 [==============================] - 0s 9ms/step - loss: 0.4862 - accuracy: 0.9000 - val_loss: 0.9855 - val_accuracy: 0.7900\n",
            "Epoch 7/50\n",
            "32/32 [==============================] - 0s 9ms/step - loss: 0.3874 - accuracy: 0.9171 - val_loss: 1.0198 - val_accuracy: 0.7960\n",
            "Epoch 8/50\n",
            "32/32 [==============================] - 0s 10ms/step - loss: 0.3153 - accuracy: 0.9293 - val_loss: 1.0741 - val_accuracy: 0.7880\n",
            "Epoch 9/50\n",
            "32/32 [==============================] - 0s 9ms/step - loss: 0.2613 - accuracy: 0.9397 - val_loss: 1.0197 - val_accuracy: 0.8050\n",
            "Epoch 10/50\n",
            "32/32 [==============================] - 0s 9ms/step - loss: 0.2260 - accuracy: 0.9456 - val_loss: 1.1325 - val_accuracy: 0.7800\n",
            "Epoch 11/50\n",
            "32/32 [==============================] - 0s 9ms/step - loss: 0.1949 - accuracy: 0.9493 - val_loss: 1.1583 - val_accuracy: 0.7830\n",
            "Epoch 12/50\n",
            "32/32 [==============================] - 0s 9ms/step - loss: 0.1808 - accuracy: 0.9540 - val_loss: 1.0968 - val_accuracy: 0.8000\n",
            "Epoch 13/50\n",
            "32/32 [==============================] - 0s 9ms/step - loss: 0.1642 - accuracy: 0.9557 - val_loss: 1.1477 - val_accuracy: 0.8000\n",
            "Epoch 14/50\n",
            "32/32 [==============================] - 0s 9ms/step - loss: 0.1481 - accuracy: 0.9551 - val_loss: 1.1980 - val_accuracy: 0.7930\n",
            "Epoch 15/50\n",
            "32/32 [==============================] - 0s 10ms/step - loss: 0.1379 - accuracy: 0.9553 - val_loss: 1.3502 - val_accuracy: 0.7650\n",
            "Epoch 16/50\n",
            "32/32 [==============================] - 0s 9ms/step - loss: 0.1406 - accuracy: 0.9549 - val_loss: 1.2642 - val_accuracy: 0.7920\n",
            "Epoch 17/50\n",
            "32/32 [==============================] - 0s 9ms/step - loss: 0.1280 - accuracy: 0.9568 - val_loss: 1.3370 - val_accuracy: 0.7810\n",
            "Epoch 18/50\n",
            "32/32 [==============================] - 0s 8ms/step - loss: 0.1282 - accuracy: 0.9557 - val_loss: 1.3082 - val_accuracy: 0.7880\n",
            "Epoch 19/50\n",
            "32/32 [==============================] - 0s 14ms/step - loss: 0.1165 - accuracy: 0.9584 - val_loss: 1.4379 - val_accuracy: 0.7630\n",
            "Epoch 20/50\n",
            "32/32 [==============================] - 0s 9ms/step - loss: 0.1214 - accuracy: 0.9574 - val_loss: 1.2792 - val_accuracy: 0.7910\n",
            "Epoch 21/50\n",
            "32/32 [==============================] - 0s 15ms/step - loss: 0.1191 - accuracy: 0.9569 - val_loss: 1.3068 - val_accuracy: 0.7850\n",
            "Epoch 22/50\n",
            "32/32 [==============================] - 0s 10ms/step - loss: 0.1144 - accuracy: 0.9569 - val_loss: 1.2853 - val_accuracy: 0.7940\n",
            "Epoch 23/50\n",
            "32/32 [==============================] - 0s 13ms/step - loss: 0.1115 - accuracy: 0.9579 - val_loss: 1.4357 - val_accuracy: 0.7790\n",
            "Epoch 24/50\n",
            "32/32 [==============================] - 0s 10ms/step - loss: 0.1109 - accuracy: 0.9568 - val_loss: 1.4184 - val_accuracy: 0.7890\n",
            "Epoch 25/50\n",
            "32/32 [==============================] - 0s 9ms/step - loss: 0.1064 - accuracy: 0.9582 - val_loss: 1.3315 - val_accuracy: 0.7860\n",
            "Epoch 26/50\n",
            "32/32 [==============================] - 0s 9ms/step - loss: 0.1066 - accuracy: 0.9590 - val_loss: 1.4599 - val_accuracy: 0.7780\n",
            "Epoch 27/50\n",
            "32/32 [==============================] - 0s 9ms/step - loss: 0.1038 - accuracy: 0.9578 - val_loss: 1.5607 - val_accuracy: 0.7620\n",
            "Epoch 28/50\n",
            "32/32 [==============================] - 0s 9ms/step - loss: 0.0981 - accuracy: 0.9588 - val_loss: 1.3812 - val_accuracy: 0.7710\n",
            "Epoch 29/50\n",
            "32/32 [==============================] - 0s 14ms/step - loss: 0.1061 - accuracy: 0.9553 - val_loss: 1.3872 - val_accuracy: 0.7900\n",
            "Epoch 30/50\n",
            "32/32 [==============================] - 0s 9ms/step - loss: 0.0977 - accuracy: 0.9582 - val_loss: 1.5698 - val_accuracy: 0.7690\n",
            "Epoch 31/50\n",
            "32/32 [==============================] - 0s 10ms/step - loss: 0.0989 - accuracy: 0.9575 - val_loss: 1.5541 - val_accuracy: 0.7710\n",
            "Epoch 32/50\n",
            "32/32 [==============================] - 0s 9ms/step - loss: 0.0937 - accuracy: 0.9597 - val_loss: 1.4755 - val_accuracy: 0.7830\n",
            "Epoch 33/50\n",
            "32/32 [==============================] - 0s 9ms/step - loss: 0.0957 - accuracy: 0.9579 - val_loss: 1.4891 - val_accuracy: 0.7820\n",
            "Epoch 34/50\n",
            "32/32 [==============================] - 0s 9ms/step - loss: 0.0943 - accuracy: 0.9592 - val_loss: 1.4554 - val_accuracy: 0.7860\n",
            "Epoch 35/50\n",
            "32/32 [==============================] - 0s 9ms/step - loss: 0.0906 - accuracy: 0.9573 - val_loss: 1.6272 - val_accuracy: 0.7760\n",
            "Epoch 36/50\n",
            "32/32 [==============================] - 0s 9ms/step - loss: 0.0910 - accuracy: 0.9603 - val_loss: 1.4922 - val_accuracy: 0.7830\n",
            "Epoch 37/50\n",
            "32/32 [==============================] - 0s 9ms/step - loss: 0.0905 - accuracy: 0.9587 - val_loss: 1.5863 - val_accuracy: 0.7810\n",
            "Epoch 38/50\n",
            "32/32 [==============================] - 0s 11ms/step - loss: 0.0862 - accuracy: 0.9598 - val_loss: 1.7352 - val_accuracy: 0.7710\n",
            "Epoch 39/50\n",
            "32/32 [==============================] - 0s 9ms/step - loss: 0.0887 - accuracy: 0.9578 - val_loss: 1.6490 - val_accuracy: 0.7740\n",
            "Epoch 40/50\n",
            "32/32 [==============================] - 0s 10ms/step - loss: 0.0850 - accuracy: 0.9594 - val_loss: 1.8738 - val_accuracy: 0.7490\n",
            "Epoch 41/50\n",
            "32/32 [==============================] - 0s 9ms/step - loss: 0.0866 - accuracy: 0.9583 - val_loss: 1.8012 - val_accuracy: 0.7540\n",
            "Epoch 42/50\n",
            "32/32 [==============================] - 0s 9ms/step - loss: 0.0864 - accuracy: 0.9600 - val_loss: 1.6830 - val_accuracy: 0.7670\n",
            "Epoch 43/50\n",
            "32/32 [==============================] - 0s 9ms/step - loss: 0.0844 - accuracy: 0.9575 - val_loss: 1.6771 - val_accuracy: 0.7760\n",
            "Epoch 44/50\n",
            "32/32 [==============================] - 0s 9ms/step - loss: 0.0826 - accuracy: 0.9592 - val_loss: 1.6309 - val_accuracy: 0.7740\n",
            "Epoch 45/50\n",
            "32/32 [==============================] - 0s 9ms/step - loss: 0.0842 - accuracy: 0.9574 - val_loss: 1.6654 - val_accuracy: 0.7700\n",
            "Epoch 46/50\n",
            "32/32 [==============================] - 0s 9ms/step - loss: 0.0805 - accuracy: 0.9578 - val_loss: 1.6405 - val_accuracy: 0.7770\n",
            "Epoch 47/50\n",
            "32/32 [==============================] - 0s 9ms/step - loss: 0.0813 - accuracy: 0.9577 - val_loss: 1.8776 - val_accuracy: 0.7650\n",
            "Epoch 48/50\n",
            "32/32 [==============================] - 0s 9ms/step - loss: 0.0802 - accuracy: 0.9574 - val_loss: 1.8439 - val_accuracy: 0.7590\n",
            "Epoch 49/50\n",
            "32/32 [==============================] - 0s 9ms/step - loss: 0.0795 - accuracy: 0.9572 - val_loss: 1.7711 - val_accuracy: 0.7670\n",
            "Epoch 50/50\n",
            "32/32 [==============================] - 0s 9ms/step - loss: 0.0784 - accuracy: 0.9582 - val_loss: 1.9296 - val_accuracy: 0.7690\n"
          ]
        }
      ]
    },
    {
      "cell_type": "code",
      "source": [
        "#let's take a look what the history content\n",
        "history_dict = history.history\n",
        "history_dict.keys()"
      ],
      "metadata": {
        "colab": {
          "base_uri": "https://localhost:8080/"
        },
        "id": "qC_rDWDz_bA9",
        "outputId": "649b6edd-fa43-4d9c-e47f-a4cd62913bb5"
      },
      "execution_count": 66,
      "outputs": [
        {
          "output_type": "execute_result",
          "data": {
            "text/plain": [
              "dict_keys(['loss', 'accuracy', 'val_loss', 'val_accuracy'])"
            ]
          },
          "metadata": {},
          "execution_count": 66
        }
      ]
    },
    {
      "cell_type": "code",
      "source": [
        "#ploting the training and validation loss\n",
        "import matplotlib.pyplot as plt\n",
        "loss_values = history_dict['loss']\n",
        "val_loss_values = history_dict['val_loss']\n",
        "epochs = range(1,51)\n",
        "plt.plot(epochs,loss_values,'bo',label='Training loss')\n",
        "plt.plot(epochs,val_loss_values,'b',label='Validation loss')\n",
        "plt.title('Training and validation loss')\n",
        "plt.xlabel('Epochs')\n",
        "plt.ylabel('Loss')\n",
        "plt.legend()\n",
        "plt.show()"
      ],
      "metadata": {
        "colab": {
          "base_uri": "https://localhost:8080/",
          "height": 295
        },
        "id": "6b8C8pUY_zO7",
        "outputId": "79bfd2e7-9b21-4c38-fd9a-8592ba17ccb0"
      },
      "execution_count": 68,
      "outputs": [
        {
          "output_type": "display_data",
          "data": {
            "text/plain": [
              "<Figure size 432x288 with 1 Axes>"
            ],
            "image/png": "[encoded data removed]"
          },
          "metadata": {
            "needs_background": "light"
          }
        }
      ]
    },
    {
      "cell_type": "code",
      "source": [
        "#ploting the training and validation accuracy\n",
        "import matplotlib.pyplot as plt\n",
        "loss_values = history_dict['accuracy']\n",
        "val_loss_values = history_dict['val_accuracy']\n",
        "epochs = range(1,51)\n",
        "plt.plot(epochs,loss_values,'bo',label='Training Accuracy')\n",
        "plt.plot(epochs,val_loss_values,'b',label='Validation Accuracy')\n",
        "plt.title('Training and validation Accuracy')\n",
        "plt.xlabel('Epochs')\n",
        "plt.ylabel('Accuracy')\n",
        "plt.legend()\n",
        "plt.show()"
      ],
      "metadata": {
        "colab": {
          "base_uri": "https://localhost:8080/",
          "height": 295
        },
        "id": "9DS9CInQ_2TA",
        "outputId": "8627e219-ea32-4d04-ea69-4b40a2284e97"
      },
      "execution_count": 70,
      "outputs": [
        {
          "output_type": "display_data",
          "data": {
            "text/plain": [
              "<Figure size 432x288 with 1 Axes>"
            ],
            "image/png": "[encoded data removed]"
          },
          "metadata": {
            "needs_background": "light"
          }
        }
      ]
    },
    {
      "cell_type": "markdown",
      "source": [
        "We can see clearly the model is tend to overfit after 10 epochs and the dimension of the layer we choose is not convincing. So let's retry a model from scratch"
      ],
      "metadata": {
        "id": "mSSDr2GfAPsn"
      }
    },
    {
      "cell_type": "code",
      "source": [
        "#the model definition\n",
        "from keras import models\n",
        "from keras import layers\n",
        "model = models.Sequential()\n",
        "model.add(layers.Dense(64,activation='relu', input_shape=(10000,)))\n",
        "model.add(layers.Dense(64,activation='relu'))\n",
        "model.add(layers.Dense(46,activation='relu'))\n",
        "model.add(layers.Dense(46,activation='relu'))\n",
        "model.add(layers.Dense(46,activation='softmax'))\n",
        "model.summary()"
      ],
      "metadata": {
        "colab": {
          "base_uri": "https://localhost:8080/"
        },
        "id": "Ans6C5nsABCu",
        "outputId": "8c55b425-cdd2-40fa-e353-34fbdb46c69f"
      },
      "execution_count": 71,
      "outputs": [
        {
          "output_type": "stream",
          "name": "stdout",
          "text": [
            "Model: \"sequential_2\"\n",
            "_________________________________________________________________\n",
            " Layer (type)                Output Shape              Param #   \n",
            "=================================================================\n",
            " dense_8 (Dense)             (None, 64)                640064    \n",
            "                                                                 \n",
            " dense_9 (Dense)             (None, 64)                4160      \n",
            "                                                                 \n",
            " dense_10 (Dense)            (None, 46)                2990      \n",
            "                                                                 \n",
            " dense_11 (Dense)            (None, 46)                2162      \n",
            "                                                                 \n",
            " dense_12 (Dense)            (None, 46)                2162      \n",
            "                                                                 \n",
            "=================================================================\n",
            "Total params: 651,538\n",
            "Trainable params: 651,538\n",
            "Non-trainable params: 0\n",
            "_________________________________________________________________\n"
          ]
        }
      ]
    },
    {
      "cell_type": "code",
      "source": [
        "#compile the model\n",
        "model.compile(optimizer='adam', loss='categorical_crossentropy', metrics=['accuracy'])"
      ],
      "metadata": {
        "id": "iUt3lnHCAtMV"
      },
      "execution_count": 72,
      "outputs": []
    },
    {
      "cell_type": "code",
      "source": [
        "#Train the model\n",
        "history = model.fit(partial_x_train, partial_y_train, epochs =10, batch_size=512, validation_data=(x_val,y_val))"
      ],
      "metadata": {
        "colab": {
          "base_uri": "https://localhost:8080/"
        },
        "id": "SLi2ZpS5A4T9",
        "outputId": "2c67b960-b9c7-4dfd-ca05-84242bb4aee4"
      },
      "execution_count": 73,
      "outputs": [
        {
          "output_type": "stream",
          "name": "stdout",
          "text": [
            "Epoch 1/10\n",
            "16/16 [==============================] - 1s 25ms/step - loss: 3.4975 - accuracy: 0.3053 - val_loss: 2.9247 - val_accuracy: 0.3540\n",
            "Epoch 2/10\n",
            "16/16 [==============================] - 0s 15ms/step - loss: 2.3570 - accuracy: 0.4737 - val_loss: 1.8696 - val_accuracy: 0.5330\n",
            "Epoch 3/10\n",
            "16/16 [==============================] - 0s 15ms/step - loss: 1.6541 - accuracy: 0.5863 - val_loss: 1.5221 - val_accuracy: 0.6290\n",
            "Epoch 4/10\n",
            "16/16 [==============================] - 0s 15ms/step - loss: 1.2955 - accuracy: 0.7057 - val_loss: 1.3432 - val_accuracy: 0.7010\n",
            "Epoch 5/10\n",
            "16/16 [==============================] - 0s 15ms/step - loss: 1.0250 - accuracy: 0.7575 - val_loss: 1.2218 - val_accuracy: 0.7320\n",
            "Epoch 6/10\n",
            "16/16 [==============================] - 0s 15ms/step - loss: 0.8059 - accuracy: 0.8096 - val_loss: 1.1681 - val_accuracy: 0.7640\n",
            "Epoch 7/10\n",
            "16/16 [==============================] - 0s 15ms/step - loss: 0.6180 - accuracy: 0.8469 - val_loss: 1.1695 - val_accuracy: 0.7700\n",
            "Epoch 8/10\n",
            "16/16 [==============================] - 0s 15ms/step - loss: 0.4643 - accuracy: 0.8931 - val_loss: 1.1777 - val_accuracy: 0.7900\n",
            "Epoch 9/10\n",
            "16/16 [==============================] - 0s 15ms/step - loss: 0.3562 - accuracy: 0.9212 - val_loss: 1.2113 - val_accuracy: 0.7870\n",
            "Epoch 10/10\n",
            "16/16 [==============================] - 0s 14ms/step - loss: 0.2735 - accuracy: 0.9375 - val_loss: 1.2665 - val_accuracy: 0.7890\n"
          ]
        }
      ]
    },
    {
      "cell_type": "markdown",
      "source": [
        "We can see the validation accuracy is improved and the difference between training and validation accuracy has been decreased."
      ],
      "metadata": {
        "id": "fY2ON-haBG8f"
      }
    },
    {
      "cell_type": "code",
      "source": [
        "#Testing the model\n",
        "results = model.evaluate(x_test,one_hot_test_labels)\n",
        "print(results)"
      ],
      "metadata": {
        "colab": {
          "base_uri": "https://localhost:8080/"
        },
        "id": "ypUseHP2A_z9",
        "outputId": "e2ccd2be-fce9-4596-88a2-f41ea596b752"
      },
      "execution_count": 75,
      "outputs": [
        {
          "output_type": "stream",
          "name": "stdout",
          "text": [
            "71/71 [==============================] - 0s 3ms/step - loss: 1.3097 - accuracy: 0.7622\n",
            "[1.3096661567687988, 0.7622439861297607]\n"
          ]
        }
      ]
    },
    {
      "cell_type": "code",
      "source": [
        "# test the data with random shuffling\n",
        "import copy\n",
        "test_labels_copy = copy.copy(test_labels)\n",
        "np.random.shuffle(test_labels_copy)\n",
        "hits_array = np.array(test_labels) == np.array(test_labels_copy)\n",
        "float(np.sum(hits_array))/len(test_labels)"
      ],
      "metadata": {
        "colab": {
          "base_uri": "https://localhost:8080/"
        },
        "id": "UJ1R35iJBep1",
        "outputId": "90c63ef6-2df5-4c78-ff3f-f5952f9ec2bf"
      },
      "execution_count": 76,
      "outputs": [
        {
          "output_type": "execute_result",
          "data": {
            "text/plain": [
              "0.1856634016028495"
            ]
          },
          "metadata": {},
          "execution_count": 76
        }
      ]
    },
    {
      "cell_type": "code",
      "source": [
        "# Generating predictions for new data\n",
        "predictions = model.predict(x_test)"
      ],
      "metadata": {
        "id": "Yydny4V_CsOs"
      },
      "execution_count": 77,
      "outputs": []
    },
    {
      "cell_type": "code",
      "source": [
        "print(\"Prediction shape: \", predictions[1].shape)\n",
        "print(\"coefficients in this vector sum: \", np.sum(predictions[1]))\n",
        "print(\"predicted class: \", np.argmax(predictions[1]))"
      ],
      "metadata": {
        "colab": {
          "base_uri": "https://localhost:8080/"
        },
        "id": "DV2Q7qBWC5Hb",
        "outputId": "83d6a6b8-4006-4cdb-c540-3d46668064a9"
      },
      "execution_count": 78,
      "outputs": [
        {
          "output_type": "stream",
          "name": "stdout",
          "text": [
            "Prediction shape:  (46,)\n",
            "coefficients in this vector sum:  0.99999994\n",
            "predicted class:  10\n"
          ]
        }
      ]
    },
    {
      "cell_type": "markdown",
      "source": [
        "Let's try a different encoding for labels and try to observe what we need to make changes in the model."
      ],
      "metadata": {
        "id": "2I3fDMegDgyq"
      }
    },
    {
      "cell_type": "code",
      "source": [
        "y_train = np.array(train_labels)\n",
        "y_test = np.array(test_labels)\n",
        "print(len(y_test))\n",
        "print(y_test)"
      ],
      "metadata": {
        "colab": {
          "base_uri": "https://localhost:8080/"
        },
        "id": "W3VD6NePDaQQ",
        "outputId": "aa535541-5239-474d-bce4-10c7d43c6910"
      },
      "execution_count": 91,
      "outputs": [
        {
          "output_type": "stream",
          "name": "stdout",
          "text": [
            "2246\n",
            "[ 3 10  1 ...  3  3 24]\n"
          ]
        }
      ]
    },
    {
      "cell_type": "markdown",
      "source": [
        "The model will be exactly same except the loss function. Instead of categorical crossentropy we need to use sparse categorical crossentropy"
      ],
      "metadata": {
        "id": "1xW69mVqD_zr"
      }
    },
    {
      "cell_type": "code",
      "source": [
        "# Setting aside a validating set\n",
        "#import tensorflow as tf\n",
        "#x_train = tf.squeeze(x_train,axis=1)\n",
        "x_val = x_train[:1000]\n",
        "partial_x_train = x_train[1000:]\n",
        "\n",
        "y_val = y_train[:1000]\n",
        "partial_y_train = y_train[1000:]\n",
        "print(y_train)\n",
        "print(y_val)\n",
        "#print(x_train.shape)"
      ],
      "metadata": {
        "colab": {
          "base_uri": "https://localhost:8080/",
          "height": 399
        },
        "id": "1wTf5iq7HDDv",
        "outputId": "7af31b57-091f-44d0-b5b9-45509500c575"
      },
      "execution_count": 103,
      "outputs": [
        {
          "output_type": "error",
          "ename": "InvalidArgumentError",
          "evalue": "ignored",
          "traceback": [
            "\u001b[0;31m---------------------------------------------------------------------------\u001b[0m",
            "\u001b[0;31mInvalidArgumentError\u001b[0m                      Traceback (most recent call last)",
            "\u001b[0;32m<ipython-input-103-9ba070917ed6>\u001b[0m in \u001b[0;36m<module>\u001b[0;34m()\u001b[0m\n\u001b[1;32m      1\u001b[0m \u001b[0;31m# Setting aside a validating set\u001b[0m\u001b[0;34m\u001b[0m\u001b[0;34m\u001b[0m\u001b[0;34m\u001b[0m\u001b[0m\n\u001b[1;32m      2\u001b[0m \u001b[0;32mimport\u001b[0m \u001b[0mtensorflow\u001b[0m \u001b[0;32mas\u001b[0m \u001b[0mtf\u001b[0m\u001b[0;34m\u001b[0m\u001b[0;34m\u001b[0m\u001b[0m\n\u001b[0;32m----> 3\u001b[0;31m \u001b[0mx_train\u001b[0m \u001b[0;34m=\u001b[0m \u001b[0mtf\u001b[0m\u001b[0;34m.\u001b[0m\u001b[0msqueeze\u001b[0m\u001b[0;34m(\u001b[0m\u001b[0mx_train\u001b[0m\u001b[0;34m,\u001b[0m\u001b[0maxis\u001b[0m\u001b[0;34m=\u001b[0m\u001b[0;36m1\u001b[0m\u001b[0;34m)\u001b[0m\u001b[0;34m\u001b[0m\u001b[0;34m\u001b[0m\u001b[0m\n\u001b[0m\u001b[1;32m      4\u001b[0m \u001b[0mx_val\u001b[0m \u001b[0;34m=\u001b[0m \u001b[0mx_train\u001b[0m\u001b[0;34m[\u001b[0m\u001b[0;34m:\u001b[0m\u001b[0;36m1000\u001b[0m\u001b[0;34m]\u001b[0m\u001b[0;34m\u001b[0m\u001b[0;34m\u001b[0m\u001b[0m\n\u001b[1;32m      5\u001b[0m \u001b[0mpartial_x_train\u001b[0m \u001b[0;34m=\u001b[0m \u001b[0mx_train\u001b[0m\u001b[0;34m[\u001b[0m\u001b[0;36m1000\u001b[0m\u001b[0;34m:\u001b[0m\u001b[0;34m]\u001b[0m\u001b[0;34m\u001b[0m\u001b[0;34m\u001b[0m\u001b[0m\n",
            "\u001b[0;32m/usr/local/lib/python3.7/dist-packages/tensorflow/python/util/traceback_utils.py\u001b[0m in \u001b[0;36merror_handler\u001b[0;34m(*args, **kwargs)\u001b[0m\n\u001b[1;32m    151\u001b[0m     \u001b[0;32mexcept\u001b[0m \u001b[0mException\u001b[0m \u001b[0;32mas\u001b[0m \u001b[0me\u001b[0m\u001b[0;34m:\u001b[0m\u001b[0;34m\u001b[0m\u001b[0;34m\u001b[0m\u001b[0m\n\u001b[1;32m    152\u001b[0m       \u001b[0mfiltered_tb\u001b[0m \u001b[0;34m=\u001b[0m \u001b[0m_process_traceback_frames\u001b[0m\u001b[0;34m(\u001b[0m\u001b[0me\u001b[0m\u001b[0;34m.\u001b[0m\u001b[0m__traceback__\u001b[0m\u001b[0;34m)\u001b[0m\u001b[0;34m\u001b[0m\u001b[0;34m\u001b[0m\u001b[0m\n\u001b[0;32m--> 153\u001b[0;31m       \u001b[0;32mraise\u001b[0m \u001b[0me\u001b[0m\u001b[0;34m.\u001b[0m\u001b[0mwith_traceback\u001b[0m\u001b[0;34m(\u001b[0m\u001b[0mfiltered_tb\u001b[0m\u001b[0;34m)\u001b[0m \u001b[0;32mfrom\u001b[0m \u001b[0;32mNone\u001b[0m\u001b[0;34m\u001b[0m\u001b[0;34m\u001b[0m\u001b[0m\n\u001b[0m\u001b[1;32m    154\u001b[0m     \u001b[0;32mfinally\u001b[0m\u001b[0;34m:\u001b[0m\u001b[0;34m\u001b[0m\u001b[0;34m\u001b[0m\u001b[0m\n\u001b[1;32m    155\u001b[0m       \u001b[0;32mdel\u001b[0m \u001b[0mfiltered_tb\u001b[0m\u001b[0;34m\u001b[0m\u001b[0;34m\u001b[0m\u001b[0m\n",
            "\u001b[0;32m/usr/local/lib/python3.7/dist-packages/tensorflow/python/framework/ops.py\u001b[0m in \u001b[0;36mraise_from_not_ok_status\u001b[0;34m(e, name)\u001b[0m\n\u001b[1;32m   7184\u001b[0m \u001b[0;32mdef\u001b[0m \u001b[0mraise_from_not_ok_status\u001b[0m\u001b[0;34m(\u001b[0m\u001b[0me\u001b[0m\u001b[0;34m,\u001b[0m \u001b[0mname\u001b[0m\u001b[0;34m)\u001b[0m\u001b[0;34m:\u001b[0m\u001b[0;34m\u001b[0m\u001b[0;34m\u001b[0m\u001b[0m\n\u001b[1;32m   7185\u001b[0m   \u001b[0me\u001b[0m\u001b[0;34m.\u001b[0m\u001b[0mmessage\u001b[0m \u001b[0;34m+=\u001b[0m \u001b[0;34m(\u001b[0m\u001b[0;34m\" name: \"\u001b[0m \u001b[0;34m+\u001b[0m \u001b[0mname\u001b[0m \u001b[0;32mif\u001b[0m \u001b[0mname\u001b[0m \u001b[0;32mis\u001b[0m \u001b[0;32mnot\u001b[0m \u001b[0;32mNone\u001b[0m \u001b[0;32melse\u001b[0m \u001b[0;34m\"\"\u001b[0m\u001b[0;34m)\u001b[0m\u001b[0;34m\u001b[0m\u001b[0;34m\u001b[0m\u001b[0m\n\u001b[0;32m-> 7186\u001b[0;31m   \u001b[0;32mraise\u001b[0m \u001b[0mcore\u001b[0m\u001b[0;34m.\u001b[0m\u001b[0m_status_to_exception\u001b[0m\u001b[0;34m(\u001b[0m\u001b[0me\u001b[0m\u001b[0;34m)\u001b[0m \u001b[0;32mfrom\u001b[0m \u001b[0;32mNone\u001b[0m  \u001b[0;31m# pylint: disable=protected-access\u001b[0m\u001b[0;34m\u001b[0m\u001b[0;34m\u001b[0m\u001b[0m\n\u001b[0m\u001b[1;32m   7187\u001b[0m \u001b[0;34m\u001b[0m\u001b[0m\n\u001b[1;32m   7188\u001b[0m \u001b[0;34m\u001b[0m\u001b[0m\n",
            "\u001b[0;31mInvalidArgumentError\u001b[0m: Can not squeeze dim[1], expected a dimension of 1, got 10000 [Op:Squeeze]"
          ]
        }
      ]
    },
    {
      "cell_type": "code",
      "source": [
        "# Model Definition\n",
        "from keras import models\n",
        "from keras import layers\n",
        "\n",
        "model = models.Sequential()\n",
        "model.add(layers.Dense(46, activation='relu', input_shape=(10000,)))\n",
        "model.add(layers.Dense(46, activation='relu'))\n",
        "model.add(layers.Dense(46, activation='relu'))\n",
        "model.add(layers.Dense(46, activation='sigmoid'))\n",
        "model.summary()\n",
        "#compile the model\n",
        "model.compile(optimizer='rmsprop', loss='sparse_categorical_crossentropy', metrics=['acc'])"
      ],
      "metadata": {
        "colab": {
          "base_uri": "https://localhost:8080/"
        },
        "id": "pTrg_zMHD_GX",
        "outputId": "6fc78980-f8da-4e4c-a509-3442754263d9"
      },
      "execution_count": 104,
      "outputs": [
        {
          "output_type": "stream",
          "name": "stdout",
          "text": [
            "Model: \"sequential_3\"\n",
            "_________________________________________________________________\n",
            " Layer (type)                Output Shape              Param #   \n",
            "=================================================================\n",
            " dense_13 (Dense)            (None, 46)                460046    \n",
            "                                                                 \n",
            " dense_14 (Dense)            (None, 46)                2162      \n",
            "                                                                 \n",
            " dense_15 (Dense)            (None, 46)                2162      \n",
            "                                                                 \n",
            " dense_16 (Dense)            (None, 46)                2162      \n",
            "                                                                 \n",
            "=================================================================\n",
            "Total params: 466,532\n",
            "Trainable params: 466,532\n",
            "Non-trainable params: 0\n",
            "_________________________________________________________________\n"
          ]
        }
      ]
    },
    {
      "cell_type": "code",
      "source": [
        "#Train the model\n",
        "model.summary()\n",
        "history = model.fit(x_train, y_train, epochs =10, batch_size=512, validation_data=(x_val,y_val))"
      ],
      "metadata": {
        "colab": {
          "base_uri": "https://localhost:8080/"
        },
        "id": "Rtyyq2ZvEUF8",
        "outputId": "5bc9c4b8-6807-42fb-868f-ef8f55b2558a"
      },
      "execution_count": 105,
      "outputs": [
        {
          "output_type": "stream",
          "name": "stdout",
          "text": [
            "Model: \"sequential_3\"\n",
            "_________________________________________________________________\n",
            " Layer (type)                Output Shape              Param #   \n",
            "=================================================================\n",
            " dense_13 (Dense)            (None, 46)                460046    \n",
            "                                                                 \n",
            " dense_14 (Dense)            (None, 46)                2162      \n",
            "                                                                 \n",
            " dense_15 (Dense)            (None, 46)                2162      \n",
            "                                                                 \n",
            " dense_16 (Dense)            (None, 46)                2162      \n",
            "                                                                 \n",
            "=================================================================\n",
            "Total params: 466,532\n",
            "Trainable params: 466,532\n",
            "Non-trainable params: 0\n",
            "_________________________________________________________________\n",
            "Epoch 1/10\n",
            "18/18 [==============================] - 1s 24ms/step - loss: 2.6435 - acc: 0.4893 - val_loss: 1.6743 - val_acc: 0.6550\n",
            "Epoch 2/10\n",
            "18/18 [==============================] - 0s 14ms/step - loss: 1.4918 - acc: 0.6844 - val_loss: 1.2295 - val_acc: 0.7170\n",
            "Epoch 3/10\n",
            "18/18 [==============================] - 0s 14ms/step - loss: 1.1634 - acc: 0.7377 - val_loss: 0.9568 - val_acc: 0.7800\n",
            "Epoch 4/10\n",
            "18/18 [==============================] - 0s 15ms/step - loss: 0.9523 - acc: 0.7927 - val_loss: 0.7675 - val_acc: 0.8370\n",
            "Epoch 5/10\n",
            "18/18 [==============================] - 0s 14ms/step - loss: 0.7759 - acc: 0.8310 - val_loss: 0.6157 - val_acc: 0.8800\n",
            "Epoch 6/10\n",
            "18/18 [==============================] - 0s 14ms/step - loss: 0.6373 - acc: 0.8618 - val_loss: 0.5037 - val_acc: 0.8980\n",
            "Epoch 7/10\n",
            "18/18 [==============================] - 0s 14ms/step - loss: 0.5371 - acc: 0.8840 - val_loss: 0.4115 - val_acc: 0.9250\n",
            "Epoch 8/10\n",
            "18/18 [==============================] - 0s 15ms/step - loss: 0.4368 - acc: 0.9051 - val_loss: 0.3388 - val_acc: 0.9310\n",
            "Epoch 9/10\n",
            "18/18 [==============================] - 0s 14ms/step - loss: 0.3760 - acc: 0.9167 - val_loss: 0.2717 - val_acc: 0.9430\n",
            "Epoch 10/10\n",
            "18/18 [==============================] - 0s 14ms/step - loss: 0.3171 - acc: 0.9273 - val_loss: 0.2326 - val_acc: 0.9490\n"
          ]
        }
      ]
    },
    {
      "cell_type": "markdown",
      "source": [
        "The importance of having sufficiently large intermediate layers"
      ],
      "metadata": {
        "id": "mqd7Fkd8Jr-Y"
      }
    },
    {
      "cell_type": "code",
      "source": [
        "# Model Definition\n",
        "from keras import models\n",
        "from keras import layers\n",
        "\n",
        "model = models.Sequential()\n",
        "model.add(layers.Dense(46, activation='relu', input_shape=(10000,)))\n",
        "model.add(layers.Dense(4, activation='relu'))\n",
        "model.add(layers.Dense(46, activation='relu'))\n",
        "model.add(layers.Dense(46, activation='sigmoid'))\n",
        "model.summary()\n",
        "#compile the model\n",
        "model.compile(optimizer='rmsprop', loss='sparse_categorical_crossentropy', metrics=['accuracy'])\n",
        "history = model.fit(x_train, y_train, epochs =10, batch_size=512, validation_data=(x_val,y_val))"
      ],
      "metadata": {
        "colab": {
          "base_uri": "https://localhost:8080/"
        },
        "id": "AtoxP_vfEYVK",
        "outputId": "de6985bd-481d-47be-fa5b-99d21023467a"
      },
      "execution_count": 107,
      "outputs": [
        {
          "output_type": "stream",
          "name": "stdout",
          "text": [
            "Model: \"sequential_5\"\n",
            "_________________________________________________________________\n",
            " Layer (type)                Output Shape              Param #   \n",
            "=================================================================\n",
            " dense_21 (Dense)            (None, 46)                460046    \n",
            "                                                                 \n",
            " dense_22 (Dense)            (None, 4)                 188       \n",
            "                                                                 \n",
            " dense_23 (Dense)            (None, 46)                230       \n",
            "                                                                 \n",
            " dense_24 (Dense)            (None, 46)                2162      \n",
            "                                                                 \n",
            "=================================================================\n",
            "Total params: 462,626\n",
            "Trainable params: 462,626\n",
            "Non-trainable params: 0\n",
            "_________________________________________________________________\n",
            "Epoch 1/10\n",
            "18/18 [==============================] - 1s 23ms/step - loss: 3.0888 - accuracy: 0.4767 - val_loss: 2.2225 - val_accuracy: 0.5490\n",
            "Epoch 2/10\n",
            "18/18 [==============================] - 0s 15ms/step - loss: 1.9372 - accuracy: 0.5623 - val_loss: 1.6499 - val_accuracy: 0.5980\n",
            "Epoch 3/10\n",
            "18/18 [==============================] - 0s 14ms/step - loss: 1.5858 - accuracy: 0.6093 - val_loss: 1.4345 - val_accuracy: 0.6330\n",
            "Epoch 4/10\n",
            "18/18 [==============================] - 0s 14ms/step - loss: 1.4127 - accuracy: 0.6499 - val_loss: 1.2801 - val_accuracy: 0.6690\n",
            "Epoch 5/10\n",
            "18/18 [==============================] - 0s 14ms/step - loss: 1.2760 - accuracy: 0.6730 - val_loss: 1.1523 - val_accuracy: 0.7020\n",
            "Epoch 6/10\n",
            "18/18 [==============================] - 0s 14ms/step - loss: 1.1592 - accuracy: 0.7165 - val_loss: 1.0522 - val_accuracy: 0.7260\n",
            "Epoch 7/10\n",
            "18/18 [==============================] - 0s 14ms/step - loss: 1.0616 - accuracy: 0.7272 - val_loss: 0.9744 - val_accuracy: 0.7400\n",
            "Epoch 8/10\n",
            "18/18 [==============================] - 0s 14ms/step - loss: 0.9876 - accuracy: 0.7404 - val_loss: 0.9007 - val_accuracy: 0.7600\n",
            "Epoch 9/10\n",
            "18/18 [==============================] - 0s 14ms/step - loss: 0.9154 - accuracy: 0.7565 - val_loss: 0.8445 - val_accuracy: 0.7700\n",
            "Epoch 10/10\n",
            "18/18 [==============================] - 0s 14ms/step - loss: 0.8561 - accuracy: 0.7671 - val_loss: 0.7812 - val_accuracy: 0.7860\n"
          ]
        }
      ]
    },
    {
      "cell_type": "markdown",
      "source": [
        "We can clearly observe a drop in accuracy as by decreasing the no. of nodes in the hidden layer, we have lost a lof of information."
      ],
      "metadata": {
        "id": "7E2y6khzKP31"
      }
    },
    {
      "cell_type": "code",
      "source": [
        ""
      ],
      "metadata": {
        "id": "FkWZIvDFKAtj"
      },
      "execution_count": null,
      "outputs": []
    }
  ]
}