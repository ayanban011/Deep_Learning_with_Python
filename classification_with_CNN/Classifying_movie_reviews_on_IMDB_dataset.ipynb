{
  "nbformat": 4,
  "nbformat_minor": 0,
  "metadata": {
    "colab": {
      "name": "Classifying movie reviews on IMDB dataset.ipynb",
      "provenance": []
    },
    "kernelspec": {
      "name": "python3",
      "display_name": "Python 3"
    },
    "language_info": {
      "name": "python"
    }
  },
  "cells": [
    {
      "cell_type": "markdown",
      "source": [
        "# **A binary classification example with neural network**\n",
        "\n",
        "Here, we are going to classify movie reviews as positive or negative based on the text content of the reviews."
      ],
      "metadata": {
        "id": "TT4BMaDzEwoR"
      }
    },
    {
      "cell_type": "markdown",
      "source": [
        "## ***The IMDB dataset***\n",
        "\n",
        "*It is a set of 50,000 highly polarized reviews from the **Internet Movie Database**. It has been splited into 25,000 reviews for training and 25,000 reviews for testing. Each set consisting 50% negative and 50% of positive reviews.*\n",
        "\n",
        "**Note:** The IMDB dataset also comes packaged with keras (i.e. already preprocessed). Here, the reviews (sequence of words) have been turned into the sequence of integers, where each integer stands for a specific word in a dictionary."
      ],
      "metadata": {
        "id": "DTMjA-85FTsk"
      }
    },
    {
      "cell_type": "code",
      "execution_count": 1,
      "metadata": {
        "colab": {
          "base_uri": "https://localhost:8080/"
        },
        "id": "7aJ0h_5REaLq",
        "outputId": "bbfeb0f1-82d0-47b2-a1f3-98224bd070ec"
      },
      "outputs": [
        {
          "output_type": "stream",
          "name": "stdout",
          "text": [
            "Let's build the IMDB dataset with taking the help of keras\n"
          ]
        }
      ],
      "source": [
        "print(\"Let's build the IMDB dataset with taking the help of keras\")"
      ]
    },
    {
      "cell_type": "code",
      "source": [
        "# loading the IMDB dataset with Keras\n",
        "from keras.datasets import imdb\n",
        "(train_data, train_labels), (test_data, test_labels) = imdb.load_data(num_words = 10000) # num_words refers top 20,000\n",
        "# most frequently occuring words\n"
      ],
      "metadata": {
        "id": "Xnh4QgAeLYHi"
      },
      "execution_count": 2,
      "outputs": []
    },
    {
      "cell_type": "markdown",
      "source": [
        "*Here the variables **train_data** and **test_data** are the list of reviews; each reviews is a list of word indices (encoding a sequence of words). **train_labels** and **test_labels**  are list of 0s and 1s, where 0 stands for negative and 1 for positive.*"
      ],
      "metadata": {
        "id": "tinKiyzJd-hE"
      }
    },
    {
      "cell_type": "code",
      "source": [
        "train_data[0]"
      ],
      "metadata": {
        "colab": {
          "base_uri": "https://localhost:8080/"
        },
        "id": "TssZdWmYel8_",
        "outputId": "0c76cbb9-5d9d-4826-b0f3-7e2bd001e04c"
      },
      "execution_count": 3,
      "outputs": [
        {
          "output_type": "execute_result",
          "data": {
            "text/plain": [
              "[1,\n",
              " 14,\n",
              " 22,\n",
              " 16,\n",
              " 43,\n",
              " 530,\n",
              " 973,\n",
              " 1622,\n",
              " 1385,\n",
              " 65,\n",
              " 458,\n",
              " 4468,\n",
              " 66,\n",
              " 3941,\n",
              " 4,\n",
              " 173,\n",
              " 36,\n",
              " 256,\n",
              " 5,\n",
              " 25,\n",
              " 100,\n",
              " 43,\n",
              " 838,\n",
              " 112,\n",
              " 50,\n",
              " 670,\n",
              " 2,\n",
              " 9,\n",
              " 35,\n",
              " 480,\n",
              " 284,\n",
              " 5,\n",
              " 150,\n",
              " 4,\n",
              " 172,\n",
              " 112,\n",
              " 167,\n",
              " 2,\n",
              " 336,\n",
              " 385,\n",
              " 39,\n",
              " 4,\n",
              " 172,\n",
              " 4536,\n",
              " 1111,\n",
              " 17,\n",
              " 546,\n",
              " 38,\n",
              " 13,\n",
              " 447,\n",
              " 4,\n",
              " 192,\n",
              " 50,\n",
              " 16,\n",
              " 6,\n",
              " 147,\n",
              " 2025,\n",
              " 19,\n",
              " 14,\n",
              " 22,\n",
              " 4,\n",
              " 1920,\n",
              " 4613,\n",
              " 469,\n",
              " 4,\n",
              " 22,\n",
              " 71,\n",
              " 87,\n",
              " 12,\n",
              " 16,\n",
              " 43,\n",
              " 530,\n",
              " 38,\n",
              " 76,\n",
              " 15,\n",
              " 13,\n",
              " 1247,\n",
              " 4,\n",
              " 22,\n",
              " 17,\n",
              " 515,\n",
              " 17,\n",
              " 12,\n",
              " 16,\n",
              " 626,\n",
              " 18,\n",
              " 2,\n",
              " 5,\n",
              " 62,\n",
              " 386,\n",
              " 12,\n",
              " 8,\n",
              " 316,\n",
              " 8,\n",
              " 106,\n",
              " 5,\n",
              " 4,\n",
              " 2223,\n",
              " 5244,\n",
              " 16,\n",
              " 480,\n",
              " 66,\n",
              " 3785,\n",
              " 33,\n",
              " 4,\n",
              " 130,\n",
              " 12,\n",
              " 16,\n",
              " 38,\n",
              " 619,\n",
              " 5,\n",
              " 25,\n",
              " 124,\n",
              " 51,\n",
              " 36,\n",
              " 135,\n",
              " 48,\n",
              " 25,\n",
              " 1415,\n",
              " 33,\n",
              " 6,\n",
              " 22,\n",
              " 12,\n",
              " 215,\n",
              " 28,\n",
              " 77,\n",
              " 52,\n",
              " 5,\n",
              " 14,\n",
              " 407,\n",
              " 16,\n",
              " 82,\n",
              " 2,\n",
              " 8,\n",
              " 4,\n",
              " 107,\n",
              " 117,\n",
              " 5952,\n",
              " 15,\n",
              " 256,\n",
              " 4,\n",
              " 2,\n",
              " 7,\n",
              " 3766,\n",
              " 5,\n",
              " 723,\n",
              " 36,\n",
              " 71,\n",
              " 43,\n",
              " 530,\n",
              " 476,\n",
              " 26,\n",
              " 400,\n",
              " 317,\n",
              " 46,\n",
              " 7,\n",
              " 4,\n",
              " 2,\n",
              " 1029,\n",
              " 13,\n",
              " 104,\n",
              " 88,\n",
              " 4,\n",
              " 381,\n",
              " 15,\n",
              " 297,\n",
              " 98,\n",
              " 32,\n",
              " 2071,\n",
              " 56,\n",
              " 26,\n",
              " 141,\n",
              " 6,\n",
              " 194,\n",
              " 7486,\n",
              " 18,\n",
              " 4,\n",
              " 226,\n",
              " 22,\n",
              " 21,\n",
              " 134,\n",
              " 476,\n",
              " 26,\n",
              " 480,\n",
              " 5,\n",
              " 144,\n",
              " 30,\n",
              " 5535,\n",
              " 18,\n",
              " 51,\n",
              " 36,\n",
              " 28,\n",
              " 224,\n",
              " 92,\n",
              " 25,\n",
              " 104,\n",
              " 4,\n",
              " 226,\n",
              " 65,\n",
              " 16,\n",
              " 38,\n",
              " 1334,\n",
              " 88,\n",
              " 12,\n",
              " 16,\n",
              " 283,\n",
              " 5,\n",
              " 16,\n",
              " 4472,\n",
              " 113,\n",
              " 103,\n",
              " 32,\n",
              " 15,\n",
              " 16,\n",
              " 5345,\n",
              " 19,\n",
              " 178,\n",
              " 32]"
            ]
          },
          "metadata": {},
          "execution_count": 3
        }
      ]
    },
    {
      "cell_type": "code",
      "source": [
        "train_labels[0]"
      ],
      "metadata": {
        "colab": {
          "base_uri": "https://localhost:8080/"
        },
        "id": "oLgSvjfyep3e",
        "outputId": "f2c8ca13-8931-4721-a08c-a3efd541e6d8"
      },
      "execution_count": 4,
      "outputs": [
        {
          "output_type": "execute_result",
          "data": {
            "text/plain": [
              "1"
            ]
          },
          "metadata": {},
          "execution_count": 4
        }
      ]
    },
    {
      "cell_type": "code",
      "source": [
        "max([max(sequence) for sequence in train_data]) # as we are restricting to top 20,000 most frequent words."
      ],
      "metadata": {
        "colab": {
          "base_uri": "https://localhost:8080/"
        },
        "id": "u3a2HG6tewHd",
        "outputId": "94150364-8729-4f40-d749-4fee62a09018"
      },
      "execution_count": 5,
      "outputs": [
        {
          "output_type": "execute_result",
          "data": {
            "text/plain": [
              "9999"
            ]
          },
          "metadata": {},
          "execution_count": 5
        }
      ]
    },
    {
      "cell_type": "code",
      "source": [
        "#Lets decode one of these reviews back to English words:\n",
        "word_index = imdb.get_word_index() #word index is a dictionary mapping words to an  integer  index.\n",
        "reverse_word_index = dict([(value,key) for (key,value) in word_index.items()]) #Reverses it, mapping integer indices to words\n",
        "decoded_review = ' '.join([reverse_word_index.get(i-3,'?') for i in train_data[0]]) #the indices are offset by 3 as  0,1,2 are reserved for \"padding\",\n",
        "#'start of sequence' and 'unknown' respectively\n",
        "print(decoded_review)"
      ],
      "metadata": {
        "colab": {
          "base_uri": "https://localhost:8080/"
        },
        "id": "MChyCaGjfAhb",
        "outputId": "ce5c9b14-2386-45d4-bf10-8ab0d75dca22"
      },
      "execution_count": 6,
      "outputs": [
        {
          "output_type": "stream",
          "name": "stdout",
          "text": [
            "? this film was just brilliant casting location scenery story direction everyone's really suited the part they played and you could just imagine being there robert ? is an amazing actor and now the same being director ? father came from the same scottish island as myself so i loved the fact there was a real connection with this film the witty remarks throughout the film were great it was just brilliant so much that i bought the film as soon as it was released for ? and would recommend it to everyone to watch and the fly fishing was amazing really cried at the end it was so sad and you know what they say if you cry at a film it must have been good and this definitely was also ? to the two little boy's that played the ? of norman and paul they were just brilliant children are often left out of the ? list i think because the stars that play them all grown up are such a big profile for the whole film but these children are amazing and should be praised for what they have done don't you think the whole story was so lovely because it was true and was someone's life after all that was shared with us all\n"
          ]
        }
      ]
    },
    {
      "cell_type": "markdown",
      "source": [
        "## **Preparing the data**"
      ],
      "metadata": {
        "id": "5SJ6oUyBg53B"
      }
    },
    {
      "cell_type": "markdown",
      "source": [
        "There are two ways to feed the data into a neural network:\n",
        "\n",
        "1. Convert all the integers to the tensors having same length by padding of zeros and define the first layer (i.e. the embedding layer) appropiately to tackle the shape of the tensor.\n",
        "\n",
        "2. One hot Encoding: it will turns your data into a vector of 0s and 1s so a simple Dense layer can tackle your data.\n",
        "\n",
        "We will perform one hot encoding to vectorize the data."
      ],
      "metadata": {
        "id": "qiAkTvBjhXVR"
      }
    },
    {
      "cell_type": "code",
      "source": [
        "#encoding the integer sequences into a binary matrix\n",
        "import numpy as np\n",
        "def vectorize_sequences(sequences, dimension=10000):\n",
        "  results = np.zeros((len(sequences), dimension)) #creates an all-zero matrix of shape = length of the sequences\n",
        "  for i,sequence in enumerate(sequences):\n",
        "    results[i,sequence] = 1 #set specific indices of results[i] to 1s\n",
        "  return results"
      ],
      "metadata": {
        "id": "fBhIQcc3gtLz"
      },
      "execution_count": 7,
      "outputs": []
    },
    {
      "cell_type": "code",
      "source": [
        "#vectorized training and testing data\n",
        "x_train = vectorize_sequences(train_data)\n",
        "x_test = vectorize_sequences(test_data)\n",
        "print(x_train[0])\n",
        "print()\n",
        "print(x_test[0])"
      ],
      "metadata": {
        "colab": {
          "base_uri": "https://localhost:8080/"
        },
        "id": "EQ200E_PjUaa",
        "outputId": "9939aedd-764d-4dff-f9b5-5a9549617ac9"
      },
      "execution_count": 8,
      "outputs": [
        {
          "output_type": "stream",
          "name": "stdout",
          "text": [
            "[0. 1. 1. ... 0. 0. 0.]\n",
            "\n",
            "[0. 1. 1. ... 0. 0. 0.]\n"
          ]
        }
      ]
    },
    {
      "cell_type": "code",
      "source": [
        "#vectorizing the labels\n",
        "y_train = np.asarray(train_labels).astype('float32')\n",
        "y_test = np.asarray(test_labels).astype('float32')\n",
        "print(\"train_labels\", y_train[0])\n",
        "print(\"test_labels\", y_test[0])"
      ],
      "metadata": {
        "colab": {
          "base_uri": "https://localhost:8080/"
        },
        "id": "zM38JLBpjqnC",
        "outputId": "cb512332-4902-4e4c-c8be-6719b401f3d4"
      },
      "execution_count": 9,
      "outputs": [
        {
          "output_type": "stream",
          "name": "stdout",
          "text": [
            "train_labels 1.0\n",
            "test_labels 0.0\n"
          ]
        }
      ]
    },
    {
      "cell_type": "markdown",
      "source": [
        "*Now the data is ready to be fed into a neural network.*"
      ],
      "metadata": {
        "id": "NLHkl05ukqeM"
      }
    },
    {
      "cell_type": "markdown",
      "source": [
        "## **Building the neural network**"
      ],
      "metadata": {
        "id": "tFfr_X2Kk1mP"
      }
    },
    {
      "cell_type": "markdown",
      "source": [
        "*As the input data is a vectors and the labels are scalars; a simple stack of fully connected **Dense Layers** with **ReLu activations** will perform the work successfully.*\n",
        "\n",
        "*Now the following things need to be finalized:*\n",
        "\n",
        "\n",
        "*   *How many layers to use.*\n",
        "*   *How many hidden units to choose for each layer.*\n",
        "\n",
        "*Here, we are using two intermediate layers with 32 hidden units respectively (ReLu activations), and a third output layer for scalar prediction with sigmoid activation.*\n",
        "\n"
      ],
      "metadata": {
        "id": "FlxenzFYm4H3"
      }
    },
    {
      "cell_type": "code",
      "source": [
        "#the model definition\n",
        "from keras import models\n",
        "from keras import layers\n",
        "model = models.Sequential()\n",
        "model.add(layers.Dense(32,activation='relu', input_shape=(10000,)))\n",
        "model.add(layers.Dense(32,activation='relu'))\n",
        "model.add(layers.Dense(16,activation='relu'))\n",
        "model.add(layers.Dense(16,activation='relu'))\n",
        "model.add(layers.Dense(1,activation='sigmoid'))\n",
        "model.summary()"
      ],
      "metadata": {
        "colab": {
          "base_uri": "https://localhost:8080/"
        },
        "id": "bvPtMFwCknlk",
        "outputId": "ff963669-4e98-436b-8c58-bb4f35e6b491"
      },
      "execution_count": 10,
      "outputs": [
        {
          "output_type": "stream",
          "name": "stdout",
          "text": [
            "Model: \"sequential\"\n",
            "_________________________________________________________________\n",
            " Layer (type)                Output Shape              Param #   \n",
            "=================================================================\n",
            " dense (Dense)               (None, 32)                320032    \n",
            "                                                                 \n",
            " dense_1 (Dense)             (None, 32)                1056      \n",
            "                                                                 \n",
            " dense_2 (Dense)             (None, 16)                528       \n",
            "                                                                 \n",
            " dense_3 (Dense)             (None, 16)                272       \n",
            "                                                                 \n",
            " dense_4 (Dense)             (None, 1)                 17        \n",
            "                                                                 \n",
            "=================================================================\n",
            "Total params: 321,905\n",
            "Trainable params: 321,905\n",
            "Non-trainable params: 0\n",
            "_________________________________________________________________\n"
          ]
        }
      ]
    },
    {
      "cell_type": "code",
      "source": [
        "#compile the model by configuring the optimizer with custom losses and metrics\n",
        "from tensorflow import keras\n",
        "from keras import optimizers\n",
        "from keras import losses\n",
        "from keras import metrics\n",
        "\n",
        "model.compile(optimizer=keras.optimizers.RMSprop(lr=0.0001), loss=losses.binary_crossentropy, metrics=[metrics.binary_accuracy])"
      ],
      "metadata": {
        "colab": {
          "base_uri": "https://localhost:8080/"
        },
        "id": "aZuktei2pNq1",
        "outputId": "22b2cc5f-769c-4e58-e3bb-f4376a194df6"
      },
      "execution_count": 11,
      "outputs": [
        {
          "output_type": "stream",
          "name": "stderr",
          "text": [
            "/usr/local/lib/python3.7/dist-packages/keras/optimizer_v2/rmsprop.py:130: UserWarning: The `lr` argument is deprecated, use `learning_rate` instead.\n",
            "  super(RMSprop, self).__init__(name, **kwargs)\n"
          ]
        }
      ]
    },
    {
      "cell_type": "markdown",
      "source": [
        "## ***Validating the approach***"
      ],
      "metadata": {
        "id": "T04OybK9sNnO"
      }
    },
    {
      "cell_type": "code",
      "source": [
        "#Setting aside a validation set\n",
        "x_val = x_train[:10000]\n",
        "partial_x_train = x_train[10000:]\n",
        "y_val = y_train[:10000]\n",
        "partial_y_train = y_train[10000:]\n",
        "print(len(x_val),len(partial_x_train),len(y_val),len(partial_y_train))"
      ],
      "metadata": {
        "id": "Itx12lxArq3e",
        "colab": {
          "base_uri": "https://localhost:8080/"
        },
        "outputId": "ae31195f-72d5-4132-a25c-dff734bd8cc8"
      },
      "execution_count": 12,
      "outputs": [
        {
          "output_type": "stream",
          "name": "stdout",
          "text": [
            "10000 15000 10000 15000\n"
          ]
        }
      ]
    },
    {
      "cell_type": "code",
      "source": [
        "#Training the model\n",
        "history = model.fit(partial_x_train,partial_y_train,epochs=25,batch_size=512,validation_data=(x_val,y_val))"
      ],
      "metadata": {
        "colab": {
          "base_uri": "https://localhost:8080/"
        },
        "id": "SIYffIKasvpt",
        "outputId": "b7008abb-2853-4dc9-e5e0-ddcbbf4ec1c4"
      },
      "execution_count": 13,
      "outputs": [
        {
          "output_type": "stream",
          "name": "stdout",
          "text": [
            "Epoch 1/25\n",
            "30/30 [==============================] - 3s 52ms/step - loss: 0.6848 - binary_accuracy: 0.5468 - val_loss: 0.6728 - val_binary_accuracy: 0.5986\n",
            "Epoch 2/25\n",
            "30/30 [==============================] - 1s 41ms/step - loss: 0.6486 - binary_accuracy: 0.6789 - val_loss: 0.6294 - val_binary_accuracy: 0.7118\n",
            "Epoch 3/25\n",
            "30/30 [==============================] - 1s 41ms/step - loss: 0.5946 - binary_accuracy: 0.7801 - val_loss: 0.5775 - val_binary_accuracy: 0.7809\n",
            "Epoch 4/25\n",
            "30/30 [==============================] - 1s 41ms/step - loss: 0.5362 - binary_accuracy: 0.8347 - val_loss: 0.5269 - val_binary_accuracy: 0.8180\n",
            "Epoch 5/25\n",
            "30/30 [==============================] - 1s 41ms/step - loss: 0.4812 - binary_accuracy: 0.8659 - val_loss: 0.4794 - val_binary_accuracy: 0.8520\n",
            "Epoch 6/25\n",
            "30/30 [==============================] - 1s 41ms/step - loss: 0.4301 - binary_accuracy: 0.8874 - val_loss: 0.4369 - val_binary_accuracy: 0.8640\n",
            "Epoch 7/25\n",
            "30/30 [==============================] - 1s 42ms/step - loss: 0.3833 - binary_accuracy: 0.8991 - val_loss: 0.4004 - val_binary_accuracy: 0.8693\n",
            "Epoch 8/25\n",
            "30/30 [==============================] - 1s 41ms/step - loss: 0.3413 - binary_accuracy: 0.9109 - val_loss: 0.3675 - val_binary_accuracy: 0.8779\n",
            "Epoch 9/25\n",
            "30/30 [==============================] - 1s 40ms/step - loss: 0.3035 - binary_accuracy: 0.9189 - val_loss: 0.3400 - val_binary_accuracy: 0.8847\n",
            "Epoch 10/25\n",
            "30/30 [==============================] - 1s 40ms/step - loss: 0.2718 - binary_accuracy: 0.9253 - val_loss: 0.3210 - val_binary_accuracy: 0.8845\n",
            "Epoch 11/25\n",
            "30/30 [==============================] - 1s 40ms/step - loss: 0.2451 - binary_accuracy: 0.9319 - val_loss: 0.3047 - val_binary_accuracy: 0.8871\n",
            "Epoch 12/25\n",
            "30/30 [==============================] - 1s 41ms/step - loss: 0.2221 - binary_accuracy: 0.9376 - val_loss: 0.2967 - val_binary_accuracy: 0.8892\n",
            "Epoch 13/25\n",
            "30/30 [==============================] - 1s 40ms/step - loss: 0.2024 - binary_accuracy: 0.9422 - val_loss: 0.2851 - val_binary_accuracy: 0.8919\n",
            "Epoch 14/25\n",
            "30/30 [==============================] - 1s 40ms/step - loss: 0.1846 - binary_accuracy: 0.9469 - val_loss: 0.2802 - val_binary_accuracy: 0.8916\n",
            "Epoch 15/25\n",
            "30/30 [==============================] - 1s 41ms/step - loss: 0.1689 - binary_accuracy: 0.9507 - val_loss: 0.2763 - val_binary_accuracy: 0.8907\n",
            "Epoch 16/25\n",
            "30/30 [==============================] - 1s 42ms/step - loss: 0.1552 - binary_accuracy: 0.9549 - val_loss: 0.2757 - val_binary_accuracy: 0.8899\n",
            "Epoch 17/25\n",
            "30/30 [==============================] - 1s 40ms/step - loss: 0.1429 - binary_accuracy: 0.9578 - val_loss: 0.2781 - val_binary_accuracy: 0.8912\n",
            "Epoch 18/25\n",
            "30/30 [==============================] - 1s 40ms/step - loss: 0.1320 - binary_accuracy: 0.9612 - val_loss: 0.2795 - val_binary_accuracy: 0.8904\n",
            "Epoch 19/25\n",
            "30/30 [==============================] - 1s 42ms/step - loss: 0.1219 - binary_accuracy: 0.9657 - val_loss: 0.2805 - val_binary_accuracy: 0.8900\n",
            "Epoch 20/25\n",
            "30/30 [==============================] - 1s 41ms/step - loss: 0.1127 - binary_accuracy: 0.9690 - val_loss: 0.2860 - val_binary_accuracy: 0.8878\n",
            "Epoch 21/25\n",
            "30/30 [==============================] - 1s 41ms/step - loss: 0.1040 - binary_accuracy: 0.9715 - val_loss: 0.2912 - val_binary_accuracy: 0.8855\n",
            "Epoch 22/25\n",
            "30/30 [==============================] - 1s 40ms/step - loss: 0.0954 - binary_accuracy: 0.9749 - val_loss: 0.2969 - val_binary_accuracy: 0.8878\n",
            "Epoch 23/25\n",
            "30/30 [==============================] - 1s 40ms/step - loss: 0.0878 - binary_accuracy: 0.9775 - val_loss: 0.3043 - val_binary_accuracy: 0.8864\n",
            "Epoch 24/25\n",
            "30/30 [==============================] - 1s 41ms/step - loss: 0.0811 - binary_accuracy: 0.9789 - val_loss: 0.3120 - val_binary_accuracy: 0.8820\n",
            "Epoch 25/25\n",
            "30/30 [==============================] - 1s 41ms/step - loss: 0.0744 - binary_accuracy: 0.9817 - val_loss: 0.3191 - val_binary_accuracy: 0.8842\n"
          ]
        }
      ]
    },
    {
      "cell_type": "code",
      "source": [
        "#let's take a look what the history content\n",
        "history_dict = history.history\n",
        "history_dict.keys()"
      ],
      "metadata": {
        "colab": {
          "base_uri": "https://localhost:8080/"
        },
        "id": "GzRuJJfetUWD",
        "outputId": "cb4212ff-271d-4cf1-a8d2-498688ab898a"
      },
      "execution_count": 14,
      "outputs": [
        {
          "output_type": "execute_result",
          "data": {
            "text/plain": [
              "dict_keys(['loss', 'binary_accuracy', 'val_loss', 'val_binary_accuracy'])"
            ]
          },
          "metadata": {},
          "execution_count": 14
        }
      ]
    },
    {
      "cell_type": "code",
      "source": [
        "#ploting the training and validation loss\n",
        "import matplotlib.pyplot as plt\n",
        "loss_values = history_dict['loss']\n",
        "val_loss_values = history_dict['val_loss']\n",
        "epochs = range(1,26)\n",
        "plt.plot(epochs,loss_values,'bo',label='Training loss')\n",
        "plt.plot(epochs,val_loss_values,'b',label='Validation loss')\n",
        "plt.title('Training and validation loss')\n",
        "plt.xlabel('Epochs')\n",
        "plt.ylabel('Loss')\n",
        "plt.legend()\n",
        "plt.show()"
      ],
      "metadata": {
        "colab": {
          "base_uri": "https://localhost:8080/",
          "height": 295
        },
        "id": "n-vMBUlquvdt",
        "outputId": "0a19b5f7-5523-402d-8d20-cf065da0d1ff"
      },
      "execution_count": 15,
      "outputs": [
        {
          "output_type": "display_data",
          "data": {
            "text/plain": [
              "<Figure size 432x288 with 1 Axes>"
            ],
            "image/png": "[encoded data removed]"
          },
          "metadata": {
            "needs_background": "light"
          }
        }
      ]
    },
    {
      "cell_type": "code",
      "source": [
        "#ploting the training and validation accuracy\n",
        "import matplotlib.pyplot as plt\n",
        "loss_values = history_dict['binary_accuracy']\n",
        "val_loss_values = history_dict['val_binary_accuracy']\n",
        "epochs = range(1,26)\n",
        "plt.plot(epochs,loss_values,'bo',label='Training Accuracy')\n",
        "plt.plot(epochs,val_loss_values,'b',label='Validation Accuracy')\n",
        "plt.title('Training and validation Accuracy')\n",
        "plt.xlabel('Epochs')\n",
        "plt.ylabel('Accuracy')\n",
        "plt.legend()\n",
        "plt.show()"
      ],
      "metadata": {
        "colab": {
          "base_uri": "https://localhost:8080/",
          "height": 295
        },
        "id": "OO1fmUIRwJOz",
        "outputId": "968b9a2d-b979-440d-d5d0-f6dcade540ab"
      },
      "execution_count": 16,
      "outputs": [
        {
          "output_type": "display_data",
          "data": {
            "text/plain": [
              "<Figure size 432x288 with 1 Axes>"
            ],
            "image/png": "[encoded data removed]"
          },
          "metadata": {
            "needs_background": "light"
          }
        }
      ]
    },
    {
      "cell_type": "code",
      "source": [
        "#Testing the model\n",
        "results = model.evaluate(x_test,y_test)"
      ],
      "metadata": {
        "colab": {
          "base_uri": "https://localhost:8080/"
        },
        "id": "In_XXbS8w6oR",
        "outputId": "1f09f166-af63-458e-a52b-0bb0a7c1ba81"
      },
      "execution_count": 17,
      "outputs": [
        {
          "output_type": "stream",
          "name": "stdout",
          "text": [
            "782/782 [==============================] - 2s 2ms/step - loss: 0.3458 - binary_accuracy: 0.8745\n"
          ]
        }
      ]
    },
    {
      "cell_type": "code",
      "source": [
        "#generate predictions on new data\n",
        "model.predict(x_test)"
      ],
      "metadata": {
        "colab": {
          "base_uri": "https://localhost:8080/"
        },
        "id": "fNBrFZpBxlUF",
        "outputId": "1b075eab-ed8c-4c3d-d28b-76db5637fb9d"
      },
      "execution_count": 18,
      "outputs": [
        {
          "output_type": "execute_result",
          "data": {
            "text/plain": [
              "array([[0.19321653],\n",
              "       [0.9990029 ],\n",
              "       [0.8792207 ],\n",
              "       ...,\n",
              "       [0.03196606],\n",
              "       [0.03863648],\n",
              "       [0.39546034]], dtype=float32)"
            ]
          },
          "metadata": {},
          "execution_count": 18
        }
      ]
    },
    {
      "cell_type": "markdown",
      "source": [
        "## ***Further Experiments***"
      ],
      "metadata": {
        "id": "VJeMP2DIygNR"
      }
    },
    {
      "cell_type": "code",
      "source": [
        "#the model definition\n",
        "from keras import models\n",
        "from keras import layers\n",
        "model = models.Sequential()\n",
        "model.add(layers.Dense(64,activation='tanh', input_shape=(10000,)))\n",
        "model.add(layers.Dense(64,activation='tanh'))\n",
        "model.add(layers.Dense(32,activation='tanh'))\n",
        "model.add(layers.Dense(32,activation='tanh'))\n",
        "model.add(layers.Dense(16,activation='tanh'))\n",
        "model.add(layers.Dense(16,activation='tanh'))\n",
        "model.add(layers.Dense(1,activation='sigmoid'))\n",
        "model.summary()"
      ],
      "metadata": {
        "colab": {
          "base_uri": "https://localhost:8080/"
        },
        "id": "KveYfyAeyRhM",
        "outputId": "62efa27a-9b88-4b96-c79c-e9d52033ec19"
      },
      "execution_count": 19,
      "outputs": [
        {
          "output_type": "stream",
          "name": "stdout",
          "text": [
            "Model: \"sequential_1\"\n",
            "_________________________________________________________________\n",
            " Layer (type)                Output Shape              Param #   \n",
            "=================================================================\n",
            " dense_5 (Dense)             (None, 64)                640064    \n",
            "                                                                 \n",
            " dense_6 (Dense)             (None, 64)                4160      \n",
            "                                                                 \n",
            " dense_7 (Dense)             (None, 32)                2080      \n",
            "                                                                 \n",
            " dense_8 (Dense)             (None, 32)                1056      \n",
            "                                                                 \n",
            " dense_9 (Dense)             (None, 16)                528       \n",
            "                                                                 \n",
            " dense_10 (Dense)            (None, 16)                272       \n",
            "                                                                 \n",
            " dense_11 (Dense)            (None, 1)                 17        \n",
            "                                                                 \n",
            "=================================================================\n",
            "Total params: 648,177\n",
            "Trainable params: 648,177\n",
            "Non-trainable params: 0\n",
            "_________________________________________________________________\n"
          ]
        }
      ]
    },
    {
      "cell_type": "code",
      "source": [
        "#compile the model by configuring the optimizer with custom losses and metrics\n",
        "from tensorflow import keras\n",
        "from keras import optimizers\n",
        "from keras import losses\n",
        "from keras import metrics\n",
        "\n",
        "model.compile(optimizer=keras.optimizers.Adam(lr=0.0001), loss=losses.mse, metrics=[metrics.binary_accuracy])"
      ],
      "metadata": {
        "colab": {
          "base_uri": "https://localhost:8080/"
        },
        "id": "QKnogR8jy7UI",
        "outputId": "821ecced-01c0-4b25-8dbc-b105bfa8174f"
      },
      "execution_count": 20,
      "outputs": [
        {
          "output_type": "stream",
          "name": "stderr",
          "text": [
            "/usr/local/lib/python3.7/dist-packages/keras/optimizer_v2/adam.py:105: UserWarning: The `lr` argument is deprecated, use `learning_rate` instead.\n",
            "  super(Adam, self).__init__(name, **kwargs)\n"
          ]
        }
      ]
    },
    {
      "cell_type": "code",
      "source": [
        "#Training the model\n",
        "history = model.fit(partial_x_train,partial_y_train,epochs=10,batch_size=256,validation_data=(x_val,y_val))"
      ],
      "metadata": {
        "colab": {
          "base_uri": "https://localhost:8080/"
        },
        "id": "ezlIvVBdzOJI",
        "outputId": "58434a52-0054-4c46-ccdc-e9ee55654766"
      },
      "execution_count": 21,
      "outputs": [
        {
          "output_type": "stream",
          "name": "stdout",
          "text": [
            "Epoch 1/10\n",
            "59/59 [==============================] - 3s 41ms/step - loss: 0.1938 - binary_accuracy: 0.7317 - val_loss: 0.1429 - val_binary_accuracy: 0.8282\n",
            "Epoch 2/10\n",
            "59/59 [==============================] - 2s 29ms/step - loss: 0.1031 - binary_accuracy: 0.8813 - val_loss: 0.0980 - val_binary_accuracy: 0.8762\n",
            "Epoch 3/10\n",
            "59/59 [==============================] - 2s 30ms/step - loss: 0.0651 - binary_accuracy: 0.9267 - val_loss: 0.0878 - val_binary_accuracy: 0.8824\n",
            "Epoch 4/10\n",
            "59/59 [==============================] - 2s 30ms/step - loss: 0.0450 - binary_accuracy: 0.9519 - val_loss: 0.0865 - val_binary_accuracy: 0.8819\n",
            "Epoch 5/10\n",
            "59/59 [==============================] - 2s 30ms/step - loss: 0.0322 - binary_accuracy: 0.9687 - val_loss: 0.0878 - val_binary_accuracy: 0.8808\n",
            "Epoch 6/10\n",
            "59/59 [==============================] - 2s 30ms/step - loss: 0.0235 - binary_accuracy: 0.9785 - val_loss: 0.0909 - val_binary_accuracy: 0.8795\n",
            "Epoch 7/10\n",
            "59/59 [==============================] - 2s 29ms/step - loss: 0.0174 - binary_accuracy: 0.9853 - val_loss: 0.0938 - val_binary_accuracy: 0.8766\n",
            "Epoch 8/10\n",
            "59/59 [==============================] - 2s 29ms/step - loss: 0.0139 - binary_accuracy: 0.9881 - val_loss: 0.0967 - val_binary_accuracy: 0.8764\n",
            "Epoch 9/10\n",
            "59/59 [==============================] - 2s 29ms/step - loss: 0.0117 - binary_accuracy: 0.9896 - val_loss: 0.0986 - val_binary_accuracy: 0.8753\n",
            "Epoch 10/10\n",
            "59/59 [==============================] - 2s 29ms/step - loss: 0.0101 - binary_accuracy: 0.9911 - val_loss: 0.1006 - val_binary_accuracy: 0.8744\n"
          ]
        }
      ]
    },
    {
      "cell_type": "code",
      "source": [
        "#let's take a look what the history content\n",
        "history_dict = history.history\n",
        "history_dict.keys()"
      ],
      "metadata": {
        "colab": {
          "base_uri": "https://localhost:8080/"
        },
        "id": "PaoviKE-zWrG",
        "outputId": "df7180e9-b2f9-4c58-d575-f8cc158a4051"
      },
      "execution_count": 22,
      "outputs": [
        {
          "output_type": "execute_result",
          "data": {
            "text/plain": [
              "dict_keys(['loss', 'binary_accuracy', 'val_loss', 'val_binary_accuracy'])"
            ]
          },
          "metadata": {},
          "execution_count": 22
        }
      ]
    },
    {
      "cell_type": "code",
      "source": [
        "#ploting the training and validation loss\n",
        "import matplotlib.pyplot as plt\n",
        "loss_values = history_dict['loss']\n",
        "val_loss_values = history_dict['val_loss']\n",
        "epochs = range(1,11)\n",
        "plt.plot(epochs,loss_values,'bo',label='Training loss')\n",
        "plt.plot(epochs,val_loss_values,'b',label='Validation loss')\n",
        "plt.title('Training and validation loss')\n",
        "plt.xlabel('Epochs')\n",
        "plt.ylabel('Loss')\n",
        "plt.legend()\n",
        "plt.show()"
      ],
      "metadata": {
        "colab": {
          "base_uri": "https://localhost:8080/",
          "height": 295
        },
        "id": "_hd3OvpRzjLD",
        "outputId": "78495719-ad74-4241-fb70-faa940f741c4"
      },
      "execution_count": 24,
      "outputs": [
        {
          "output_type": "display_data",
          "data": {
            "text/plain": [
              "<Figure size 432x288 with 1 Axes>"
            ],
            "image/png": "[encoded data removed]"
          },
          "metadata": {
            "needs_background": "light"
          }
        }
      ]
    },
    {
      "cell_type": "code",
      "source": [
        "#ploting the training and validation accuracy\n",
        "import matplotlib.pyplot as plt\n",
        "loss_values = history_dict['binary_accuracy']\n",
        "val_loss_values = history_dict['val_binary_accuracy']\n",
        "epochs = range(1,11)\n",
        "plt.plot(epochs,loss_values,'bo',label='Training Accuracy')\n",
        "plt.plot(epochs,val_loss_values,'b',label='Validation Accuracy')\n",
        "plt.title('Training and validation Accuracy')\n",
        "plt.xlabel('Epochs')\n",
        "plt.ylabel('Accuracy')\n",
        "plt.legend()\n",
        "plt.show()"
      ],
      "metadata": {
        "colab": {
          "base_uri": "https://localhost:8080/",
          "height": 295
        },
        "id": "wcByCIkjzpEU",
        "outputId": "a36e3741-fc95-4d81-d327-b9deac551272"
      },
      "execution_count": 26,
      "outputs": [
        {
          "output_type": "display_data",
          "data": {
            "text/plain": [
              "<Figure size 432x288 with 1 Axes>"
            ],
            "image/png": "[encoded data removed]"
          },
          "metadata": {
            "needs_background": "light"
          }
        }
      ]
    },
    {
      "cell_type": "code",
      "source": [
        "#Testing the model\n",
        "results = model.evaluate(x_test,y_test)"
      ],
      "metadata": {
        "colab": {
          "base_uri": "https://localhost:8080/"
        },
        "id": "wFr2V-iKzzw2",
        "outputId": "8213f01b-1732-4826-a0d7-46e09ee6162f"
      },
      "execution_count": 27,
      "outputs": [
        {
          "output_type": "stream",
          "name": "stdout",
          "text": [
            "782/782 [==============================] - 2s 3ms/step - loss: 0.1094 - binary_accuracy: 0.8621\n"
          ]
        }
      ]
    },
    {
      "cell_type": "code",
      "source": [
        "#generate predictions on new data\n",
        "model.predict(x_test)"
      ],
      "metadata": {
        "colab": {
          "base_uri": "https://localhost:8080/"
        },
        "id": "9ccj0A9bz_Dc",
        "outputId": "abc7712d-50d9-4504-d05f-7a34907b707b"
      },
      "execution_count": 28,
      "outputs": [
        {
          "output_type": "execute_result",
          "data": {
            "text/plain": [
              "array([[0.03863838],\n",
              "       [0.9857956 ],\n",
              "       [0.816952  ],\n",
              "       ...,\n",
              "       [0.02947399],\n",
              "       [0.03543854],\n",
              "       [0.9024964 ]], dtype=float32)"
            ]
          },
          "metadata": {},
          "execution_count": 28
        }
      ]
    },
    {
      "cell_type": "code",
      "source": [
        ""
      ],
      "metadata": {
        "id": "AtzqChhd0JKf"
      },
      "execution_count": null,
      "outputs": []
    }
  ]
}