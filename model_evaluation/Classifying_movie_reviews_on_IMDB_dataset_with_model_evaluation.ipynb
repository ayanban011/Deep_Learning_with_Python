{
  "nbformat": 4,
  "nbformat_minor": 0,
  "metadata": {
    "colab": {
      "name": "Classifying movie reviews on IMDB dataset_with_model_evaluation.ipynb",
      "provenance": []
    },
    "kernelspec": {
      "name": "python3",
      "display_name": "Python 3"
    },
    "language_info": {
      "name": "python"
    }
  },
  "cells": [
    {
      "cell_type": "markdown",
      "source": [
        "# **A binary classification example with neural network**\n",
        "\n",
        "Here, we are going to classify movie reviews as positive or negative based on the text content of the reviews."
      ],
      "metadata": {
        "id": "TT4BMaDzEwoR"
      }
    },
    {
      "cell_type": "markdown",
      "source": [
        "## ***The IMDB dataset***\n",
        "\n",
        "*It is a set of 50,000 highly polarized reviews from the **Internet Movie Database**. It has been splited into 25,000 reviews for training and 25,000 reviews for testing. Each set consisting 50% negative and 50% of positive reviews.*\n",
        "\n",
        "**Note:** The IMDB dataset also comes packaged with keras (i.e. already preprocessed). Here, the reviews (sequence of words) have been turned into the sequence of integers, where each integer stands for a specific word in a dictionary."
      ],
      "metadata": {
        "id": "DTMjA-85FTsk"
      }
    },
    {
      "cell_type": "code",
      "execution_count": 1,
      "metadata": {
        "colab": {
          "base_uri": "https://localhost:8080/"
        },
        "id": "7aJ0h_5REaLq",
        "outputId": "5717b229-989f-477c-f2b6-4b1dbdc8aa72"
      },
      "outputs": [
        {
          "output_type": "stream",
          "name": "stdout",
          "text": [
            "Let's build the IMDB dataset with taking the help of keras\n"
          ]
        }
      ],
      "source": [
        "print(\"Let's build the IMDB dataset with taking the help of keras\")"
      ]
    },
    {
      "cell_type": "code",
      "source": [
        "# loading the IMDB dataset with Keras\n",
        "from keras.datasets import imdb\n",
        "(train_data, train_labels), (test_data, test_labels) = imdb.load_data(num_words = 10000) # num_words refers top 20,000\n",
        "# most frequently occuring words\n"
      ],
      "metadata": {
        "id": "Xnh4QgAeLYHi"
      },
      "execution_count": 2,
      "outputs": []
    },
    {
      "cell_type": "markdown",
      "source": [
        "*Here the variables **train_data** and **test_data** are the list of reviews; each reviews is a list of word indices (encoding a sequence of words). **train_labels** and **test_labels**  are list of 0s and 1s, where 0 stands for negative and 1 for positive.*"
      ],
      "metadata": {
        "id": "tinKiyzJd-hE"
      }
    },
    {
      "cell_type": "code",
      "source": [
        "train_data[0]"
      ],
      "metadata": {
        "colab": {
          "base_uri": "https://localhost:8080/"
        },
        "id": "TssZdWmYel8_",
        "outputId": "20cdfb22-ea24-4bb4-c8da-b013036dcb28"
      },
      "execution_count": 3,
      "outputs": [
        {
          "output_type": "execute_result",
          "data": {
            "text/plain": [
              "[1,\n",
              " 14,\n",
              " 22,\n",
              " 16,\n",
              " 43,\n",
              " 530,\n",
              " 973,\n",
              " 1622,\n",
              " 1385,\n",
              " 65,\n",
              " 458,\n",
              " 4468,\n",
              " 66,\n",
              " 3941,\n",
              " 4,\n",
              " 173,\n",
              " 36,\n",
              " 256,\n",
              " 5,\n",
              " 25,\n",
              " 100,\n",
              " 43,\n",
              " 838,\n",
              " 112,\n",
              " 50,\n",
              " 670,\n",
              " 2,\n",
              " 9,\n",
              " 35,\n",
              " 480,\n",
              " 284,\n",
              " 5,\n",
              " 150,\n",
              " 4,\n",
              " 172,\n",
              " 112,\n",
              " 167,\n",
              " 2,\n",
              " 336,\n",
              " 385,\n",
              " 39,\n",
              " 4,\n",
              " 172,\n",
              " 4536,\n",
              " 1111,\n",
              " 17,\n",
              " 546,\n",
              " 38,\n",
              " 13,\n",
              " 447,\n",
              " 4,\n",
              " 192,\n",
              " 50,\n",
              " 16,\n",
              " 6,\n",
              " 147,\n",
              " 2025,\n",
              " 19,\n",
              " 14,\n",
              " 22,\n",
              " 4,\n",
              " 1920,\n",
              " 4613,\n",
              " 469,\n",
              " 4,\n",
              " 22,\n",
              " 71,\n",
              " 87,\n",
              " 12,\n",
              " 16,\n",
              " 43,\n",
              " 530,\n",
              " 38,\n",
              " 76,\n",
              " 15,\n",
              " 13,\n",
              " 1247,\n",
              " 4,\n",
              " 22,\n",
              " 17,\n",
              " 515,\n",
              " 17,\n",
              " 12,\n",
              " 16,\n",
              " 626,\n",
              " 18,\n",
              " 2,\n",
              " 5,\n",
              " 62,\n",
              " 386,\n",
              " 12,\n",
              " 8,\n",
              " 316,\n",
              " 8,\n",
              " 106,\n",
              " 5,\n",
              " 4,\n",
              " 2223,\n",
              " 5244,\n",
              " 16,\n",
              " 480,\n",
              " 66,\n",
              " 3785,\n",
              " 33,\n",
              " 4,\n",
              " 130,\n",
              " 12,\n",
              " 16,\n",
              " 38,\n",
              " 619,\n",
              " 5,\n",
              " 25,\n",
              " 124,\n",
              " 51,\n",
              " 36,\n",
              " 135,\n",
              " 48,\n",
              " 25,\n",
              " 1415,\n",
              " 33,\n",
              " 6,\n",
              " 22,\n",
              " 12,\n",
              " 215,\n",
              " 28,\n",
              " 77,\n",
              " 52,\n",
              " 5,\n",
              " 14,\n",
              " 407,\n",
              " 16,\n",
              " 82,\n",
              " 2,\n",
              " 8,\n",
              " 4,\n",
              " 107,\n",
              " 117,\n",
              " 5952,\n",
              " 15,\n",
              " 256,\n",
              " 4,\n",
              " 2,\n",
              " 7,\n",
              " 3766,\n",
              " 5,\n",
              " 723,\n",
              " 36,\n",
              " 71,\n",
              " 43,\n",
              " 530,\n",
              " 476,\n",
              " 26,\n",
              " 400,\n",
              " 317,\n",
              " 46,\n",
              " 7,\n",
              " 4,\n",
              " 2,\n",
              " 1029,\n",
              " 13,\n",
              " 104,\n",
              " 88,\n",
              " 4,\n",
              " 381,\n",
              " 15,\n",
              " 297,\n",
              " 98,\n",
              " 32,\n",
              " 2071,\n",
              " 56,\n",
              " 26,\n",
              " 141,\n",
              " 6,\n",
              " 194,\n",
              " 7486,\n",
              " 18,\n",
              " 4,\n",
              " 226,\n",
              " 22,\n",
              " 21,\n",
              " 134,\n",
              " 476,\n",
              " 26,\n",
              " 480,\n",
              " 5,\n",
              " 144,\n",
              " 30,\n",
              " 5535,\n",
              " 18,\n",
              " 51,\n",
              " 36,\n",
              " 28,\n",
              " 224,\n",
              " 92,\n",
              " 25,\n",
              " 104,\n",
              " 4,\n",
              " 226,\n",
              " 65,\n",
              " 16,\n",
              " 38,\n",
              " 1334,\n",
              " 88,\n",
              " 12,\n",
              " 16,\n",
              " 283,\n",
              " 5,\n",
              " 16,\n",
              " 4472,\n",
              " 113,\n",
              " 103,\n",
              " 32,\n",
              " 15,\n",
              " 16,\n",
              " 5345,\n",
              " 19,\n",
              " 178,\n",
              " 32]"
            ]
          },
          "metadata": {},
          "execution_count": 3
        }
      ]
    },
    {
      "cell_type": "code",
      "source": [
        "train_labels[0]"
      ],
      "metadata": {
        "colab": {
          "base_uri": "https://localhost:8080/"
        },
        "id": "oLgSvjfyep3e",
        "outputId": "96703556-76d3-42d0-e3e9-031e40cb668c"
      },
      "execution_count": 4,
      "outputs": [
        {
          "output_type": "execute_result",
          "data": {
            "text/plain": [
              "1"
            ]
          },
          "metadata": {},
          "execution_count": 4
        }
      ]
    },
    {
      "cell_type": "code",
      "source": [
        "max([max(sequence) for sequence in train_data]) # as we are restricting to top 20,000 most frequent words."
      ],
      "metadata": {
        "colab": {
          "base_uri": "https://localhost:8080/"
        },
        "id": "u3a2HG6tewHd",
        "outputId": "ca07ca17-85e2-4ed8-c56c-1fc271246daa"
      },
      "execution_count": 5,
      "outputs": [
        {
          "output_type": "execute_result",
          "data": {
            "text/plain": [
              "9999"
            ]
          },
          "metadata": {},
          "execution_count": 5
        }
      ]
    },
    {
      "cell_type": "code",
      "source": [
        "#Lets decode one of these reviews back to English words:\n",
        "word_index = imdb.get_word_index() #word index is a dictionary mapping words to an  integer  index.\n",
        "reverse_word_index = dict([(value,key) for (key,value) in word_index.items()]) #Reverses it, mapping integer indices to words\n",
        "decoded_review = ' '.join([reverse_word_index.get(i-3,'?') for i in train_data[0]]) #the indices are offset by 3 as  0,1,2 are reserved for \"padding\",\n",
        "#'start of sequence' and 'unknown' respectively\n",
        "print(decoded_review)"
      ],
      "metadata": {
        "colab": {
          "base_uri": "https://localhost:8080/"
        },
        "id": "MChyCaGjfAhb",
        "outputId": "89b7dc21-ac65-4be8-fde5-603574fcc3a7"
      },
      "execution_count": 6,
      "outputs": [
        {
          "output_type": "stream",
          "name": "stdout",
          "text": [
            "? this film was just brilliant casting location scenery story direction everyone's really suited the part they played and you could just imagine being there robert ? is an amazing actor and now the same being director ? father came from the same scottish island as myself so i loved the fact there was a real connection with this film the witty remarks throughout the film were great it was just brilliant so much that i bought the film as soon as it was released for ? and would recommend it to everyone to watch and the fly fishing was amazing really cried at the end it was so sad and you know what they say if you cry at a film it must have been good and this definitely was also ? to the two little boy's that played the ? of norman and paul they were just brilliant children are often left out of the ? list i think because the stars that play them all grown up are such a big profile for the whole film but these children are amazing and should be praised for what they have done don't you think the whole story was so lovely because it was true and was someone's life after all that was shared with us all\n"
          ]
        }
      ]
    },
    {
      "cell_type": "markdown",
      "source": [
        "## **Preparing the data**"
      ],
      "metadata": {
        "id": "5SJ6oUyBg53B"
      }
    },
    {
      "cell_type": "markdown",
      "source": [
        "There are two ways to feed the data into a neural network:\n",
        "\n",
        "1. Convert all the integers to the tensors having same length by padding of zeros and define the first layer (i.e. the embedding layer) appropiately to tackle the shape of the tensor.\n",
        "\n",
        "2. One hot Encoding: it will turns your data into a vector of 0s and 1s so a simple Dense layer can tackle your data.\n",
        "\n",
        "We will perform one hot encoding to vectorize the data."
      ],
      "metadata": {
        "id": "qiAkTvBjhXVR"
      }
    },
    {
      "cell_type": "code",
      "source": [
        "#encoding the integer sequences into a binary matrix\n",
        "import numpy as np\n",
        "def vectorize_sequences(sequences, dimension=10000):\n",
        "  results = np.zeros((len(sequences), dimension)) #creates an all-zero matrix of shape = length of the sequences\n",
        "  for i,sequence in enumerate(sequences):\n",
        "    results[i,sequence] = 1 #set specific indices of results[i] to 1s\n",
        "  return results"
      ],
      "metadata": {
        "id": "fBhIQcc3gtLz"
      },
      "execution_count": 7,
      "outputs": []
    },
    {
      "cell_type": "code",
      "source": [
        "#vectorized training and testing data\n",
        "x_train = vectorize_sequences(train_data)\n",
        "x_test = vectorize_sequences(test_data)\n",
        "print(x_train[0])\n",
        "print()\n",
        "print(x_test[0])"
      ],
      "metadata": {
        "colab": {
          "base_uri": "https://localhost:8080/"
        },
        "id": "EQ200E_PjUaa",
        "outputId": "ddcf5c8c-c2be-4632-8a95-2ef05611dcd7"
      },
      "execution_count": 8,
      "outputs": [
        {
          "output_type": "stream",
          "name": "stdout",
          "text": [
            "[0. 1. 1. ... 0. 0. 0.]\n",
            "\n",
            "[0. 1. 1. ... 0. 0. 0.]\n"
          ]
        }
      ]
    },
    {
      "cell_type": "code",
      "source": [
        "#vectorizing the labels\n",
        "y_train = np.asarray(train_labels).astype('float32')\n",
        "y_test = np.asarray(test_labels).astype('float32')\n",
        "print(\"train_labels\", y_train[0])\n",
        "print(\"test_labels\", y_test[0])"
      ],
      "metadata": {
        "colab": {
          "base_uri": "https://localhost:8080/"
        },
        "id": "zM38JLBpjqnC",
        "outputId": "7fb0cabf-f51c-4df9-b61f-c4688fd82e2a"
      },
      "execution_count": 9,
      "outputs": [
        {
          "output_type": "stream",
          "name": "stdout",
          "text": [
            "train_labels 1.0\n",
            "test_labels 0.0\n"
          ]
        }
      ]
    },
    {
      "cell_type": "markdown",
      "source": [
        "*Now the data is ready to be fed into a neural network.*"
      ],
      "metadata": {
        "id": "NLHkl05ukqeM"
      }
    },
    {
      "cell_type": "markdown",
      "source": [
        "## **Building the neural network**"
      ],
      "metadata": {
        "id": "tFfr_X2Kk1mP"
      }
    },
    {
      "cell_type": "markdown",
      "source": [
        "*As the input data is a vectors and the labels are scalars; a simple stack of fully connected **Dense Layers** with **ReLu activations** will perform the work successfully.*\n",
        "\n",
        "*Now the following things need to be finalized:*\n",
        "\n",
        "\n",
        "*   *How many layers to use.*\n",
        "*   *How many hidden units to choose for each layer.*\n",
        "\n",
        "*Here, we are using two intermediate layers with 32 hidden units respectively (ReLu activations), and a third output layer for scalar prediction with sigmoid activation.*\n",
        "\n"
      ],
      "metadata": {
        "id": "FlxenzFYm4H3"
      }
    },
    {
      "cell_type": "code",
      "source": [
        "#the model definition\n",
        "from keras import models\n",
        "from keras import layers\n",
        "model = models.Sequential()\n",
        "model.add(layers.Dense(32,activation='relu', input_shape=(10000,)))\n",
        "model.add(layers.Dense(32,activation='relu'))\n",
        "model.add(layers.Dense(16,activation='relu'))\n",
        "model.add(layers.Dense(16,activation='relu'))\n",
        "model.add(layers.Dense(1,activation='sigmoid'))\n",
        "model.summary()"
      ],
      "metadata": {
        "colab": {
          "base_uri": "https://localhost:8080/"
        },
        "id": "bvPtMFwCknlk",
        "outputId": "6d83dcda-70a6-478d-ea50-da72654ff447"
      },
      "execution_count": 10,
      "outputs": [
        {
          "output_type": "stream",
          "name": "stdout",
          "text": [
            "Model: \"sequential\"\n",
            "_________________________________________________________________\n",
            " Layer (type)                Output Shape              Param #   \n",
            "=================================================================\n",
            " dense (Dense)               (None, 32)                320032    \n",
            "                                                                 \n",
            " dense_1 (Dense)             (None, 32)                1056      \n",
            "                                                                 \n",
            " dense_2 (Dense)             (None, 16)                528       \n",
            "                                                                 \n",
            " dense_3 (Dense)             (None, 16)                272       \n",
            "                                                                 \n",
            " dense_4 (Dense)             (None, 1)                 17        \n",
            "                                                                 \n",
            "=================================================================\n",
            "Total params: 321,905\n",
            "Trainable params: 321,905\n",
            "Non-trainable params: 0\n",
            "_________________________________________________________________\n"
          ]
        }
      ]
    },
    {
      "cell_type": "code",
      "source": [
        "#compile the model by configuring the optimizer with custom losses and metrics\n",
        "from tensorflow import keras\n",
        "from keras import optimizers\n",
        "from keras import losses\n",
        "from keras import metrics\n",
        "\n",
        "model.compile(optimizer=keras.optimizers.RMSprop(lr=0.0001), loss=losses.binary_crossentropy, metrics=[metrics.binary_accuracy])"
      ],
      "metadata": {
        "colab": {
          "base_uri": "https://localhost:8080/"
        },
        "id": "aZuktei2pNq1",
        "outputId": "f7a3b2fd-a37f-42fc-940a-1f18f862f791"
      },
      "execution_count": 11,
      "outputs": [
        {
          "output_type": "stream",
          "name": "stderr",
          "text": [
            "/usr/local/lib/python3.7/dist-packages/keras/optimizer_v2/rmsprop.py:130: UserWarning: The `lr` argument is deprecated, use `learning_rate` instead.\n",
            "  super(RMSprop, self).__init__(name, **kwargs)\n"
          ]
        }
      ]
    },
    {
      "cell_type": "markdown",
      "source": [
        "## ***Validating the approach***"
      ],
      "metadata": {
        "id": "T04OybK9sNnO"
      }
    },
    {
      "cell_type": "code",
      "source": [
        "#Setting aside a validation set\n",
        "x_val = x_train[:10000]\n",
        "partial_x_train = x_train[10000:]\n",
        "y_val = y_train[:10000]\n",
        "partial_y_train = y_train[10000:]\n",
        "print(len(x_val),len(partial_x_train),len(y_val),len(partial_y_train))"
      ],
      "metadata": {
        "id": "Itx12lxArq3e",
        "colab": {
          "base_uri": "https://localhost:8080/"
        },
        "outputId": "dd6ebee9-ef44-476b-b84d-90ba3ef9e887"
      },
      "execution_count": 12,
      "outputs": [
        {
          "output_type": "stream",
          "name": "stdout",
          "text": [
            "10000 15000 10000 15000\n"
          ]
        }
      ]
    },
    {
      "cell_type": "code",
      "source": [
        "#Training the model\n",
        "history = model.fit(partial_x_train,partial_y_train,epochs=25,batch_size=512,validation_data=(x_val,y_val))"
      ],
      "metadata": {
        "colab": {
          "base_uri": "https://localhost:8080/"
        },
        "id": "SIYffIKasvpt",
        "outputId": "bf55589f-253b-4371-bb85-a66530fcaee6"
      },
      "execution_count": 13,
      "outputs": [
        {
          "output_type": "stream",
          "name": "stdout",
          "text": [
            "Epoch 1/25\n",
            "30/30 [==============================] - 3s 65ms/step - loss: 0.6811 - binary_accuracy: 0.6293 - val_loss: 0.6632 - val_binary_accuracy: 0.7329\n",
            "Epoch 2/25\n",
            "30/30 [==============================] - 2s 53ms/step - loss: 0.6340 - binary_accuracy: 0.7791 - val_loss: 0.6039 - val_binary_accuracy: 0.7984\n",
            "Epoch 3/25\n",
            "30/30 [==============================] - 2s 51ms/step - loss: 0.5642 - binary_accuracy: 0.8371 - val_loss: 0.5405 - val_binary_accuracy: 0.8374\n",
            "Epoch 4/25\n",
            "30/30 [==============================] - 1s 50ms/step - loss: 0.4984 - binary_accuracy: 0.8637 - val_loss: 0.4865 - val_binary_accuracy: 0.8549\n",
            "Epoch 5/25\n",
            "30/30 [==============================] - 1s 50ms/step - loss: 0.4408 - binary_accuracy: 0.8813 - val_loss: 0.4391 - val_binary_accuracy: 0.8659\n",
            "Epoch 6/25\n",
            "30/30 [==============================] - 2s 51ms/step - loss: 0.3893 - binary_accuracy: 0.8929 - val_loss: 0.3979 - val_binary_accuracy: 0.8713\n",
            "Epoch 7/25\n",
            "30/30 [==============================] - 2s 50ms/step - loss: 0.3446 - binary_accuracy: 0.9024 - val_loss: 0.3649 - val_binary_accuracy: 0.8760\n",
            "Epoch 8/25\n",
            "30/30 [==============================] - 2s 60ms/step - loss: 0.3072 - binary_accuracy: 0.9107 - val_loss: 0.3392 - val_binary_accuracy: 0.8814\n",
            "Epoch 9/25\n",
            "30/30 [==============================] - 1s 50ms/step - loss: 0.2771 - binary_accuracy: 0.9198 - val_loss: 0.3213 - val_binary_accuracy: 0.8841\n",
            "Epoch 10/25\n",
            "30/30 [==============================] - 2s 50ms/step - loss: 0.2515 - binary_accuracy: 0.9257 - val_loss: 0.3050 - val_binary_accuracy: 0.8864\n",
            "Epoch 11/25\n",
            "30/30 [==============================] - 1s 50ms/step - loss: 0.2292 - binary_accuracy: 0.9317 - val_loss: 0.2938 - val_binary_accuracy: 0.8895\n",
            "Epoch 12/25\n",
            "30/30 [==============================] - 2s 51ms/step - loss: 0.2100 - binary_accuracy: 0.9368 - val_loss: 0.2851 - val_binary_accuracy: 0.8911\n",
            "Epoch 13/25\n",
            "30/30 [==============================] - 1s 50ms/step - loss: 0.1931 - binary_accuracy: 0.9417 - val_loss: 0.2803 - val_binary_accuracy: 0.8888\n",
            "Epoch 14/25\n",
            "30/30 [==============================] - 2s 51ms/step - loss: 0.1781 - binary_accuracy: 0.9455 - val_loss: 0.2761 - val_binary_accuracy: 0.8910\n",
            "Epoch 15/25\n",
            "30/30 [==============================] - 2s 51ms/step - loss: 0.1645 - binary_accuracy: 0.9491 - val_loss: 0.2744 - val_binary_accuracy: 0.8906\n",
            "Epoch 16/25\n",
            "30/30 [==============================] - 1s 50ms/step - loss: 0.1523 - binary_accuracy: 0.9527 - val_loss: 0.2748 - val_binary_accuracy: 0.8910\n",
            "Epoch 17/25\n",
            "30/30 [==============================] - 2s 50ms/step - loss: 0.1418 - binary_accuracy: 0.9573 - val_loss: 0.2773 - val_binary_accuracy: 0.8912\n",
            "Epoch 18/25\n",
            "30/30 [==============================] - 2s 51ms/step - loss: 0.1318 - binary_accuracy: 0.9607 - val_loss: 0.2781 - val_binary_accuracy: 0.8901\n",
            "Epoch 19/25\n",
            "30/30 [==============================] - 2s 51ms/step - loss: 0.1227 - binary_accuracy: 0.9634 - val_loss: 0.2814 - val_binary_accuracy: 0.8893\n",
            "Epoch 20/25\n",
            "30/30 [==============================] - 1s 49ms/step - loss: 0.1148 - binary_accuracy: 0.9665 - val_loss: 0.2872 - val_binary_accuracy: 0.8897\n",
            "Epoch 21/25\n",
            "30/30 [==============================] - 2s 51ms/step - loss: 0.1073 - binary_accuracy: 0.9683 - val_loss: 0.2918 - val_binary_accuracy: 0.8899\n",
            "Epoch 22/25\n",
            "30/30 [==============================] - 2s 52ms/step - loss: 0.0995 - binary_accuracy: 0.9721 - val_loss: 0.2949 - val_binary_accuracy: 0.8872\n",
            "Epoch 23/25\n",
            "30/30 [==============================] - 1s 50ms/step - loss: 0.0928 - binary_accuracy: 0.9736 - val_loss: 0.3007 - val_binary_accuracy: 0.8870\n",
            "Epoch 24/25\n",
            "30/30 [==============================] - 2s 51ms/step - loss: 0.0859 - binary_accuracy: 0.9761 - val_loss: 0.3095 - val_binary_accuracy: 0.8850\n",
            "Epoch 25/25\n",
            "30/30 [==============================] - 1s 50ms/step - loss: 0.0799 - binary_accuracy: 0.9787 - val_loss: 0.3166 - val_binary_accuracy: 0.8839\n"
          ]
        }
      ]
    },
    {
      "cell_type": "code",
      "source": [
        "#let's take a look what the history content\n",
        "history_dict = history.history\n",
        "history_dict.keys()"
      ],
      "metadata": {
        "colab": {
          "base_uri": "https://localhost:8080/"
        },
        "id": "GzRuJJfetUWD",
        "outputId": "530d646f-6b06-422a-8420-e7241df44ca8"
      },
      "execution_count": 14,
      "outputs": [
        {
          "output_type": "execute_result",
          "data": {
            "text/plain": [
              "dict_keys(['loss', 'binary_accuracy', 'val_loss', 'val_binary_accuracy'])"
            ]
          },
          "metadata": {},
          "execution_count": 14
        }
      ]
    },
    {
      "cell_type": "code",
      "source": [
        "#ploting the training and validation loss\n",
        "import matplotlib.pyplot as plt\n",
        "loss_values = history_dict['loss']\n",
        "val_loss_values = history_dict['val_loss']\n",
        "epochs = range(1,26)\n",
        "plt.plot(epochs,loss_values,'bo',label='Training loss')\n",
        "plt.plot(epochs,val_loss_values,'b',label='Validation loss')\n",
        "plt.title('Training and validation loss')\n",
        "plt.xlabel('Epochs')\n",
        "plt.ylabel('Loss')\n",
        "plt.legend()\n",
        "plt.show()"
      ],
      "metadata": {
        "colab": {
          "base_uri": "https://localhost:8080/",
          "height": 295
        },
        "id": "n-vMBUlquvdt",
        "outputId": "8b4fab32-50e8-4433-f787-ed6e4d95b4f2"
      },
      "execution_count": 15,
      "outputs": [
        {
          "output_type": "display_data",
          "data": {
            "text/plain": [
              "<Figure size 432x288 with 1 Axes>"
            ],
            "image/png": "[encoded data removed]"
          },
          "metadata": {
            "needs_background": "light"
          }
        }
      ]
    },
    {
      "cell_type": "code",
      "source": [
        "#ploting the training and validation accuracy\n",
        "import matplotlib.pyplot as plt\n",
        "loss_values = history_dict['binary_accuracy']\n",
        "val_loss_values = history_dict['val_binary_accuracy']\n",
        "epochs = range(1,26)\n",
        "plt.plot(epochs,loss_values,'bo',label='Training Accuracy')\n",
        "plt.plot(epochs,val_loss_values,'b',label='Validation Accuracy')\n",
        "plt.title('Training and validation Accuracy')\n",
        "plt.xlabel('Epochs')\n",
        "plt.ylabel('Accuracy')\n",
        "plt.legend()\n",
        "plt.show()"
      ],
      "metadata": {
        "colab": {
          "base_uri": "https://localhost:8080/",
          "height": 295
        },
        "id": "OO1fmUIRwJOz",
        "outputId": "34524530-75bf-4701-e1ad-21f0aec8a75e"
      },
      "execution_count": 16,
      "outputs": [
        {
          "output_type": "display_data",
          "data": {
            "text/plain": [
              "<Figure size 432x288 with 1 Axes>"
            ],
            "image/png": "[encoded data removed]"
          },
          "metadata": {
            "needs_background": "light"
          }
        }
      ]
    },
    {
      "cell_type": "code",
      "source": [
        "#Testing the model\n",
        "results = model.evaluate(x_test,y_test)"
      ],
      "metadata": {
        "colab": {
          "base_uri": "https://localhost:8080/"
        },
        "id": "In_XXbS8w6oR",
        "outputId": "335766b6-0ae0-4a1f-80df-d92dd6f31077"
      },
      "execution_count": 17,
      "outputs": [
        {
          "output_type": "stream",
          "name": "stdout",
          "text": [
            "782/782 [==============================] - 2s 3ms/step - loss: 0.3445 - binary_accuracy: 0.8732\n"
          ]
        }
      ]
    },
    {
      "cell_type": "code",
      "source": [
        "#generate predictions on new data\n",
        "model.predict(x_test)"
      ],
      "metadata": {
        "colab": {
          "base_uri": "https://localhost:8080/"
        },
        "id": "fNBrFZpBxlUF",
        "outputId": "f40e58a3-3673-4711-d8f0-cbc83e60b077"
      },
      "execution_count": 18,
      "outputs": [
        {
          "output_type": "execute_result",
          "data": {
            "text/plain": [
              "array([[0.09994671],\n",
              "       [0.99986714],\n",
              "       [0.9540272 ],\n",
              "       ...,\n",
              "       [0.03045174],\n",
              "       [0.03037745],\n",
              "       [0.62957406]], dtype=float32)"
            ]
          },
          "metadata": {},
          "execution_count": 18
        }
      ]
    },
    {
      "cell_type": "markdown",
      "source": [
        "## ***Further Experiments***"
      ],
      "metadata": {
        "id": "VJeMP2DIygNR"
      }
    },
    {
      "cell_type": "code",
      "source": [
        "#the model definition\n",
        "from keras import models\n",
        "from keras import layers\n",
        "model = models.Sequential()\n",
        "model.add(layers.Dense(64,activation='tanh', input_shape=(10000,)))\n",
        "model.add(layers.Dense(64,activation='tanh'))\n",
        "model.add(layers.Dense(32,activation='tanh'))\n",
        "model.add(layers.Dense(32,activation='tanh'))\n",
        "model.add(layers.Dense(16,activation='tanh'))\n",
        "model.add(layers.Dense(16,activation='tanh'))\n",
        "model.add(layers.Dense(1,activation='sigmoid'))\n",
        "model.summary()"
      ],
      "metadata": {
        "colab": {
          "base_uri": "https://localhost:8080/"
        },
        "id": "KveYfyAeyRhM",
        "outputId": "6cafc484-08c5-4762-df77-cb0d156b9b3a"
      },
      "execution_count": 19,
      "outputs": [
        {
          "output_type": "stream",
          "name": "stdout",
          "text": [
            "Model: \"sequential_1\"\n",
            "_________________________________________________________________\n",
            " Layer (type)                Output Shape              Param #   \n",
            "=================================================================\n",
            " dense_5 (Dense)             (None, 64)                640064    \n",
            "                                                                 \n",
            " dense_6 (Dense)             (None, 64)                4160      \n",
            "                                                                 \n",
            " dense_7 (Dense)             (None, 32)                2080      \n",
            "                                                                 \n",
            " dense_8 (Dense)             (None, 32)                1056      \n",
            "                                                                 \n",
            " dense_9 (Dense)             (None, 16)                528       \n",
            "                                                                 \n",
            " dense_10 (Dense)            (None, 16)                272       \n",
            "                                                                 \n",
            " dense_11 (Dense)            (None, 1)                 17        \n",
            "                                                                 \n",
            "=================================================================\n",
            "Total params: 648,177\n",
            "Trainable params: 648,177\n",
            "Non-trainable params: 0\n",
            "_________________________________________________________________\n"
          ]
        }
      ]
    },
    {
      "cell_type": "code",
      "source": [
        "#compile the model by configuring the optimizer with custom losses and metrics\n",
        "from tensorflow import keras\n",
        "from keras import optimizers\n",
        "from keras import losses\n",
        "from keras import metrics\n",
        "\n",
        "model.compile(optimizer=keras.optimizers.Adam(lr=0.0001), loss=losses.mse, metrics=[metrics.binary_accuracy])"
      ],
      "metadata": {
        "colab": {
          "base_uri": "https://localhost:8080/"
        },
        "id": "QKnogR8jy7UI",
        "outputId": "53b02cb1-6709-4471-8986-b21a777b0e6a"
      },
      "execution_count": 20,
      "outputs": [
        {
          "output_type": "stream",
          "name": "stderr",
          "text": [
            "/usr/local/lib/python3.7/dist-packages/keras/optimizer_v2/adam.py:105: UserWarning: The `lr` argument is deprecated, use `learning_rate` instead.\n",
            "  super(Adam, self).__init__(name, **kwargs)\n"
          ]
        }
      ]
    },
    {
      "cell_type": "code",
      "source": [
        "#Training the model\n",
        "history = model.fit(partial_x_train,partial_y_train,epochs=10,batch_size=256,validation_data=(x_val,y_val))"
      ],
      "metadata": {
        "colab": {
          "base_uri": "https://localhost:8080/"
        },
        "id": "ezlIvVBdzOJI",
        "outputId": "9b1fd828-e8d3-47ed-bb2d-e0eb9036f32d"
      },
      "execution_count": 21,
      "outputs": [
        {
          "output_type": "stream",
          "name": "stdout",
          "text": [
            "Epoch 1/10\n",
            "59/59 [==============================] - 3s 43ms/step - loss: 0.2053 - binary_accuracy: 0.7215 - val_loss: 0.1524 - val_binary_accuracy: 0.8320\n",
            "Epoch 2/10\n",
            "59/59 [==============================] - 2s 37ms/step - loss: 0.1113 - binary_accuracy: 0.8813 - val_loss: 0.1012 - val_binary_accuracy: 0.8753\n",
            "Epoch 3/10\n",
            "59/59 [==============================] - 2s 36ms/step - loss: 0.0706 - binary_accuracy: 0.9233 - val_loss: 0.0883 - val_binary_accuracy: 0.8825\n",
            "Epoch 4/10\n",
            "59/59 [==============================] - 2s 37ms/step - loss: 0.0500 - binary_accuracy: 0.9485 - val_loss: 0.0866 - val_binary_accuracy: 0.8844\n",
            "Epoch 5/10\n",
            "59/59 [==============================] - 2s 39ms/step - loss: 0.0364 - binary_accuracy: 0.9646 - val_loss: 0.0874 - val_binary_accuracy: 0.8812\n",
            "Epoch 6/10\n",
            "59/59 [==============================] - 2s 37ms/step - loss: 0.0270 - binary_accuracy: 0.9768 - val_loss: 0.0897 - val_binary_accuracy: 0.8809\n",
            "Epoch 7/10\n",
            "59/59 [==============================] - 2s 37ms/step - loss: 0.0202 - binary_accuracy: 0.9829 - val_loss: 0.0925 - val_binary_accuracy: 0.8772\n",
            "Epoch 8/10\n",
            "59/59 [==============================] - 2s 36ms/step - loss: 0.0158 - binary_accuracy: 0.9871 - val_loss: 0.0951 - val_binary_accuracy: 0.8768\n",
            "Epoch 9/10\n",
            "59/59 [==============================] - 2s 39ms/step - loss: 0.0132 - binary_accuracy: 0.9891 - val_loss: 0.0971 - val_binary_accuracy: 0.8762\n",
            "Epoch 10/10\n",
            "59/59 [==============================] - 2s 39ms/step - loss: 0.0113 - binary_accuracy: 0.9905 - val_loss: 0.0984 - val_binary_accuracy: 0.8760\n"
          ]
        }
      ]
    },
    {
      "cell_type": "code",
      "source": [
        "#let's take a look what the history content\n",
        "history_dict = history.history\n",
        "history_dict.keys()"
      ],
      "metadata": {
        "colab": {
          "base_uri": "https://localhost:8080/"
        },
        "id": "PaoviKE-zWrG",
        "outputId": "91d4b91b-3650-432d-e87c-ad36baa78cc3"
      },
      "execution_count": 22,
      "outputs": [
        {
          "output_type": "execute_result",
          "data": {
            "text/plain": [
              "dict_keys(['loss', 'binary_accuracy', 'val_loss', 'val_binary_accuracy'])"
            ]
          },
          "metadata": {},
          "execution_count": 22
        }
      ]
    },
    {
      "cell_type": "code",
      "source": [
        "#ploting the training and validation loss\n",
        "import matplotlib.pyplot as plt\n",
        "loss_values = history_dict['loss']\n",
        "val_loss_values = history_dict['val_loss']\n",
        "epochs = range(1,11)\n",
        "plt.plot(epochs,loss_values,'bo',label='Training loss')\n",
        "plt.plot(epochs,val_loss_values,'b',label='Validation loss')\n",
        "plt.title('Training and validation loss')\n",
        "plt.xlabel('Epochs')\n",
        "plt.ylabel('Loss')\n",
        "plt.legend()\n",
        "plt.show()"
      ],
      "metadata": {
        "colab": {
          "base_uri": "https://localhost:8080/",
          "height": 295
        },
        "id": "_hd3OvpRzjLD",
        "outputId": "4654494d-995e-4177-82b7-59fe4efc8208"
      },
      "execution_count": 23,
      "outputs": [
        {
          "output_type": "display_data",
          "data": {
            "text/plain": [
              "<Figure size 432x288 with 1 Axes>"
            ],
            "image/png": "[encoded data removed]"
          },
          "metadata": {
            "needs_background": "light"
          }
        }
      ]
    },
    {
      "cell_type": "code",
      "source": [
        "#ploting the training and validation accuracy\n",
        "import matplotlib.pyplot as plt\n",
        "loss_values = history_dict['binary_accuracy']\n",
        "val_loss_values = history_dict['val_binary_accuracy']\n",
        "epochs = range(1,11)\n",
        "plt.plot(epochs,loss_values,'bo',label='Training Accuracy')\n",
        "plt.plot(epochs,val_loss_values,'b',label='Validation Accuracy')\n",
        "plt.title('Training and validation Accuracy')\n",
        "plt.xlabel('Epochs')\n",
        "plt.ylabel('Accuracy')\n",
        "plt.legend()\n",
        "plt.show()"
      ],
      "metadata": {
        "colab": {
          "base_uri": "https://localhost:8080/",
          "height": 295
        },
        "id": "wcByCIkjzpEU",
        "outputId": "9ad58086-dd16-421e-fbf9-4e29b4d9334b"
      },
      "execution_count": 24,
      "outputs": [
        {
          "output_type": "display_data",
          "data": {
            "text/plain": [
              "<Figure size 432x288 with 1 Axes>"
            ],
            "image/png": "[encoded data removed]"
          },
          "metadata": {
            "needs_background": "light"
          }
        }
      ]
    },
    {
      "cell_type": "code",
      "source": [
        "#Testing the model\n",
        "results = model.evaluate(x_test,y_test)"
      ],
      "metadata": {
        "colab": {
          "base_uri": "https://localhost:8080/"
        },
        "id": "wFr2V-iKzzw2",
        "outputId": "91344696-d1a9-40cb-91c4-f572e93144cb"
      },
      "execution_count": 25,
      "outputs": [
        {
          "output_type": "stream",
          "name": "stdout",
          "text": [
            "782/782 [==============================] - 3s 3ms/step - loss: 0.1059 - binary_accuracy: 0.8670\n"
          ]
        }
      ]
    },
    {
      "cell_type": "code",
      "source": [
        "#generate predictions on new data\n",
        "model.predict(x_test)"
      ],
      "metadata": {
        "colab": {
          "base_uri": "https://localhost:8080/"
        },
        "id": "9ccj0A9bz_Dc",
        "outputId": "3eb6e86e-b374-4f26-b3e8-7e5e56732ebe"
      },
      "execution_count": 26,
      "outputs": [
        {
          "output_type": "execute_result",
          "data": {
            "text/plain": [
              "array([[0.05096027],\n",
              "       [0.97151226],\n",
              "       [0.9534374 ],\n",
              "       ...,\n",
              "       [0.04028207],\n",
              "       [0.05849656],\n",
              "       [0.93330705]], dtype=float32)"
            ]
          },
          "metadata": {},
          "execution_count": 26
        }
      ]
    },
    {
      "cell_type": "code",
      "source": [
        "#Original\n",
        "model_1 = models.Sequential()\n",
        "model_1.add(layers.Dense(16,activation='relu', input_shape=(10000,)))\n",
        "model_1.add(layers.Dense(16,activation='relu'))\n",
        "model_1.add(layers.Dense(1,activation='sigmoid'))\n",
        "#model_1.summary()\n",
        "model_1.compile(optimizer=keras.optimizers.RMSprop(lr=0.0001), loss=losses.binary_crossentropy, metrics=[metrics.binary_accuracy])\n",
        "history_1 = model_1.fit(partial_x_train,partial_y_train,epochs=10,batch_size=512,validation_data=(x_val,y_val))"
      ],
      "metadata": {
        "id": "AtzqChhd0JKf",
        "colab": {
          "base_uri": "https://localhost:8080/"
        },
        "outputId": "80fc71d6-6dda-430a-f22e-fe842cfe0007"
      },
      "execution_count": 27,
      "outputs": [
        {
          "output_type": "stream",
          "name": "stderr",
          "text": [
            "/usr/local/lib/python3.7/dist-packages/keras/optimizer_v2/rmsprop.py:130: UserWarning: The `lr` argument is deprecated, use `learning_rate` instead.\n",
            "  super(RMSprop, self).__init__(name, **kwargs)\n"
          ]
        },
        {
          "output_type": "stream",
          "name": "stdout",
          "text": [
            "Epoch 1/10\n",
            "30/30 [==============================] - 4s 92ms/step - loss: 0.6833 - binary_accuracy: 0.5756 - val_loss: 0.6722 - val_binary_accuracy: 0.5980\n",
            "Epoch 2/10\n",
            "30/30 [==============================] - 1s 44ms/step - loss: 0.6550 - binary_accuracy: 0.6904 - val_loss: 0.6428 - val_binary_accuracy: 0.7151\n",
            "Epoch 3/10\n",
            "30/30 [==============================] - 1s 44ms/step - loss: 0.6220 - binary_accuracy: 0.7685 - val_loss: 0.6127 - val_binary_accuracy: 0.7975\n",
            "Epoch 4/10\n",
            "30/30 [==============================] - 1s 45ms/step - loss: 0.5898 - binary_accuracy: 0.8192 - val_loss: 0.5839 - val_binary_accuracy: 0.8097\n",
            "Epoch 5/10\n",
            "30/30 [==============================] - 1s 44ms/step - loss: 0.5587 - binary_accuracy: 0.8392 - val_loss: 0.5566 - val_binary_accuracy: 0.8321\n",
            "Epoch 6/10\n",
            "30/30 [==============================] - 1s 44ms/step - loss: 0.5289 - binary_accuracy: 0.8558 - val_loss: 0.5301 - val_binary_accuracy: 0.8381\n",
            "Epoch 7/10\n",
            "30/30 [==============================] - 1s 45ms/step - loss: 0.5007 - binary_accuracy: 0.8655 - val_loss: 0.5060 - val_binary_accuracy: 0.8442\n",
            "Epoch 8/10\n",
            "30/30 [==============================] - 1s 44ms/step - loss: 0.4741 - binary_accuracy: 0.8734 - val_loss: 0.4825 - val_binary_accuracy: 0.8531\n",
            "Epoch 9/10\n",
            "30/30 [==============================] - 1s 44ms/step - loss: 0.4488 - binary_accuracy: 0.8797 - val_loss: 0.4611 - val_binary_accuracy: 0.8561\n",
            "Epoch 10/10\n",
            "30/30 [==============================] - 1s 44ms/step - loss: 0.4252 - binary_accuracy: 0.8864 - val_loss: 0.4410 - val_binary_accuracy: 0.8608\n"
          ]
        }
      ]
    },
    {
      "cell_type": "code",
      "source": [
        "# model with lower capacity\n",
        "model_2 = models.Sequential()\n",
        "model_2.add(layers.Dense(4,activation='relu', input_shape=(10000,)))\n",
        "model_2.add(layers.Dense(4,activation='relu'))\n",
        "model_2.add(layers.Dense(1,activation='sigmoid'))\n",
        "#model_1.summary()\n",
        "model_2.compile(optimizer=keras.optimizers.RMSprop(lr=0.0001), loss=losses.binary_crossentropy, metrics=[metrics.binary_accuracy])\n",
        "history_2 = model_2.fit(partial_x_train,partial_y_train,epochs=10,batch_size=512,validation_data=(x_val,y_val))"
      ],
      "metadata": {
        "colab": {
          "base_uri": "https://localhost:8080/"
        },
        "id": "AOcksjyVDv0I",
        "outputId": "f254984f-5ae1-4ef4-80b4-e23ae49adc47"
      },
      "execution_count": 28,
      "outputs": [
        {
          "output_type": "stream",
          "name": "stderr",
          "text": [
            "/usr/local/lib/python3.7/dist-packages/keras/optimizer_v2/rmsprop.py:130: UserWarning: The `lr` argument is deprecated, use `learning_rate` instead.\n",
            "  super(RMSprop, self).__init__(name, **kwargs)\n"
          ]
        },
        {
          "output_type": "stream",
          "name": "stdout",
          "text": [
            "Epoch 1/10\n",
            "30/30 [==============================] - 2s 53ms/step - loss: 0.6916 - binary_accuracy: 0.5192 - val_loss: 0.6870 - val_binary_accuracy: 0.5765\n",
            "Epoch 2/10\n",
            "30/30 [==============================] - 1s 42ms/step - loss: 0.6779 - binary_accuracy: 0.6469 - val_loss: 0.6686 - val_binary_accuracy: 0.6866\n",
            "Epoch 3/10\n",
            "30/30 [==============================] - 1s 42ms/step - loss: 0.6544 - binary_accuracy: 0.7278 - val_loss: 0.6452 - val_binary_accuracy: 0.7533\n",
            "Epoch 4/10\n",
            "30/30 [==============================] - 1s 41ms/step - loss: 0.6293 - binary_accuracy: 0.7837 - val_loss: 0.6227 - val_binary_accuracy: 0.7795\n",
            "Epoch 5/10\n",
            "30/30 [==============================] - 1s 41ms/step - loss: 0.6056 - binary_accuracy: 0.8125 - val_loss: 0.6019 - val_binary_accuracy: 0.8044\n",
            "Epoch 6/10\n",
            "30/30 [==============================] - 1s 41ms/step - loss: 0.5833 - binary_accuracy: 0.8352 - val_loss: 0.5822 - val_binary_accuracy: 0.8207\n",
            "Epoch 7/10\n",
            "30/30 [==============================] - 1s 41ms/step - loss: 0.5620 - binary_accuracy: 0.8496 - val_loss: 0.5637 - val_binary_accuracy: 0.8351\n",
            "Epoch 8/10\n",
            "30/30 [==============================] - 1s 41ms/step - loss: 0.5420 - binary_accuracy: 0.8589 - val_loss: 0.5461 - val_binary_accuracy: 0.8401\n",
            "Epoch 9/10\n",
            "30/30 [==============================] - 1s 40ms/step - loss: 0.5231 - binary_accuracy: 0.8671 - val_loss: 0.5297 - val_binary_accuracy: 0.8445\n",
            "Epoch 10/10\n",
            "30/30 [==============================] - 1s 41ms/step - loss: 0.5051 - binary_accuracy: 0.8715 - val_loss: 0.5142 - val_binary_accuracy: 0.8512\n"
          ]
        }
      ]
    },
    {
      "cell_type": "code",
      "source": [
        "model_3 = models.Sequential()\n",
        "model_3.add(layers.Dense(512,activation='relu', input_shape=(10000,)))\n",
        "model_3.add(layers.Dense(512,activation='relu'))\n",
        "model_3.add(layers.Dense(1,activation='sigmoid'))\n",
        "#model_1.summary()\n",
        "model_3.compile(optimizer=keras.optimizers.RMSprop(lr=0.0001), loss=losses.binary_crossentropy, metrics=[metrics.binary_accuracy])\n",
        "history_3 = model_3.fit(partial_x_train,partial_y_train,epochs=10,batch_size=512,validation_data=(x_val,y_val))"
      ],
      "metadata": {
        "colab": {
          "base_uri": "https://localhost:8080/"
        },
        "id": "GNHla1ezEaLE",
        "outputId": "8f861275-8a99-483c-cfe5-ef6d66226150"
      },
      "execution_count": 29,
      "outputs": [
        {
          "output_type": "stream",
          "name": "stderr",
          "text": [
            "/usr/local/lib/python3.7/dist-packages/keras/optimizer_v2/rmsprop.py:130: UserWarning: The `lr` argument is deprecated, use `learning_rate` instead.\n",
            "  super(RMSprop, self).__init__(name, **kwargs)\n"
          ]
        },
        {
          "output_type": "stream",
          "name": "stdout",
          "text": [
            "Epoch 1/10\n",
            "30/30 [==============================] - 9s 293ms/step - loss: 0.5667 - binary_accuracy: 0.7753 - val_loss: 0.4412 - val_binary_accuracy: 0.8445\n",
            "Epoch 2/10\n",
            "30/30 [==============================] - 9s 287ms/step - loss: 0.3447 - binary_accuracy: 0.8849 - val_loss: 0.3255 - val_binary_accuracy: 0.8787\n",
            "Epoch 3/10\n",
            "30/30 [==============================] - 9s 288ms/step - loss: 0.2420 - binary_accuracy: 0.9185 - val_loss: 0.3032 - val_binary_accuracy: 0.8805\n",
            "Epoch 4/10\n",
            "30/30 [==============================] - 9s 287ms/step - loss: 0.1889 - binary_accuracy: 0.9366 - val_loss: 0.2791 - val_binary_accuracy: 0.8921\n",
            "Epoch 5/10\n",
            "30/30 [==============================] - 9s 288ms/step - loss: 0.1481 - binary_accuracy: 0.9546 - val_loss: 0.2781 - val_binary_accuracy: 0.8876\n",
            "Epoch 6/10\n",
            "30/30 [==============================] - 9s 288ms/step - loss: 0.1167 - binary_accuracy: 0.9656 - val_loss: 0.2976 - val_binary_accuracy: 0.8847\n",
            "Epoch 7/10\n",
            "30/30 [==============================] - 9s 288ms/step - loss: 0.0915 - binary_accuracy: 0.9759 - val_loss: 0.2967 - val_binary_accuracy: 0.8859\n",
            "Epoch 8/10\n",
            "30/30 [==============================] - 9s 289ms/step - loss: 0.0709 - binary_accuracy: 0.9829 - val_loss: 0.3062 - val_binary_accuracy: 0.8865\n",
            "Epoch 9/10\n",
            "30/30 [==============================] - 9s 286ms/step - loss: 0.0513 - binary_accuracy: 0.9893 - val_loss: 0.3312 - val_binary_accuracy: 0.8818\n",
            "Epoch 10/10\n",
            "30/30 [==============================] - 9s 285ms/step - loss: 0.0395 - binary_accuracy: 0.9931 - val_loss: 0.3504 - val_binary_accuracy: 0.8839\n"
          ]
        }
      ]
    },
    {
      "cell_type": "code",
      "source": [
        "# Adding L1 regularization\n",
        "from keras import regularizers\n",
        "model_4 = models.Sequential()\n",
        "model_4.add(layers.Dense(16,kernel_regularizer = regularizers.l1(0.001), activation='relu', input_shape=(10000,)))\n",
        "model_4.add(layers.Dense(16,kernel_regularizer = regularizers.l1(0.001), activation='relu'))\n",
        "model_4.add(layers.Dense(1,activation='sigmoid'))\n",
        "#model_1.summary()\n",
        "model_4.compile(optimizer=keras.optimizers.RMSprop(lr=0.0001), loss=losses.binary_crossentropy, metrics=[metrics.binary_accuracy])\n",
        "history_4 = model_4.fit(partial_x_train,partial_y_train,epochs=10,batch_size=512,validation_data=(x_val,y_val))"
      ],
      "metadata": {
        "colab": {
          "base_uri": "https://localhost:8080/"
        },
        "id": "__yO2S6FEvqa",
        "outputId": "69f6966c-17ca-4434-d3c5-89e03c03d46b"
      },
      "execution_count": 30,
      "outputs": [
        {
          "output_type": "stream",
          "name": "stderr",
          "text": [
            "/usr/local/lib/python3.7/dist-packages/keras/optimizer_v2/rmsprop.py:130: UserWarning: The `lr` argument is deprecated, use `learning_rate` instead.\n",
            "  super(RMSprop, self).__init__(name, **kwargs)\n"
          ]
        },
        {
          "output_type": "stream",
          "name": "stdout",
          "text": [
            "Epoch 1/10\n",
            "30/30 [==============================] - 3s 69ms/step - loss: 2.3903 - binary_accuracy: 0.5057 - val_loss: 2.1440 - val_binary_accuracy: 0.4999\n",
            "Epoch 2/10\n",
            "30/30 [==============================] - 1s 44ms/step - loss: 1.9607 - binary_accuracy: 0.5116 - val_loss: 1.7710 - val_binary_accuracy: 0.5066\n",
            "Epoch 3/10\n",
            "30/30 [==============================] - 1s 44ms/step - loss: 1.6147 - binary_accuracy: 0.5373 - val_loss: 1.4560 - val_binary_accuracy: 0.5526\n",
            "Epoch 4/10\n",
            "30/30 [==============================] - 1s 44ms/step - loss: 1.3253 - binary_accuracy: 0.6059 - val_loss: 1.1967 - val_binary_accuracy: 0.6155\n",
            "Epoch 5/10\n",
            "30/30 [==============================] - 1s 44ms/step - loss: 1.0920 - binary_accuracy: 0.6679 - val_loss: 0.9933 - val_binary_accuracy: 0.6987\n",
            "Epoch 6/10\n",
            "30/30 [==============================] - 1s 47ms/step - loss: 0.9140 - binary_accuracy: 0.7115 - val_loss: 0.8449 - val_binary_accuracy: 0.7019\n",
            "Epoch 7/10\n",
            "30/30 [==============================] - 2s 55ms/step - loss: 0.7906 - binary_accuracy: 0.7366 - val_loss: 0.7506 - val_binary_accuracy: 0.7448\n",
            "Epoch 8/10\n",
            "30/30 [==============================] - 1s 44ms/step - loss: 0.7218 - binary_accuracy: 0.7619 - val_loss: 0.7108 - val_binary_accuracy: 0.7578\n",
            "Epoch 9/10\n",
            "30/30 [==============================] - 1s 45ms/step - loss: 0.6982 - binary_accuracy: 0.7732 - val_loss: 0.6975 - val_binary_accuracy: 0.7925\n",
            "Epoch 10/10\n",
            "30/30 [==============================] - 1s 45ms/step - loss: 0.6866 - binary_accuracy: 0.7927 - val_loss: 0.6875 - val_binary_accuracy: 0.7773\n"
          ]
        }
      ]
    },
    {
      "cell_type": "code",
      "source": [
        "# Adding L2 regularization\n",
        "from keras import regularizers\n",
        "model_5 = models.Sequential()\n",
        "model_5.add(layers.Dense(16,kernel_regularizer = regularizers.l2(0.001), activation='relu', input_shape=(10000,)))\n",
        "model_5.add(layers.Dense(16,kernel_regularizer = regularizers.l2(0.001), activation='relu'))\n",
        "model_5.add(layers.Dense(1,activation='sigmoid'))\n",
        "#model_1.summary()\n",
        "model_5.compile(optimizer=keras.optimizers.RMSprop(lr=0.0001), loss=losses.binary_crossentropy, metrics=[metrics.binary_accuracy])\n",
        "history_5 = model_5.fit(partial_x_train,partial_y_train,epochs=10,batch_size=512,validation_data=(x_val,y_val))"
      ],
      "metadata": {
        "colab": {
          "base_uri": "https://localhost:8080/"
        },
        "id": "W6yQBLjMGcYR",
        "outputId": "2f83938b-1287-4ac6-8b4e-fa994ff4d416"
      },
      "execution_count": 31,
      "outputs": [
        {
          "output_type": "stream",
          "name": "stderr",
          "text": [
            "/usr/local/lib/python3.7/dist-packages/keras/optimizer_v2/rmsprop.py:130: UserWarning: The `lr` argument is deprecated, use `learning_rate` instead.\n",
            "  super(RMSprop, self).__init__(name, **kwargs)\n"
          ]
        },
        {
          "output_type": "stream",
          "name": "stdout",
          "text": [
            "Epoch 1/10\n",
            "30/30 [==============================] - 3s 69ms/step - loss: 0.7327 - binary_accuracy: 0.5667 - val_loss: 0.7202 - val_binary_accuracy: 0.6223\n",
            "Epoch 2/10\n",
            "30/30 [==============================] - 1s 45ms/step - loss: 0.6997 - binary_accuracy: 0.6874 - val_loss: 0.6832 - val_binary_accuracy: 0.7243\n",
            "Epoch 3/10\n",
            "30/30 [==============================] - 1s 47ms/step - loss: 0.6578 - binary_accuracy: 0.7721 - val_loss: 0.6422 - val_binary_accuracy: 0.7802\n",
            "Epoch 4/10\n",
            "30/30 [==============================] - 1s 46ms/step - loss: 0.6139 - binary_accuracy: 0.8217 - val_loss: 0.6055 - val_binary_accuracy: 0.8169\n",
            "Epoch 5/10\n",
            "30/30 [==============================] - 1s 45ms/step - loss: 0.5754 - binary_accuracy: 0.8482 - val_loss: 0.5732 - val_binary_accuracy: 0.8315\n",
            "Epoch 6/10\n",
            "30/30 [==============================] - 2s 56ms/step - loss: 0.5411 - binary_accuracy: 0.8639 - val_loss: 0.5438 - val_binary_accuracy: 0.8428\n",
            "Epoch 7/10\n",
            "30/30 [==============================] - 1s 46ms/step - loss: 0.5098 - binary_accuracy: 0.8751 - val_loss: 0.5181 - val_binary_accuracy: 0.8458\n",
            "Epoch 8/10\n",
            "30/30 [==============================] - 1s 47ms/step - loss: 0.4814 - binary_accuracy: 0.8835 - val_loss: 0.4937 - val_binary_accuracy: 0.8556\n",
            "Epoch 9/10\n",
            "30/30 [==============================] - 1s 46ms/step - loss: 0.4555 - binary_accuracy: 0.8902 - val_loss: 0.4726 - val_binary_accuracy: 0.8624\n",
            "Epoch 10/10\n",
            "30/30 [==============================] - 1s 46ms/step - loss: 0.4325 - binary_accuracy: 0.8957 - val_loss: 0.4544 - val_binary_accuracy: 0.8667\n"
          ]
        }
      ]
    },
    {
      "cell_type": "code",
      "source": [
        "# Adding L1_L2 regularization\n",
        "from keras import regularizers\n",
        "model_6 = models.Sequential()\n",
        "model_6.add(layers.Dense(16,kernel_regularizer = regularizers.l1_l2(0.001), activation='relu', input_shape=(10000,)))\n",
        "model_6.add(layers.Dense(16,kernel_regularizer = regularizers.l1_l2(0.001), activation='relu'))\n",
        "model_6.add(layers.Dense(1,activation='sigmoid'))\n",
        "#model_1.summary()\n",
        "model_6.compile(optimizer=keras.optimizers.RMSprop(lr=0.0001), loss=losses.binary_crossentropy, metrics=[metrics.binary_accuracy])\n",
        "history_6 = model_6.fit(partial_x_train,partial_y_train,epochs=10,batch_size=512,validation_data=(x_val,y_val))"
      ],
      "metadata": {
        "colab": {
          "base_uri": "https://localhost:8080/"
        },
        "id": "okPbGFRYGq0O",
        "outputId": "420651f8-4126-4757-bf2b-fe85df90dafd"
      },
      "execution_count": 32,
      "outputs": [
        {
          "output_type": "stream",
          "name": "stderr",
          "text": [
            "/usr/local/lib/python3.7/dist-packages/keras/optimizer_v2/rmsprop.py:130: UserWarning: The `lr` argument is deprecated, use `learning_rate` instead.\n",
            "  super(RMSprop, self).__init__(name, **kwargs)\n"
          ]
        },
        {
          "output_type": "stream",
          "name": "stdout",
          "text": [
            "Epoch 1/10\n",
            "30/30 [==============================] - 3s 79ms/step - loss: 2.7729 - binary_accuracy: 0.5152 - val_loss: 2.4743 - val_binary_accuracy: 0.5269\n",
            "Epoch 2/10\n",
            "30/30 [==============================] - 1s 48ms/step - loss: 2.2565 - binary_accuracy: 0.5519 - val_loss: 2.0320 - val_binary_accuracy: 0.5786\n",
            "Epoch 3/10\n",
            "30/30 [==============================] - 1s 47ms/step - loss: 1.8489 - binary_accuracy: 0.6297 - val_loss: 1.6627 - val_binary_accuracy: 0.6546\n",
            "Epoch 4/10\n",
            "30/30 [==============================] - 1s 47ms/step - loss: 1.5125 - binary_accuracy: 0.6999 - val_loss: 1.3653 - val_binary_accuracy: 0.6981\n",
            "Epoch 5/10\n",
            "30/30 [==============================] - 1s 47ms/step - loss: 1.2463 - binary_accuracy: 0.7460 - val_loss: 1.1347 - val_binary_accuracy: 0.7602\n",
            "Epoch 6/10\n",
            "30/30 [==============================] - 1s 48ms/step - loss: 1.0456 - binary_accuracy: 0.7794 - val_loss: 0.9678 - val_binary_accuracy: 0.7973\n",
            "Epoch 7/10\n",
            "30/30 [==============================] - 2s 60ms/step - loss: 0.9067 - binary_accuracy: 0.8025 - val_loss: 0.8607 - val_binary_accuracy: 0.8073\n",
            "Epoch 8/10\n",
            "30/30 [==============================] - 1s 48ms/step - loss: 0.8260 - binary_accuracy: 0.8143 - val_loss: 0.8099 - val_binary_accuracy: 0.8133\n",
            "Epoch 9/10\n",
            "30/30 [==============================] - 1s 47ms/step - loss: 0.7942 - binary_accuracy: 0.8219 - val_loss: 0.7918 - val_binary_accuracy: 0.8152\n",
            "Epoch 10/10\n",
            "30/30 [==============================] - 2s 58ms/step - loss: 0.7785 - binary_accuracy: 0.8290 - val_loss: 0.7783 - val_binary_accuracy: 0.8170\n"
          ]
        }
      ]
    },
    {
      "cell_type": "code",
      "source": [
        "model_7 = models.Sequential()\n",
        "model_7.add(layers.Dense(16,activation='relu', input_shape=(10000,)))\n",
        "model_7.add(layers.Dropout(0.2))\n",
        "model_7.add(layers.Dense(16,activation='relu'))\n",
        "model_7.add(layers.Dropout(0.4))\n",
        "model_7.add(layers.Dense(1,activation='sigmoid'))\n",
        "#model_1.summary()\n",
        "model_7.compile(optimizer=keras.optimizers.RMSprop(lr=0.0001), loss=losses.binary_crossentropy, metrics=[metrics.binary_accuracy])\n",
        "history_7 = model_7.fit(partial_x_train,partial_y_train,epochs=10,batch_size=512,validation_data=(x_val,y_val))"
      ],
      "metadata": {
        "colab": {
          "base_uri": "https://localhost:8080/"
        },
        "id": "xrBBENu8G94V",
        "outputId": "95b43f1a-44d8-4686-d778-52f14c7829dc"
      },
      "execution_count": 34,
      "outputs": [
        {
          "output_type": "stream",
          "name": "stderr",
          "text": [
            "/usr/local/lib/python3.7/dist-packages/keras/optimizer_v2/rmsprop.py:130: UserWarning: The `lr` argument is deprecated, use `learning_rate` instead.\n",
            "  super(RMSprop, self).__init__(name, **kwargs)\n"
          ]
        },
        {
          "output_type": "stream",
          "name": "stdout",
          "text": [
            "Epoch 1/10\n",
            "30/30 [==============================] - 3s 68ms/step - loss: 0.6854 - binary_accuracy: 0.5501 - val_loss: 0.6731 - val_binary_accuracy: 0.6628\n",
            "Epoch 2/10\n",
            "30/30 [==============================] - 1s 45ms/step - loss: 0.6641 - binary_accuracy: 0.6276 - val_loss: 0.6472 - val_binary_accuracy: 0.7286\n",
            "Epoch 3/10\n",
            "30/30 [==============================] - 1s 46ms/step - loss: 0.6372 - binary_accuracy: 0.6753 - val_loss: 0.6197 - val_binary_accuracy: 0.7619\n",
            "Epoch 4/10\n",
            "30/30 [==============================] - 1s 44ms/step - loss: 0.6128 - binary_accuracy: 0.7055 - val_loss: 0.5927 - val_binary_accuracy: 0.8074\n",
            "Epoch 5/10\n",
            "30/30 [==============================] - 1s 45ms/step - loss: 0.5906 - binary_accuracy: 0.7325 - val_loss: 0.5673 - val_binary_accuracy: 0.8231\n",
            "Epoch 6/10\n",
            "30/30 [==============================] - 1s 45ms/step - loss: 0.5679 - binary_accuracy: 0.7515 - val_loss: 0.5429 - val_binary_accuracy: 0.8365\n",
            "Epoch 7/10\n",
            "30/30 [==============================] - 2s 58ms/step - loss: 0.5459 - binary_accuracy: 0.7731 - val_loss: 0.5205 - val_binary_accuracy: 0.8440\n",
            "Epoch 8/10\n",
            "30/30 [==============================] - 1s 48ms/step - loss: 0.5254 - binary_accuracy: 0.7866 - val_loss: 0.5003 - val_binary_accuracy: 0.8512\n",
            "Epoch 9/10\n",
            "30/30 [==============================] - 1s 45ms/step - loss: 0.5059 - binary_accuracy: 0.7980 - val_loss: 0.4810 - val_binary_accuracy: 0.8573\n",
            "Epoch 10/10\n",
            "30/30 [==============================] - 1s 45ms/step - loss: 0.4911 - binary_accuracy: 0.8077 - val_loss: 0.4637 - val_binary_accuracy: 0.8617\n"
          ]
        }
      ]
    },
    {
      "cell_type": "code",
      "source": [
        "#ploting the training and validation loss\n",
        "import matplotlib.pyplot as plt\n",
        "val_loss_values_1 = history_1.history['val_loss']\n",
        "val_loss_values_2 = history_2.history['val_loss']\n",
        "val_loss_values_3 = history_3.history['val_loss']\n",
        "val_loss_values_4 = history_4.history['val_loss']\n",
        "val_loss_values_5 = history_5.history['val_loss']\n",
        "val_loss_values_6 = history_6.history['val_loss']\n",
        "val_loss_values_7 = history_7.history['val_loss']\n",
        "epochs = range(1,11)\n",
        "#plt.plot(epochs,loss_values, label='Training loss')\n",
        "plt.plot(epochs,val_loss_values_1,label='Original Model')\n",
        "plt.plot(epochs,val_loss_values_2,label='lower_capacity')\n",
        "plt.plot(epochs,val_loss_values_3,label='higher_capacity')\n",
        "plt.plot(epochs,val_loss_values_4,label='L1 Regularization')\n",
        "plt.plot(epochs,val_loss_values_5,label='L2 Regularization')\n",
        "plt.plot(epochs,val_loss_values_6,label='L1-L2 Regularization')\n",
        "plt.plot(epochs,val_loss_values_7,'x',label='Dropout')\n",
        "plt.title('Comparison of the validation loss')\n",
        "plt.xlabel('Epochs')\n",
        "plt.ylabel('Loss')\n",
        "plt.legend()\n",
        "plt.show()"
      ],
      "metadata": {
        "colab": {
          "base_uri": "https://localhost:8080/",
          "height": 295
        },
        "id": "0ss3gMPOJE-H",
        "outputId": "ac121307-07bf-4785-a2dc-c1e40dc9af5f"
      },
      "execution_count": 36,
      "outputs": [
        {
          "output_type": "display_data",
          "data": {
            "text/plain": [
              "<Figure size 432x288 with 1 Axes>"
            ],
            "image/png": "[encoded data removed]"
          },
          "metadata": {
            "needs_background": "light"
          }
        }
      ]
    },
    {
      "cell_type": "code",
      "source": [
        ""
      ],
      "metadata": {
        "id": "E4PKieIqKnHj"
      },
      "execution_count": null,
      "outputs": []
    }
  ]
}